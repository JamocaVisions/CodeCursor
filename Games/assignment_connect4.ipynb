{
  "cells": [
    {
      "cell_type": "markdown",
      "metadata": {
        "id": "jKvjKsiThOcl"
      },
      "source": [
        "# Adversarial Search: Playing Connect 4\n",
        "\n",
        "Student Name: [Add your name]\n",
        "\n",
        "I have used the following AI tools: [list tools]\n",
        "\n",
        "I understand that my submission needs to be my own work: [your initials]\n",
        "\n",
        "## Instructions\n",
        "\n",
        "Total Points: Undergraduates 100, graduate students 110\n",
        "\n",
        "Complete this notebook and submit it. The notebook needs to be a complete project report with your implementation, documentation including a short discussion of how your implementation works and your design choices, and experimental results (e.g., tables and charts with simulation results) with a short discussion of what they mean. Use the provided notebook cells and insert additional code and markdown cells as needed. Submit the completely rendered notebook as a HTML file.\n",
        "\n",
        "\n",
        "## Introduction\n",
        "\n",
        "You will implement different versions of agents that play Connect 4:\n",
        "\n",
        "> \"Connect 4 is a two-player connection board game, in which the players choose a color and then take turns dropping colored discs into a seven-column, six-row vertically suspended grid. The pieces fall straight down, occupying the lowest available space within the column. The objective of the game is to be the first to form a horizontal, vertical, or diagonal line of four of one's own discs.\" (see [Connect Four on Wikipedia](https://en.wikipedia.org/wiki/Connect_Four))\n",
        "\n",
        "Note that [Connect-4 has been solved](https://en.wikipedia.org/wiki/Connect_Four#Mathematical_solution)\n",
        "in 1988. A connect-4 solver with a discussion of how to solve different parts of the problem can be found here: https://connect4.gamesolver.org/en/"
      ]
    },
    {
      "cell_type": "markdown",
      "metadata": {
        "id": "ctU-mOKIhOcn"
      },
      "source": [
        "## Task 1: Defining the Search Problem [10 point]\n",
        "\n",
        "Define the components of the search problem:\n",
        "\n",
        "* Initial state\n",
        "* Actions\n",
        "* Transition model (result function)\n",
        "* Goal state (terminal state and utility)\n",
        "\n",
        "Describe each component and then implement it as a function that can be used by search algorithms."
      ]
    },
    {
      "cell_type": "code",
      "execution_count": null,
      "metadata": {
        "id": "KdnTy-CKhOcn"
      },
      "outputs": [],
      "source": [
        "# Your code/answer goes here."
      ]
    },
    {
      "cell_type": "markdown",
      "metadata": {
        "id": "RD1LL5XnhOco"
      },
      "source": [
        "How big is the state space? Give an estimate and explain it."
      ]
    },
    {
      "cell_type": "code",
      "execution_count": null,
      "metadata": {
        "id": "0E12ifw6hOco"
      },
      "outputs": [],
      "source": [
        "# Your answer goes here."
      ]
    },
    {
      "cell_type": "markdown",
      "metadata": {
        "id": "hBMptXpzhOco"
      },
      "source": [
        "How big is the game tree that minimax search will go through? Give an estimate and explain it."
      ]
    },
    {
      "cell_type": "code",
      "execution_count": null,
      "metadata": {
        "id": "e2pZtVE7hOco"
      },
      "outputs": [],
      "source": [
        "# Your answer goes here."
      ]
    },
    {
      "cell_type": "markdown",
      "metadata": {
        "id": "cueutrVYhOco"
      },
      "source": [
        "## Task 2: Game Environment and Random Agent [25 point]\n",
        "\n",
        "Use a numpy character array as the board."
      ]
    },
    {
      "cell_type": "code",
      "execution_count": 3,
      "metadata": {
        "colab": {
          "base_uri": "https://localhost:8080/"
        },
        "id": "gICGI8Z1hOcp",
        "outputId": "3764921d-f49c-4d69-c7f0-427fb356a688"
      },
      "outputs": [
        {
          "output_type": "stream",
          "name": "stdout",
          "text": [
            "[[0 0 0 0 0 0 0]\n",
            " [0 0 0 0 0 0 0]\n",
            " [0 0 0 0 0 0 0]\n",
            " [0 0 0 0 0 0 0]\n",
            " [0 0 0 0 0 0 0]\n",
            " [0 0 0 0 0 0 0]]\n"
          ]
        }
      ],
      "source": [
        "import numpy as np\n",
        "\n",
        "def empty_board(shape=(6, 7)):\n",
        "    return np.full(shape=shape, fill_value=0)\n",
        "\n",
        "print(empty_board())"
      ]
    },
    {
      "cell_type": "markdown",
      "metadata": {
        "id": "r5zXdGLRhOcp"
      },
      "source": [
        "The standard board is $6 \\times 7$ but you can use smaller boards to test your code. Instead of colors (red and yellow), I use 1 and -1 to represent the players. Make sure that your agent functions all have the from: `agent_type(board, player = 1)`, where board is the current board position (in the format above) and player is the player whose next move it is and who the agent should play (as 1 and -1)."
      ]
    },
    {
      "cell_type": "code",
      "execution_count": 4,
      "metadata": {
        "tags": [],
        "colab": {
          "base_uri": "https://localhost:8080/",
          "height": 430
        },
        "id": "L4kThMuzhOcp",
        "outputId": "22a42cdb-cd8e-48c0-f15b-53de13e63a01"
      },
      "outputs": [
        {
          "output_type": "display_data",
          "data": {
            "text/plain": [
              "<Figure size 640x480 with 1 Axes>"
            ],
            "image/png": "[encoded data removed]"
          },
          "metadata": {}
        }
      ],
      "source": [
        "# Visualization code by Randolph Rankin\n",
        "\n",
        "import matplotlib.pyplot as plt\n",
        "\n",
        "def visualize(board):\n",
        "    plt.axes()\n",
        "    rectangle=plt.Rectangle((-0.5,len(board)*-1+0.5),len(board[0]),len(board),fc='blue')\n",
        "    circles=[]\n",
        "    for i,row in enumerate(board):\n",
        "        for j,val in enumerate(row):\n",
        "            color='white' if val==0 else 'red' if val==1 else 'yellow'\n",
        "            circles.append(plt.Circle((j,i*-1),0.4,fc=color))\n",
        "\n",
        "    plt.gca().add_patch(rectangle)\n",
        "    for circle in circles:\n",
        "        plt.gca().add_patch(circle)\n",
        "\n",
        "    plt.axis('scaled')\n",
        "    plt.show()\n",
        "\n",
        "board = [[0, 0, 0, 0, 0, 0, 0],\n",
        "         [0, 0, 0, 0, 0, 0, 0],\n",
        "         [0, 0, 0, 0, 0, 0, 0],\n",
        "         [0, 0, 0, 1, 0, 0, 0],\n",
        "         [0, 0, 0, 1, 0, 0, 0],\n",
        "         [0,-1,-1, 1,-1, 0, 0]]\n",
        "visualize(board)"
      ]
    },
    {
      "cell_type": "markdown",
      "metadata": {
        "tags": [],
        "id": "o2W7pIiDhOcp"
      },
      "source": [
        "Implement helper functions for:\n",
        "\n",
        "* A check for available actions in each state `actions(state)`.\n",
        "* The transition model `result(state, player, action)`.\n",
        "* Check for terminal states `terminal(state)`.\n",
        "* The utility function `utility(state, player)`.\n",
        "\n",
        "The player argument is used so your agent can play red or yellow.\n",
        "Make sure that all these functions work with boards of different sizes (number of columns and rows).\n",
        "You can follow the [tic-tac-toe example from class.](https://colab.research.google.com/github/mhahsler/CS7320-AI/blob/master/Games/tictactoe_definitions.ipynb)"
      ]
    },
    {
      "cell_type": "code",
      "execution_count": 228,
      "metadata": {
        "id": "ep0HVJlChOcp"
      },
      "outputs": [],
      "source": [
        "# Your code/ answer goes here.\n",
        "# Your code/ answer goes here.\n",
        "\n",
        "def actions(state):\n",
        "  rows, cols = np.where(np.array(state)==0)\n",
        "  available_spaces = [(int(row), int(col)) for row, col in zip(rows, cols)]\n",
        "  available_moves = []\n",
        "\n",
        "  #highest row for each column\n",
        "  moves = {}\n",
        "  for i in range(len(state[0])):\n",
        "    moves[i] = 0\n",
        "  for i in range (len(available_spaces)):\n",
        "    if available_spaces[i][0] == 0 and moves[available_spaces[i][1]] == 0:\n",
        "      #del moves[available_spaces[i][1]]\n",
        "      continue\n",
        "    moves[available_spaces[i][1]] = max(available_spaces[i][0], moves[available_spaces[i][1]])\n",
        "  return moves\n",
        "\n",
        "def result(state, player, action):\n",
        "  if state[action[0]][action[1]] != 0:\n",
        "    raise ValueError(\"Invalid action\")\n",
        "  state = state.copy()\n",
        "  state[action[0]][action[1]] = player\n",
        "  return state\n",
        "\n",
        "def utility(state, player = -1):\n",
        "  goal = check_board(state)\n",
        "  if goal == 'd':\n",
        "    return 0\n",
        "  if goal == player:\n",
        "    return 1\n",
        "  if goal == other(player):\n",
        "    return -1\n",
        "  return None\n",
        "\n",
        "def terminal(state):\n",
        "    return check_board(state)!='n'\n",
        "\n",
        "def check_board(state):\n",
        "    \"\"\"check the board and return one of x, o, d (draw), or n (for next move)\"\"\"\n",
        "\n",
        "    state = np.array(state).reshape((6, 7))\n",
        "\n",
        "    def check_four(line):\n",
        "        \"\"\"Helper to check for 4 consecutive non-zero same values.\"\"\"\n",
        "        for i in range(len(line) - 3):\n",
        "            if line[i] != 0 and line[i] == line[i+1] == line[i+2] == line[i+3]:\n",
        "                return line[i]\n",
        "        return None\n",
        "\n",
        "    # Check horizontal\n",
        "    for row in state:\n",
        "        winner = check_four(row)\n",
        "        if winner:\n",
        "            return winner\n",
        "\n",
        "    # Check vertical\n",
        "    for col in state.T:\n",
        "        winner = check_four(col)\n",
        "        if winner:\n",
        "            return winner\n",
        "\n",
        "    # Check diagonals (bottom-left to top-right)\n",
        "    for i in range(-2, 4):  # diagonals that are at least length 4\n",
        "        diag = np.diagonal(state, offset=i)\n",
        "        winner = check_four(diag)\n",
        "        if winner:\n",
        "            return winner\n",
        "\n",
        "    # Check diagonals (top-left to bottom-right)\n",
        "    flipped = np.fliplr(state)\n",
        "    for i in range(-2, 4):\n",
        "        diag = np.diagonal(flipped, offset=i)\n",
        "        winner = check_four(diag)\n",
        "        if winner:\n",
        "            return winner\n",
        "\n",
        "    # Check for draw\n",
        "    if np.all(state != 0):\n",
        "        return 'd'\n",
        "\n",
        "    return 'n'\n",
        "\n",
        "def other(player):\n",
        "    if player == -1: return 1\n",
        "    else: return -1\n",
        "\n",
        "\n"
      ]
    },
    {
      "cell_type": "markdown",
      "metadata": {
        "id": "3NLV-pd_hOcq"
      },
      "source": [
        "Implement an agent that plays randomly. Make sure the agent function receives as the percept the board and returns a valid action. Use an agent function definition with the following signature (arguments):\n",
        "\n",
        "`def random_player(board, player = 1): ...`\n",
        "\n",
        "The argument `player` is used for agents that do not store what color they are playing. The value passed on by the environment should be 1 ot -1 for player red and yellow, respectively.  See [Experiments section for tic-tac-toe](https://nbviewer.org/github/mhahsler/CS7320-AI/blob/master/Games/tictactoe_and_or_tree_search.ipynb#Experiments) for an example."
      ]
    },
    {
      "cell_type": "code",
      "execution_count": 224,
      "metadata": {
        "id": "6TOTqrtGhOcq"
      },
      "outputs": [],
      "source": [
        "# Your code/ answer goes here.\n",
        "import random\n",
        "def random_player(board, player = None):\n",
        "  key = random.choice(list(actions(board)))\n",
        "  while board[actions(board)[key]][key] != 0:\n",
        "    key = random.choice(list(actions(board)))\n",
        "  return (actions(board)[key],key)"
      ]
    },
    {
      "cell_type": "markdown",
      "metadata": {
        "id": "AksWajvUhOcq"
      },
      "source": [
        "Let two random agents play against each other 1000 times. Look at the [Experiments section for tic-tac-toe](https://nbviewer.org/github/mhahsler/CS7320-AI/blob/master/Games/tictactoe_and_or_tree_search.ipynb#Experiments) to see how the environment uses the agent functions to play against each other.\n",
        "\n",
        "How often does each player win? Is the result expected?"
      ]
    },
    {
      "cell_type": "code",
      "execution_count": 259,
      "metadata": {
        "tags": [],
        "colab": {
          "base_uri": "https://localhost:8080/"
        },
        "id": "NRQZ3YO5hOcq",
        "outputId": "6c146434-a15b-48fc-d6fa-5f6ede235b19"
      },
      "outputs": [
        {
          "output_type": "stream",
          "name": "stdout",
          "text": [
            "[[0 0 0 0 0 0 0]\n",
            " [0 0 0 0 0 0 0]\n",
            " [0 0 0 0 0 0 0]\n",
            " [0 0 0 0 0 0 0]\n",
            " [0 0 0 0 0 0 0]\n",
            " [0 0 0 0 0 0 0]]\n",
            "[[ 0  0  0  0  0  0  0]\n",
            " [ 0  0  0  0  0  0  0]\n",
            " [ 0  0  0  0  0  0  0]\n",
            " [ 0  0  0  0  0  0  0]\n",
            " [ 0  0  0  0  0  0  0]\n",
            " [ 0 -1  0  0  0  0  0]]\n",
            "[[ 0  0  0  0  0  0  0]\n",
            " [ 0  0  0  0  0  0  0]\n",
            " [ 0  0  0  0  0  0  0]\n",
            " [ 0  0  0  0  0  0  0]\n",
            " [ 0  1  0  0  0  0  0]\n",
            " [ 0 -1  0  0  0  0  0]]\n",
            "[[ 0  0  0  0  0  0  0]\n",
            " [ 0  0  0  0  0  0  0]\n",
            " [ 0  0  0  0  0  0  0]\n",
            " [ 0  0  0  0  0  0  0]\n",
            " [ 0  1  0  0  0  0  0]\n",
            " [ 0 -1  0  0  0 -1  0]]\n",
            "[[ 0  0  0  0  0  0  0]\n",
            " [ 0  0  0  0  0  0  0]\n",
            " [ 0  0  0  0  0  0  0]\n",
            " [ 0  1  0  0  0  0  0]\n",
            " [ 0  1  0  0  0  0  0]\n",
            " [ 0 -1  0  0  0 -1  0]]\n",
            "[[ 0  0  0  0  0  0  0]\n",
            " [ 0  0  0  0  0  0  0]\n",
            " [ 0  0  0  0  0  0  0]\n",
            " [ 0  1  0  0  0  0  0]\n",
            " [ 0  1  0  0  0  0  0]\n",
            " [ 0 -1  0  0  0 -1 -1]]\n",
            "[[ 0  0  0  0  0  0  0]\n",
            " [ 0  0  0  0  0  0  0]\n",
            " [ 0  0  0  0  0  0  0]\n",
            " [ 0  1  0  0  0  0  0]\n",
            " [ 0  1  0  0  0  0  0]\n",
            " [ 0 -1  0  0  1 -1 -1]]\n",
            "[[ 0  0  0  0  0  0  0]\n",
            " [ 0  0  0  0  0  0  0]\n",
            " [ 0  0  0  0  0  0  0]\n",
            " [ 0  1  0  0  0  0  0]\n",
            " [ 0  1  0  0  0  0 -1]\n",
            " [ 0 -1  0  0  1 -1 -1]]\n",
            "[[ 0  0  0  0  0  0  0]\n",
            " [ 0  0  0  0  0  0  0]\n",
            " [ 0  1  0  0  0  0  0]\n",
            " [ 0  1  0  0  0  0  0]\n",
            " [ 0  1  0  0  0  0 -1]\n",
            " [ 0 -1  0  0  1 -1 -1]]\n",
            "[[ 0  0  0  0  0  0  0]\n",
            " [ 0  0  0  0  0  0  0]\n",
            " [ 0  1  0  0  0  0  0]\n",
            " [ 0  1  0  0  0  0  0]\n",
            " [ 0  1  0  0  0  0 -1]\n",
            " [ 0 -1 -1  0  1 -1 -1]]\n",
            "[[ 0  0  0  0  0  0  0]\n",
            " [ 0  0  0  0  0  0  0]\n",
            " [ 0  1  0  0  0  0  0]\n",
            " [ 0  1  0  0  0  0  0]\n",
            " [ 0  1  0  0  0  1 -1]\n",
            " [ 0 -1 -1  0  1 -1 -1]]\n",
            "[[ 0  0  0  0  0  0  0]\n",
            " [ 0  0  0  0  0  0  0]\n",
            " [ 0  1  0  0  0  0  0]\n",
            " [ 0  1  0  0  0  0  0]\n",
            " [ 0  1  0  0  0  1 -1]\n",
            " [-1 -1 -1  0  1 -1 -1]]\n",
            "[[ 0  0  0  0  0  0  0]\n",
            " [ 0  0  0  0  0  0  0]\n",
            " [ 0  1  0  0  0  0  0]\n",
            " [ 0  1  0  0  0  0  0]\n",
            " [ 0  1  1  0  0  1 -1]\n",
            " [-1 -1 -1  0  1 -1 -1]]\n",
            "[[ 0  0  0  0  0  0  0]\n",
            " [ 0  0  0  0  0  0  0]\n",
            " [ 0  1  0  0  0  0  0]\n",
            " [ 0  1  0  0  0  0  0]\n",
            " [ 0  1  1  0  0  1 -1]\n",
            " [-1 -1 -1 -1  1 -1 -1]]\n",
            "{-1: 0, 1: 0, 'd': 0}\n",
            "[[ 0  0  0  0  0  0  0]\n",
            " [ 0  0  0  0  0  0  0]\n",
            " [ 0  1  0  0  0  0  0]\n",
            " [ 0  1  0  0  0  0  0]\n",
            " [ 0  1  1  0  0  1 -1]\n",
            " [-1 -1 -1 -1  1 -1 -1]]\n",
            "{-1: 1, 1: 0, 'd': 0}\n"
          ]
        }
      ],
      "source": [
        "# Your code/ answer goes here.\n",
        "def play(player1=1,player2=-1,N=1,show_final_board = False):\n",
        "  results = {-1:0,1:0,'d':0}\n",
        "  for i in range(N):\n",
        "    board = empty_board()\n",
        "    while True:\n",
        "      print(board)\n",
        "      a = random_player(board,-1)\n",
        "      board = result(board,-1,a)\n",
        "      print(board)\n",
        "      win = check_board(board)\n",
        "      if win!='n':\n",
        "        print(results)\n",
        "        print(board)\n",
        "        results[win]+=1\n",
        "        break\n",
        "      b = random_player(board,1)\n",
        "      board = result(board,1,b)\n",
        "      win = check_board(board)\n",
        "      if win!='n':\n",
        "        print(results)\n",
        "        print(board)\n",
        "        results[win]+=1\n",
        "        break\n",
        "    if show_final_board:\n",
        "     visualize(board)\n",
        "  return results\n",
        "\n",
        "print(play())"
      ]
    },
    {
      "cell_type": "markdown",
      "metadata": {
        "id": "hqoZg7kdhOcq"
      },
      "source": [
        "## Task 3: Minimax Search with Alpha-Beta Pruning\n",
        "\n",
        "### Implement the Search [20 points]\n",
        "\n",
        "Implement minimax search starting from a given board for specifying the player.\n",
        "\n",
        "__Important Notes:__\n",
        "* You can use code from the [tic-tac-toe example](https://nbviewer.org/github/mhahsler/CS7320-AI/blob/master/Games/tictactoe_alpha_beta_tree_search.ipynb).\n",
        "* Make sure that all your agent functions have a signature consistent with the random agent above and that it [uses a class to store state information.](https://nbviewer.org/github/mhahsler/CS7320-AI/blob/master/HOWTOs/store_agent_state_information.ipynb)\n",
        "This is essential to be able play against agents from other students later.\n",
        "* The game tree for a $6 \\times 7$ board is huge and optimal algorithms need to visit each or a large percentage of all nodes in the tree. You can experiment with smaller boards like a $4 \\times 4$ board first."
      ]
    },
    {
      "cell_type": "code",
      "execution_count": 260,
      "metadata": {
        "id": "pHlHV1XjhOcq"
      },
      "outputs": [],
      "source": [
        "# Your code/ answer goes here.\n",
        "\n",
        "def minimax_search(game, state):\n",
        "  player = game.result(state, game.player, actions(state))\n",
        "  value, move = max_value(game, state)\n",
        "  return move\n",
        "\n",
        "def max_value(game, state):\n",
        "  if terminal(state):\n",
        "    return utility(state)\n",
        "  v = -np.inf\n",
        "  for action in actions(state):\n",
        "    v2,a2 = min_value(game, result(state, game.player, action))\n",
        "    if v2 > v:\n",
        "      v,move = v2,action\n",
        "  return v,move\n",
        "\n",
        "def min_value(game, state):\n",
        "  if game.terminal(state):\n",
        "    return utility(state),null\n",
        "  v = np.inf\n",
        "  for action in actions(state):\n",
        "    v2,a2 = max_value(game, result(state, game.player, action))\n",
        "    if v2 < v:\n",
        "      v,move = v2,action\n",
        "  return v,move"
      ]
    },
    {
      "cell_type": "markdown",
      "metadata": {
        "id": "GIFOj-ClhOcq"
      },
      "source": [
        "Experiment with some manually created boards (at least 5) to check if the agent spots winning opportunities."
      ]
    },
    {
      "cell_type": "code",
      "execution_count": null,
      "metadata": {
        "id": "rjMM83kjhOcq"
      },
      "outputs": [],
      "source": [
        "# Your code/ answer goes here."
      ]
    },
    {
      "cell_type": "markdown",
      "metadata": {
        "id": "LtJdjpgWhOcq"
      },
      "source": [
        "How long does it take to make a move? Start with a smaller board with 4 columns and make the board larger by adding columns/rows. Explain why using this algorithm on a standard $6 \\times 7$ board takes forever."
      ]
    },
    {
      "cell_type": "code",
      "execution_count": null,
      "metadata": {
        "id": "sV2CQHRphOcq"
      },
      "outputs": [],
      "source": [
        "# Your code/ answer goes here."
      ]
    },
    {
      "cell_type": "markdown",
      "metadata": {
        "id": "Zc3n96sMhOcq"
      },
      "source": [
        "### Move ordering [5 points]\n",
        "\n",
        "Starting the search with better moves will increase the efficiency of alpha-beta pruning. Describe and implement a simple move ordering strategy. Make a table that shows how the ordering strategies influence the time it takes to make a move?"
      ]
    },
    {
      "cell_type": "code",
      "execution_count": null,
      "metadata": {
        "id": "Sm0DLmeRhOcq"
      },
      "outputs": [],
      "source": [
        "# Your code/ answer goes here."
      ]
    },
    {
      "cell_type": "markdown",
      "metadata": {
        "id": "JsPxErrJhOcq"
      },
      "source": [
        "### The first few moves [5 points]\n",
        "\n",
        "Start with an empty board. This is the worst case scenario for minimax search since it needs solve all possible games that can be played (minus some pruning) before making the decision. What can you do?"
      ]
    },
    {
      "cell_type": "code",
      "execution_count": null,
      "metadata": {
        "id": "pvfyEjGBhOcq"
      },
      "outputs": [],
      "source": [
        "# Your code/ answer goes here."
      ]
    },
    {
      "cell_type": "markdown",
      "metadata": {
        "id": "JQ5_IIoKhOcq"
      },
      "source": [
        "### Playtime [5 points]\n",
        "\n",
        "Let the Minimax Search agent play a random agent on a $4 \\times 4$ board. Analyze wins, losses and draws."
      ]
    },
    {
      "cell_type": "code",
      "execution_count": null,
      "metadata": {
        "id": "x3UEXGsfhOcr"
      },
      "outputs": [],
      "source": [
        "# Your code/ answer goes here."
      ]
    },
    {
      "cell_type": "markdown",
      "metadata": {
        "id": "uY4qKn4phOcr"
      },
      "source": [
        "## Task 4: Heuristic Alpha-Beta Tree Search\n",
        "\n",
        "### Heuristic evaluation function [15 points]\n",
        "\n",
        "Define and implement a heuristic evaluation function. Make sure that the heuristic value stays in the correct range."
      ]
    },
    {
      "cell_type": "code",
      "execution_count": null,
      "metadata": {
        "id": "5KCucDGqhOcr"
      },
      "outputs": [],
      "source": [
        "# Your code/ answer goes here."
      ]
    },
    {
      "cell_type": "markdown",
      "metadata": {
        "id": "9IWGkr9DhOcr"
      },
      "source": [
        "### Cutting Off Search [10 points]\n",
        "\n",
        "Modify your minimax search with alpha-beta pruning to cut off search at a specified depth and use the heuristic evaluation function. Experiment with different cutoff values."
      ]
    },
    {
      "cell_type": "code",
      "execution_count": null,
      "metadata": {
        "id": "GFjlr72ThOcr"
      },
      "outputs": [],
      "source": [
        "# Your code/ answer goes here."
      ]
    },
    {
      "cell_type": "markdown",
      "metadata": {
        "id": "EKJssOUKhOcr"
      },
      "source": [
        "Experiment with the same manually created boards as above to check if the agent spots wining opportunities."
      ]
    },
    {
      "cell_type": "code",
      "execution_count": null,
      "metadata": {
        "id": "FLJyTY8YhOcr"
      },
      "outputs": [],
      "source": [
        "# Your code/ answer goes here."
      ]
    },
    {
      "cell_type": "markdown",
      "metadata": {
        "id": "RsKtOOBnhOcr"
      },
      "source": [
        "How long does it take to make a move? Start with a smaller board with 4 columns and make the board larger by adding columns."
      ]
    },
    {
      "cell_type": "code",
      "execution_count": null,
      "metadata": {
        "id": "_7t0JQ0MhOcr"
      },
      "outputs": [],
      "source": [
        "# Your code/ answer goes here."
      ]
    },
    {
      "cell_type": "markdown",
      "metadata": {
        "id": "cSWu2dkOhOcr"
      },
      "source": [
        "### Playtime [5 points]\n",
        "\n",
        "Let two heuristic search agents (different cutoff depth, different heuristic evaluation function) compete against each other on a reasonably sized board. Since there is no randomness, you only need to let them play once."
      ]
    },
    {
      "cell_type": "code",
      "execution_count": null,
      "metadata": {
        "id": "XOub8qxihOcr"
      },
      "outputs": [],
      "source": [
        "# Your code/ answer goes here."
      ]
    },
    {
      "cell_type": "markdown",
      "metadata": {
        "id": "FMHFyR_hhOcu"
      },
      "source": [
        "## Challenge task [up to +10 bonus point will be awarded separately]\n",
        "\n",
        "Find another student and let your best agent play against the other student's best player. We will set up a class tournament on Canvas. This tournament will continue after the submission deadline."
      ]
    },
    {
      "cell_type": "markdown",
      "metadata": {
        "id": "kMXWu5xKhOcv"
      },
      "source": [
        "## Graduate student advanced task: Pure Monte Carlo Search and Best First Move [10 point]\n",
        "\n",
        "__Undergraduate students:__ This is a bonus task you can attempt if you like [+5 bonus point].\n",
        "\n",
        "### Pure Monte Carlo Search\n",
        "\n",
        "Implement Pure Monte Carlo Search and investigate how this search performs on the test boards that you have used above."
      ]
    },
    {
      "cell_type": "code",
      "execution_count": 261,
      "metadata": {
        "id": "pLqNjv0rhOcv"
      },
      "outputs": [],
      "source": [
        "# Your code/ answer goes here.\n",
        "def monte_carlo_search(state):\n",
        "  tree = node(state)\n",
        "  while is_timing_remaining():\n",
        "    leaf = select(tree)\n",
        "    child = expand(leaf)\n",
        "    result = simulate(child)\n",
        "    backpropagate(result)\n",
        "  return max(tree.children, key=lambda c: c.wins/c.visits)"
      ]
    },
    {
      "cell_type": "markdown",
      "metadata": {
        "id": "wFIQdYDGhOcv"
      },
      "source": [
        "### Best First Move\n",
        "\n",
        "Use your Monte Carlo Search to determine what the best first move for red is? Describe under what assumptions this is the \"best\" first move.  "
      ]
    },
    {
      "cell_type": "code",
      "execution_count": null,
      "metadata": {
        "id": "LNHyr7yKhOcv"
      },
      "outputs": [],
      "source": [
        "# Your code/ answer goes here."
      ]
    }
  ],
  "metadata": {
    "kernelspec": {
      "display_name": "Python 3 (ipykernel)",
      "language": "python",
      "name": "python3"
    },
    "language_info": {
      "codemirror_mode": {
        "name": "ipython",
        "version": 3
      },
      "file_extension": ".py",
      "mimetype": "text/x-python",
      "name": "python",
      "nbconvert_exporter": "python",
      "pygments_lexer": "ipython3",
      "version": "3.10.12"
    },
    "colab": {
      "provenance": []
    }
  },
  "nbformat": 4,
  "nbformat_minor": 0
}