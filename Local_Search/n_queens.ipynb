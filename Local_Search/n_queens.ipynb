{
  "cells": [
    {
      "cell_type": "markdown",
      "metadata": {
        "id": "Zj29F9_GBC4j"
      },
      "source": [
        "# Solving the n-Queens Problem using Local Search\n",
        "\n",
        "Student Name: [Add your name]\n",
        "\n",
        "I have used the following AI tools: [list tools]\n",
        "\n",
        "I understand that my submission needs to be my own work: [your initials]\n",
        "\n",
        "## Instructions\n",
        "\n",
        "Total Points: Undergrads 100 + 5 bonus / Graduate students 110\n",
        "\n",
        "Complete this notebook. Use the provided notebook cells and insert additional code and markdown cells as needed. Submit the completely rendered notebook as a HTML file.\n"
      ]
    },
    {
      "cell_type": "markdown",
      "metadata": {
        "id": "MIaEwzHXBC4k"
      },
      "source": [
        "## The n-Queens Problem\n",
        "\n",
        "* __Goal:__ Find an arrangement of $n$ queens on a $n \\times n$ chess board so that no queen is on the same row, column or diagonal as any other queen.\n",
        "\n",
        "* __State space:__ An arrangement of the queens on the board. We restrict the state space to arrangements where there is only a single queen per column. We represent a state as an integer vector $\\mathbf{q} = \\{q_1, q_2, \\dots, q_n\\}$, each number representing the row positions of the queens from left to right. We will call a state a \"board.\"\n",
        "\n",
        "* __Objective function:__ The number of pairwise conflicts (i.e., two queens in the same row/column/diagonal).\n",
        "The optimization problem is to find the optimal arrangement $\\mathbf{q}^*$ of $n$ queens on the board can be written as:\n",
        "\n",
        "  > minimize: $\\mathrm{conflicts}(\\mathbf{q})$\n",
        "  >\n",
        "  > subject to: $\\mathbf{q} \\ \\text{contains only one queen per column}$\n",
        "\n",
        "  Note: the constraint (subject to) is enforced by the definition of the state space.\n",
        "\n",
        "* __Local improvement move:__ Move one queen to a different row in its column.\n",
        "\n",
        "* __Termination:__ For this problem there is always an arrangement $\\mathbf{q}^*$ with $\\mathrm{conflicts}(\\mathbf{q}^*) = 0$, however, the local improvement moves might end up in a local minimum."
      ]
    },
    {
      "cell_type": "markdown",
      "metadata": {
        "id": "lSdrV7XWBC4k"
      },
      "source": [
        "## Helper functions"
      ]
    },
    {
      "cell_type": "code",
      "execution_count": 18,
      "metadata": {
        "id": "qXNCtl1jBC4k"
      },
      "outputs": [],
      "source": [
        "import numpy as np\n",
        "import matplotlib.pyplot as plt\n",
        "from matplotlib import colors\n",
        "from numba import njit\n",
        "\n",
        "np.random.seed(1234)\n",
        "\n",
        "\n",
        "def random_board(n):\n",
        "    \"\"\"Creates a random board of size n x n. Note that only a single queen is placed in each column!\"\"\"\n",
        "\n",
        "    return(np.random.randint(0,n, size = n))\n",
        "\n",
        "@njit()\n",
        "def comb2_jit(n): return n*(n-1)//2 # this is n choose 2 equivalent to math.comb(n, 2); // is int division\n",
        "\n",
        "@njit()\n",
        "def conflicts_jit(board):\n",
        "    \"\"\"Calculate the number of conflicts, i.e., the objective function.\"\"\"\n",
        "\n",
        "    n = len(board)\n",
        "\n",
        "    cnt = [0] * (5 * n)\n",
        "\n",
        "    for i in range(n):\n",
        "        cnt[board[i]] += 1\n",
        "        cnt[(n) + (i + board[i])] += 1\n",
        "        cnt[(3 * n) + (i - board[i] + n)] += 1\n",
        "\n",
        "    conflicts = 0\n",
        "    for x in cnt:\n",
        "        conflicts += comb2_jit(x)\n",
        "\n",
        "    return conflicts\n",
        "\n",
        "# decrease the font size to fit larger boards\n",
        "def show_board(board, cols = ['white', 'gray'], fontsize = 48):\n",
        "    \"\"\"display the board\"\"\"\n",
        "\n",
        "    n = len(board)\n",
        "\n",
        "    # create chess board display\n",
        "    display = np.zeros([n,n])\n",
        "    for i in range(n):\n",
        "        for j in range(n):\n",
        "            if (((i+j) % 2) != 0):\n",
        "                display[i,j] = 1\n",
        "\n",
        "    cmap = colors.ListedColormap(cols)\n",
        "    fig, ax = plt.subplots()\n",
        "    ax.imshow(display, cmap = cmap,\n",
        "              norm = colors.BoundaryNorm(range(len(cols)+1), cmap.N))\n",
        "    ax.set_xticks([])\n",
        "    ax.set_yticks([])\n",
        "\n",
        "    # place queens. Note: Unicode u265B is a black queen\n",
        "    for j in range(n):\n",
        "        plt.text(j, board[j], u\"\\u265B\", fontsize = fontsize,\n",
        "                 horizontalalignment = 'center',\n",
        "                 verticalalignment = 'center')\n",
        "\n",
        "    print(f\"Board with {conflicts_jit(board)} conflicts.\")\n",
        "    plt.show()"
      ]
    },
    {
      "cell_type": "markdown",
      "metadata": {
        "id": "yoeqvv5kBC4l"
      },
      "source": [
        "## Create a board"
      ]
    },
    {
      "cell_type": "code",
      "execution_count": 19,
      "metadata": {
        "colab": {
          "base_uri": "https://localhost:8080/",
          "height": 457
        },
        "id": "hyJNe0MmBC4l",
        "outputId": "7ff7d471-28f8-4c16-b7de-8f664000cc16"
      },
      "outputs": [
        {
          "output_type": "stream",
          "name": "stdout",
          "text": [
            "Board with 4 conflicts.\n"
          ]
        },
        {
          "output_type": "display_data",
          "data": {
            "text/plain": [
              "<Figure size 640x480 with 1 Axes>"
            ],
            "image/png": "[encoded data removed]"
          },
          "metadata": {}
        },
        {
          "output_type": "stream",
          "name": "stdout",
          "text": [
            "Queens (left to right) are at rows: [3 3 2 1]\n",
            "Number of conflicts: 4\n"
          ]
        }
      ],
      "source": [
        "board = random_board(4)\n",
        "\n",
        "show_board(board)\n",
        "print(f\"Queens (left to right) are at rows: {board}\")\n",
        "print(f\"Number of conflicts: {conflicts_jit(board)}\")"
      ]
    },
    {
      "cell_type": "markdown",
      "metadata": {
        "id": "jiqhWhySBC4l"
      },
      "source": [
        "A board $4 \\times 4$ with no conflicts:"
      ]
    },
    {
      "cell_type": "code",
      "execution_count": 20,
      "metadata": {
        "colab": {
          "base_uri": "https://localhost:8080/",
          "height": 423
        },
        "id": "vqLBmGf6BC4m",
        "outputId": "dc678525-2f72-4fa7-8e78-dd2c2c452444"
      },
      "outputs": [
        {
          "output_type": "stream",
          "name": "stdout",
          "text": [
            "Board with 0 conflicts.\n"
          ]
        },
        {
          "output_type": "display_data",
          "data": {
            "text/plain": [
              "<Figure size 640x480 with 1 Axes>"
            ],
            "image/png": "[encoded data removed]"
          },
          "metadata": {}
        }
      ],
      "source": [
        "board = [1,3,0,2]\n",
        "show_board(board)"
      ]
    },
    {
      "cell_type": "markdown",
      "metadata": {
        "id": "iNmMYBqTBC4m"
      },
      "source": [
        "# Tasks\n",
        "\n",
        "## General [10 Points]\n",
        "\n",
        "1. Make sure that you use the latest version of this notebook. Sync your forked repository and pull the latest revision.\n",
        "2. Your implementation can use libraries like math, numpy, scipy, but not libraries that implement intelligent agents or complete search algorithms. Try to keep the code simple! In this course, we want to learn about the algorithms and we often do not need to use object-oriented design.\n",
        "3. You notebook needs to be formatted professionally.\n",
        "    - Add additional markdown blocks for your description, comments in the code, add tables and use mathplotlib to produce charts where appropriate\n",
        "    - Do not show debugging output or include an excessive amount of output.\n",
        "    - Check that your submitted file is readable and contains all figures.\n",
        "4. Document your code. Use comments in the code and add a discussion of how your implementation works and your design choices."
      ]
    },
    {
      "cell_type": "markdown",
      "metadata": {
        "id": "nZDf0xpzBC4m"
      },
      "source": [
        "## Task 1: Steepest-ascend Hill Climbing Search [30 Points]\n",
        "\n",
        "Calculate the objective function for all local moves (see definition of local moves above) and always choose the best among all local moves. If there are no local moves that improve the objective, then you have reached a local optimum."
      ]
    },
    {
      "cell_type": "code",
      "execution_count": 28,
      "metadata": {
        "colab": {
          "base_uri": "https://localhost:8080/",
          "height": 457
        },
        "id": "vrTw1F6zBC4m",
        "outputId": "a8586af3-f052-47c1-f8d4-06d49f32c91b"
      },
      "outputs": [
        {
          "output_type": "stream",
          "name": "stdout",
          "text": [
            "Board with 3 conflicts.\n"
          ]
        },
        {
          "output_type": "display_data",
          "data": {
            "text/plain": [
              "<Figure size 640x480 with 1 Axes>"
            ],
            "image/png": "[encoded data removed]"
          },
          "metadata": {}
        },
        {
          "output_type": "stream",
          "name": "stdout",
          "text": [
            "Number of conflicts before climbing: 3\n",
            "Number of conflicts after climbing: 0\n"
          ]
        }
      ],
      "source": [
        "# Code and description go here\n",
        "def best_successor(board):\n",
        "  length = len(board)\n",
        "  best_result = board\n",
        "  for row in range(length):\n",
        "    for column in range(length):\n",
        "      if column != board[row]:\n",
        "        new_board = list(board)\n",
        "        new_board[row] = column\n",
        "        if conflicts_jit(new_board) < conflicts_jit(best_result):\n",
        "          best_result = new_board\n",
        "  return best_result\n",
        "\n",
        "def hill_climbing(board):\n",
        "  current = board\n",
        "  while conflicts_jit(current):\n",
        "    neighbor = best_successor(current)\n",
        "    if conflicts_jit(neighbor) >= conflicts_jit(current):\n",
        "      return current\n",
        "    current = neighbor\n",
        "  return current\n",
        "\n",
        "\n",
        "board = random_board(4)\n",
        "show_board(board)\n",
        "print(f\"Number of conflicts before climbing: {conflicts_jit(board)}\")\n",
        "board = hill_climbing(board)\n",
        "print(f\"Number of conflicts after climbing: {conflicts_jit(board)}\")\n"
      ]
    },
    {
      "cell_type": "markdown",
      "metadata": {
        "id": "zug4QVm3BC4m"
      },
      "source": [
        "## Task 2: Stochastic Hill Climbing 1 [10 Points]\n",
        "\n",
        "Chooses randomly from among all uphill moves till you have reached a local optimum."
      ]
    },
    {
      "cell_type": "code",
      "execution_count": 29,
      "metadata": {
        "colab": {
          "base_uri": "https://localhost:8080/",
          "height": 457
        },
        "id": "U1e-2FagBC4m",
        "outputId": "820ca215-d7cd-44c7-cfff-e2c926e72ce9"
      },
      "outputs": [
        {
          "output_type": "stream",
          "name": "stdout",
          "text": [
            "Board with 4 conflicts.\n"
          ]
        },
        {
          "output_type": "display_data",
          "data": {
            "text/plain": [
              "<Figure size 640x480 with 1 Axes>"
            ],
            "image/png": "[encoded data removed]"
          },
          "metadata": {}
        },
        {
          "output_type": "stream",
          "name": "stdout",
          "text": [
            "Number of conflicts before climbing: 4\n",
            "Number of conflicts after climbing: 1\n"
          ]
        }
      ],
      "source": [
        "import random\n",
        "def uphill_improv_moves(board):\n",
        "  moves = []\n",
        "  for i in range(len(board)):\n",
        "    for j in range(len(board)):\n",
        "      current = list(board)\n",
        "      if j != board[i]:\n",
        "        current[i] = j\n",
        "        if conflicts_jit(current) < conflicts_jit(board):\n",
        "          moves.append(current)\n",
        "  return moves\n",
        "\n",
        "\n",
        "def stochastic_hill_climbing(board):\n",
        "  current = list(board)\n",
        "  while conflicts_jit(current):\n",
        "    uphill_moves = uphill_improv_moves(current)\n",
        "    if uphill_moves:\n",
        "      neighbor = random.choice(uphill_moves)\n",
        "      current = neighbor\n",
        "    #These lines are used to prevent an infinite loop\n",
        "    else:\n",
        "      return current\n",
        "  return current\n",
        "\n",
        "\n",
        "board = random_board(4)\n",
        "show_board(board)\n",
        "print(f\"Number of conflicts before climbing: {conflicts_jit(board)}\")\n",
        "board = stochastic_hill_climbing(board)\n",
        "print(f\"Number of conflicts after climbing: {conflicts_jit(board)}\")"
      ]
    },
    {
      "cell_type": "markdown",
      "metadata": {
        "id": "qgTEAorwBC4m"
      },
      "source": [
        "## Task 3: Stochastic Hill Climbing 2 [20 Points]\n",
        "\n",
        "A popular version of stochastic hill climbing generates only a single random local neighbor at a time and accept it if it has a better objective function value than the current state. This is very efficient if each state has many possible successor states. This method is called \"First-choice hill climbing\" in the textbook.\n",
        "\n",
        "__Notes:__\n",
        "\n",
        "* Detecting local optima is tricky! You can, for example, stop if you were not able to improve the objective function during the last $x$ tries."
      ]
    },
    {
      "cell_type": "code",
      "execution_count": 33,
      "metadata": {
        "colab": {
          "base_uri": "https://localhost:8080/",
          "height": 457
        },
        "id": "Dd_XvEPrBC4m",
        "outputId": "9d94ac18-53c7-4569-8c67-60b381cf833e"
      },
      "outputs": [
        {
          "output_type": "stream",
          "name": "stdout",
          "text": [
            "Board with 4 conflicts.\n"
          ]
        },
        {
          "output_type": "display_data",
          "data": {
            "text/plain": [
              "<Figure size 640x480 with 1 Axes>"
            ],
            "image/png": "[encoded data removed]"
          },
          "metadata": {}
        },
        {
          "output_type": "stream",
          "name": "stdout",
          "text": [
            "Number of conflicts before climbing: 4\n",
            "Number of conflicts after climbing: 2\n"
          ]
        }
      ],
      "source": [
        "# Code and description go here\n",
        "import random\n",
        "\n",
        "def first_choice_hill_climbing(board):\n",
        "  current = list(board)\n",
        "  for i in range(1000):\n",
        "    if conflicts_jit(current) == 0:\n",
        "      return current\n",
        "    new_board = list(current)\n",
        "    new_board[random.randint(0,(len(current)-1))] = random.randint(0,(len(current)-1))\n",
        "    if conflicts_jit(new_board) < conflicts_jit(current):\n",
        "      current = new_board\n",
        "  return current\n",
        "\n",
        "\n",
        "board = random_board(4)\n",
        "show_board(board)\n",
        "print(f\"Number of conflicts before climbing: {conflicts_jit(board)}\")\n",
        "board = first_choice_hill_climbing(board)\n",
        "print(f\"Number of conflicts after climbing: {conflicts_jit(board)}\")"
      ]
    },
    {
      "cell_type": "markdown",
      "metadata": {
        "id": "RnhGt6zvBC4m"
      },
      "source": [
        "## Task 4: Hill Climbing Search with Random Restarts [10 Points]\n",
        "\n",
        "Hill climbing will often end up in local optima. Restart the each of the three hill climbing algorithm up to 100 times with a random board to find a better (hopefully optimal) solution. Note that restart just means to run the algorithm several times starting with a new random board."
      ]
    },
    {
      "cell_type": "code",
      "execution_count": 47,
      "metadata": {
        "colab": {
          "base_uri": "https://localhost:8080/"
        },
        "id": "-eVIvVOSBC4m",
        "outputId": "0e80c1ae-c859-4ac1-f8dc-5d34c76a5d1a"
      },
      "outputs": [
        {
          "output_type": "stream",
          "name": "stdout",
          "text": [
            "Number of conflicts after Steepest-ascend Hill Climbing restarts: 0\n",
            "Number of restarts:  6 \n",
            "\n",
            "Number of conflicts after Stochastic Hill Climbing restarts: 0\n",
            "Number of restarts:  9 \n",
            "\n",
            "Number of conflicts after First-choice Hill climbing restarts: 0\n",
            "Number of restarts:  3 \n",
            "\n"
          ]
        }
      ],
      "source": [
        "# Code and description go here\n",
        "board = random_board(4)\n",
        "\n",
        "board1 = list(board)\n",
        "board2 = list(board)\n",
        "board3 = list(board)\n",
        "\n",
        "counter1 = 0\n",
        "counter2 = 0\n",
        "counter3 = 0\n",
        "\n",
        "while conflicts_jit(board1) > 0 and counter1 < 100:\n",
        "  board1 = random_board(8)\n",
        "  board1 = hill_climbing(board1)\n",
        "  counter1 += 1\n",
        "print(f\"Number of conflicts after Steepest-ascend Hill Climbing restarts: {conflicts_jit(board1)}\")\n",
        "print(\"Number of restarts: \" , counter1,\"\\n\")\n",
        "\n",
        "while conflicts_jit(board2) > 0 and counter2 < 100:\n",
        "  board2 = random_board(8)\n",
        "  board2 = stochastic_hill_climbing(board2)\n",
        "  counter2 += 1\n",
        "print(f\"Number of conflicts after Stochastic Hill Climbing restarts: {conflicts_jit(board2)}\")\n",
        "print(\"Number of restarts: \" , counter2,\"\\n\")\n",
        "\n",
        "while conflicts_jit(board3) > 0 and counter3 < 100:\n",
        "  board3 = random_board(8)\n",
        "  board3 = first_choice_hill_climbing(board3)\n",
        "  counter3 += 1\n",
        "print(f\"Number of conflicts after First-choice Hill climbing restarts: {conflicts_jit(board3)}\")\n",
        "print(\"Number of restarts: \" , counter3,\"\\n\")"
      ]
    },
    {
      "cell_type": "markdown",
      "metadata": {
        "id": "2AcsEOLfBC4m"
      },
      "source": [
        "## Task 5: Simulated Annealing [10 Points]\n",
        "\n",
        "Simulated annealing is a form of stochastic hill climbing that avoid local optima by also allowing downhill moves with a probability proportional to a temperature. The temperature is decreased in every iteration following an annealing schedule. You have to experiment with the annealing schedule (Google to find guidance on this).\n",
        "\n",
        "\n",
        "1. Implement simulated annealing for the n-Queens problem.\n",
        "2. Compare the performance with the previous algorithms.\n",
        "2. Discuss your choice of annealing schedule."
      ]
    },
    {
      "cell_type": "code",
      "execution_count": 174,
      "metadata": {
        "colab": {
          "base_uri": "https://localhost:8080/",
          "height": 457
        },
        "id": "5QKX3XmaBC4m",
        "outputId": "ee4f2d90-5166-4bb8-d439-9bdea0fb5848"
      },
      "outputs": [
        {
          "output_type": "stream",
          "name": "stdout",
          "text": [
            "Board with 5 conflicts.\n"
          ]
        },
        {
          "output_type": "display_data",
          "data": {
            "text/plain": [
              "<Figure size 640x480 with 1 Axes>"
            ],
            "image/png": "[encoded data removed]"
          },
          "metadata": {}
        },
        {
          "output_type": "stream",
          "name": "stdout",
          "text": [
            "Number of conflicts before climbing: 5\n",
            "Number of conflicts after climbing: 0\n"
          ]
        }
      ],
      "source": [
        "# Code and description go here\n",
        "import math\n",
        "\n",
        "def schedule(t):\n",
        "  alpha = .82\n",
        "  return T * (alpha ** t)\n",
        "\n",
        "def simulated_annealing(board, schedule):\n",
        "  current = list(board)\n",
        "  for t in range(1,1000):\n",
        "    T = schedule(t)\n",
        "    if T == 0:\n",
        "      return current\n",
        "    next = list(current)\n",
        "    next[random.randint(0,(len(current)-1))] = random.randint(0,(len(current)-1))\n",
        "    delta_e = conflicts_jit(next) - conflicts_jit(current)\n",
        "    if delta_e < 0:\n",
        "      current = next\n",
        "    else:\n",
        "      p = math.exp(-delta_e/T)\n",
        "      if random.random() < p:\n",
        "        current = next\n",
        "  return current\n",
        "\n",
        "\n",
        "T = 10000\n",
        "board = random_board(4)\n",
        "show_board(board)\n",
        "print(f\"Number of conflicts before climbing: {conflicts_jit(board)}\")\n",
        "board = simulated_annealing(board,schedule)\n",
        "print(f\"Number of conflicts after climbing: {conflicts_jit(board)}\")"
      ]
    },
    {
      "cell_type": "markdown",
      "metadata": {
        "id": "9p9gE0fFBC4n"
      },
      "source": [
        "## Task 6: Compare Performance [10 Points]\n",
        "\n",
        "Compare the algorithm using runtime and objective function values. Use boards of size 4 and 8 to explore how the different algorithms perform. Make sure that you run the algorithms for each board size several times (at least 100 times) with different starting boards and report averages.\n",
        "\n",
        "Complete the following table\n",
        "\n",
        "| Algorithm           | Board size | Avg. Run time | Avg. number of conflicts | % of runs ending in optimal solution  |\n",
        "| ------------------- | ---------- | ------------- | --------------------------------- | - |\n",
        "| Steepest asc. HC    |     4      |               |                                   |   |\n",
        "| Stochastic HC 1     |     4      |               |                                   |   |\n",
        "| Stochastic HC 2     |     4      |               |                                   |   |\n",
        "| Simulated Annealing |     4      |               |                                   |   |\n",
        "| Steepest asc. HC    |     8      |               |                                   |   |\n",
        "| Stochastic HC 1     |     8      |               |                                   |   |\n",
        "| Stochastic HC 2     |     8      |               |                                   |   |\n",
        "| Simulated Annealing |     8      |               |                                   |   |\n",
        "\n",
        "\n",
        "Add the used code and the answer to the following questions below.\n",
        "\n",
        "* How do the algorithms scale with problem size? You will need to run more board sizes. You can add the results to the table above and show the result as a chart.\n",
        "\n",
        "* What is the largest board each algorithm can solve in a reasonable amount time?\n",
        "\n",
        "Hint: See [Profiling Python Code](../HOWTOs/profiling_code.ipynb) for help about how to measure runtime in Python."
      ]
    },
    {
      "cell_type": "code",
      "execution_count": 178,
      "metadata": {
        "colab": {
          "base_uri": "https://localhost:8080/"
        },
        "id": "EuIvVplVBC4n",
        "outputId": "ce7c97aa-de36-4ba1-e149-8604039b58eb"
      },
      "outputs": [
        {
          "output_type": "stream",
          "name": "stdout",
          "text": [
            "['hill_climbing', 4, 0.0008587145805358887, 0.79, 0.31]\n",
            "['stochastic_hill_climbing', 4, 0.0008587145805358887, 0.79, 0.31]\n",
            "['first_choice_hill_climbing', 4, 0.0008587145805358887, 0.79, 0.31]\n",
            "['simulated_annealing', 4, 0.0008587145805358887, 0.79, 0.31]\n",
            "['hill_climbing', 8, 0.0072343707084655765, 2.1, 0.46]\n",
            "['stochastic_hill_climbing', 8, 0.0072343707084655765, 2.1, 0.46]\n",
            "['first_choice_hill_climbing', 8, 0.0072343707084655765, 2.1, 0.46]\n",
            "['simulated_annealing', 8, 0.0072343707084655765, 2.1, 0.46]\n"
          ]
        }
      ],
      "source": [
        "# Code, results, charts and discussion go here\n",
        "import time\n",
        "board_sizes = [4,8]\n",
        "algorithms = [\"hill_climbing\",\"stochastic_hill_climbing\",\"first_choice_hill_climbing\",\"simulated_annealing\"]\n",
        "results = []\n",
        "opt_count=0\n",
        "opt_counts = []\n",
        "avg_time=0\n",
        "avg_times = []\n",
        "avg_conflict=0\n",
        "avg_conflicts = []\n",
        "for board_s in board_sizes:\n",
        "  for alg in algorithms:\n",
        "    for iter in range(100):\n",
        "      avg_time = 0\n",
        "      avg_conflict = 0\n",
        "      opt_count = 0\n",
        "      if alg == \"hill_climbing\":\n",
        "        board = random_board(board_s)\n",
        "        start = time.time()\n",
        "        board = hill_climbing(board)\n",
        "        end = time.time()\n",
        "        avg_time += (end - start)\n",
        "        avg_conflicts += conflicts_jit(board)\n",
        "        if conflicts_jit(board) == 0:\n",
        "          opt_count += 1\n",
        "      if alg == \"stochastic_hill_climbing\":\n",
        "        board = random_board(board_s)\n",
        "        start = time.time()\n",
        "        board = stochastic_hill_climbing(board)\n",
        "        end = time.time()\n",
        "        avg_time += (end - start)\n",
        "        avg_conflict += conflicts_jit(board)\n",
        "        if conflicts_jit(board) == 0:\n",
        "          opt_count += 1\n",
        "      if alg == \"first_choice_hill_climbing\":\n",
        "        board = random_board(board_s)\n",
        "        start = time.time()\n",
        "        board = first_choice_hill_climbing(board)\n",
        "        end = time.time()\n",
        "        avg_time += (end - start)\n",
        "        avg_conflict += conflicts_jit(board)\n",
        "        if conflicts_jit(board) == 0:\n",
        "          opt_count += 1\n",
        "      if alg == \"simulated_annealing\":\n",
        "        board = random_board(board_s)\n",
        "        T = 10000\n",
        "        start = time.time()\n",
        "        board = simulated_annealing(board,schedule)\n",
        "        end = time.time()\n",
        "        avg_time += (end - start)\n",
        "        avg_conflict += conflicts_jit(board)\n",
        "        if conflicts_jit(board) == 0:\n",
        "          opt_count += 1\n",
        "    results.append([alg,board_s,avg_time[algorithms.index(alg)%4]/100,avg_conflicts[algorithms.index(alg)%4]/100,opt_count[algorithms.index(alg)%4]/100])\n",
        "\n",
        "\n",
        "for i in results:\n",
        "  print(i)\n"
      ]
    },
    {
      "cell_type": "markdown",
      "metadata": {
        "id": "wlg_ZpGMBC4n"
      },
      "source": [
        "## Advanced task: Exploring other Local Moves\n",
        "\n",
        "* __Graduate students__ need to complete this task [10 points]\n",
        "* __Undergraduate students__ can attempt this as a bonus task [max +5 bonus points].\n",
        "\n",
        "Implement a few different local moves. Implement:\n",
        "\n",
        "* moving one queen only one square at a time\n",
        "* switching two columns\n",
        "* move two queens at a time\n",
        "\n",
        "Compare the performance of these moves for the 8-Queens problem using your stochastic hill climbing 2 implementation from above. Also consider mixing the use of several types of local moves (e.g., move one queen and moving two queens).\n",
        "\n",
        "Describe what you find out about how well these moves and combinations of these moves work."
      ]
    },
    {
      "cell_type": "code",
      "execution_count": null,
      "metadata": {
        "tags": [],
        "id": "3IIBA0Y4BC4n"
      },
      "outputs": [],
      "source": [
        "# Code and description go here"
      ]
    }
  ],
  "metadata": {
    "kernelspec": {
      "display_name": "Python 3 (ipykernel)",
      "language": "python",
      "name": "python3"
    },
    "language_info": {
      "codemirror_mode": {
        "name": "ipython",
        "version": 3
      },
      "file_extension": ".py",
      "mimetype": "text/x-python",
      "name": "python",
      "nbconvert_exporter": "python",
      "pygments_lexer": "ipython3",
      "version": "3.10.12"
    },
    "toc-autonumbering": false,
    "toc-showcode": false,
    "toc-showmarkdowntxt": false,
    "toc-showtags": false,
    "colab": {
      "provenance": []
    }
  },
  "nbformat": 4,
  "nbformat_minor": 0
}