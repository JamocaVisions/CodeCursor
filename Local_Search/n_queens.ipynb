{
  "cells": [
    {
      "cell_type": "markdown",
      "metadata": {
        "id": "EfWXlDcG9QC3"
      },
      "source": [
        "# Solving the n-Queens Problem using Local Search\n",
        "\n",
        "Student Name: [Add your name]\n",
        "\n",
        "I have used the following AI tools: [list tools]\n",
        "\n",
        "I understand that my submission needs to be my own work: [your initials]\n",
        "\n",
        "## Instructions\n",
        "\n",
        "Total Points: Undergrads 100 + 5 bonus / Graduate students 110\n",
        "\n",
        "Complete this notebook. Use the provided notebook cells and insert additional code and markdown cells as needed. Submit the completely rendered notebook as a HTML file.\n"
      ]
    },
    {
      "cell_type": "markdown",
      "metadata": {
        "id": "YwCW4Az99QDF"
      },
      "source": [
        "## The n-Queens Problem\n",
        "\n",
        "* __Goal:__ Find an arrangement of $n$ queens on a $n \\times n$ chess board so that no queen is on the same row, column or diagonal as any other queen.\n",
        "\n",
        "* __State space:__ An arrangement of the queens on the board. We restrict the state space to arrangements where there is only a single queen per column. We represent a state as an integer vector $\\mathbf{q} = \\{q_1, q_2, \\dots, q_n\\}$, each number representing the row positions of the queens from left to right. We will call a state a \"board.\"\n",
        "\n",
        "* __Objective function:__ The number of pairwise conflicts (i.e., two queens in the same row/column/diagonal).\n",
        "The optimization problem is to find the optimal arrangement $\\mathbf{q}^*$ of $n$ queens on the board can be written as:\n",
        "\n",
        "  > minimize: $\\mathrm{conflicts}(\\mathbf{q})$\n",
        "  >\n",
        "  > subject to: $\\mathbf{q} \\ \\text{contains only one queen per column}$\n",
        "\n",
        "  Note: the constraint (subject to) is enforced by the definition of the state space.\n",
        "\n",
        "* __Local improvement move:__ Move one queen to a different row in its column.\n",
        "\n",
        "* __Termination:__ For this problem there is always an arrangement $\\mathbf{q}^*$ with $\\mathrm{conflicts}(\\mathbf{q}^*) = 0$, however, the local improvement moves might end up in a local minimum."
      ]
    },
    {
      "cell_type": "markdown",
      "metadata": {
        "id": "y75LZlih9QDK"
      },
      "source": [
        "## Helper functions"
      ]
    },
    {
      "cell_type": "code",
      "execution_count": 87,
      "metadata": {
        "id": "Xf140P409QDL"
      },
      "outputs": [],
      "source": [
        "import numpy as np\n",
        "import matplotlib.pyplot as plt\n",
        "from matplotlib import colors\n",
        "from numba import njit\n",
        "\n",
        "np.random.seed(1234)\n",
        "\n",
        "\n",
        "def random_board(n):\n",
        "    \"\"\"Creates a random board of size n x n. Note that only a single queen is placed in each column!\"\"\"\n",
        "\n",
        "    return(np.random.randint(0,n, size = n))\n",
        "\n",
        "\n",
        "# with jit (cannot use some Python functions like sum and map)\n",
        "@njit()\n",
        "def comb2_jit(n): return n*(n-1)//2 # this is n choose 2 equivalent to math.comb(n, 2); // is int division\n",
        "\n",
        "@njit()\n",
        "def conflicts_jit(board):\n",
        "    \"\"\"Calculate the number of conflicts, i.e., the objective function.\"\"\"\n",
        "\n",
        "    n = len(board)\n",
        "\n",
        "    cnt = [0] * (5 * n)\n",
        "\n",
        "    for i in range(n):\n",
        "        cnt[board[i]] += 1\n",
        "        cnt[(n) + (i + board[i])] += 1\n",
        "        cnt[(3 * n) + (i - board[i] + n)] += 1\n",
        "\n",
        "    conflicts = 0\n",
        "    for x in cnt:\n",
        "        conflicts += comb2_jit(x)\n",
        "\n",
        "    return conflicts\n",
        "\n",
        "# decrease the font size to fit larger boards\n",
        "def show_board(board, cols = ['white', 'gray'], fontsize = 48):\n",
        "    \"\"\"display the board\"\"\"\n",
        "\n",
        "    n = len(board)\n",
        "\n",
        "    # create chess board display\n",
        "    display = np.zeros([n,n])\n",
        "    for i in range(n):\n",
        "        for j in range(n):\n",
        "            if (((i+j) % 2) != 0):\n",
        "                display[i,j] = 1\n",
        "\n",
        "    cmap = colors.ListedColormap(cols)\n",
        "    fig, ax = plt.subplots()\n",
        "    ax.imshow(display, cmap = cmap,\n",
        "              norm = colors.BoundaryNorm(range(len(cols)+1), cmap.N))\n",
        "    ax.set_xticks([])\n",
        "    ax.set_yticks([])\n",
        "\n",
        "    # place queens. Note: Unicode u265B is a black queen\n",
        "    for j in range(n):\n",
        "        plt.text(j, board[j], u\"\\u265B\", fontsize = fontsize,\n",
        "                 horizontalalignment = 'center',\n",
        "                 verticalalignment = 'center')\n",
        "\n",
        "    print(f\"Board with {conflicts(board)} conflicts.\")\n",
        "    plt.show()"
      ]
    },
    {
      "cell_type": "markdown",
      "metadata": {
        "id": "8u7KTtB39QDQ"
      },
      "source": [
        "## Create a board"
      ]
    },
    {
      "cell_type": "code",
      "execution_count": 108,
      "metadata": {
        "id": "jhT9CkEF9QDQ",
        "outputId": "bdae29f1-4bb9-42e6-ce26-2459464e6814",
        "colab": {
          "base_uri": "https://localhost:8080/",
          "height": 457
        }
      },
      "outputs": [
        {
          "output_type": "stream",
          "name": "stdout",
          "text": [
            "Board with 2 conflicts.\n"
          ]
        },
        {
          "output_type": "display_data",
          "data": {
            "text/plain": [
              "<Figure size 640x480 with 1 Axes>"
            ],
            "image/png": "[encoded data removed]"
          },
          "metadata": {}
        },
        {
          "output_type": "stream",
          "name": "stdout",
          "text": [
            "Queens (left to right) are at rows: [3 1 3 1]\n",
            "Number of conflicts: 2\n"
          ]
        }
      ],
      "source": [
        "board = random_board(4)\n",
        "\n",
        "show_board(board)\n",
        "print(f\"Queens (left to right) are at rows: {board}\")\n",
        "print(f\"Number of conflicts: {conflicts(board)}\")"
      ]
    },
    {
      "cell_type": "markdown",
      "metadata": {
        "id": "IQZoUTUg9QDS"
      },
      "source": [
        "A board $4 \\times 4$ with no conflicts:"
      ]
    },
    {
      "cell_type": "code",
      "execution_count": 109,
      "metadata": {
        "id": "7B-PMaX99QDS",
        "outputId": "612548e0-c849-4e0f-ec03-1e26397797fa",
        "colab": {
          "base_uri": "https://localhost:8080/",
          "height": 423
        }
      },
      "outputs": [
        {
          "output_type": "stream",
          "name": "stdout",
          "text": [
            "Board with 0 conflicts.\n"
          ]
        },
        {
          "output_type": "display_data",
          "data": {
            "text/plain": [
              "<Figure size 640x480 with 1 Axes>"
            ],
            "image/png": "[encoded data removed]"
          },
          "metadata": {}
        }
      ],
      "source": [
        "board = [1,3,0,2]\n",
        "show_board(board)"
      ]
    },
    {
      "cell_type": "markdown",
      "metadata": {
        "id": "cRPCYscS9QDT"
      },
      "source": [
        "# Tasks\n",
        "\n",
        "## General [10 Points]\n",
        "\n",
        "1. Make sure that you use the latest version of this notebook. Sync your forked repository and pull the latest revision.\n",
        "2. Your implementation can use libraries like math, numpy, scipy, but not libraries that implement intelligent agents or complete search algorithms. Try to keep the code simple! In this course, we want to learn about the algorithms and we often do not need to use object-oriented design.\n",
        "3. You notebook needs to be formatted professionally.\n",
        "    - Add additional markdown blocks for your description, comments in the code, add tables and use mathplotlib to produce charts where appropriate\n",
        "    - Do not show debugging output or include an excessive amount of output.\n",
        "    - Check that your submitted file is readable and contains all figures.\n",
        "4. Document your code. Use comments in the code and add a discussion of how your implementation works and your design choices."
      ]
    },
    {
      "cell_type": "markdown",
      "metadata": {
        "id": "oRuJfHU59QDT"
      },
      "source": [
        "## Task 1: Steepest-ascend Hill Climbing Search [30 Points]\n",
        "\n",
        "Calculate the objective function for all local moves (see definition of local moves above) and always choose the best among all local moves. If there are no local moves that improve the objective, then you have reached a local optimum."
      ]
    },
    {
      "cell_type": "code",
      "execution_count": 135,
      "metadata": {
        "id": "CsyDjTm69QDT",
        "outputId": "9b9d415e-e36b-480b-e984-36fb02e8cae7",
        "colab": {
          "base_uri": "https://localhost:8080/",
          "height": 880
        }
      },
      "outputs": [
        {
          "output_type": "stream",
          "name": "stdout",
          "text": [
            "Board with 4 conflicts.\n"
          ]
        },
        {
          "output_type": "display_data",
          "data": {
            "text/plain": [
              "<Figure size 640x480 with 1 Axes>"
            ],
            "image/png": "[encoded data removed]"
          },
          "metadata": {}
        },
        {
          "output_type": "stream",
          "name": "stdout",
          "text": [
            "Queens (left to right) are at rows: [2 2 0 0]\n",
            "Number of conflicts: 4\n",
            "Local Optimum Met After 1000 tries for a better solution\n",
            "Board with 1 conflicts.\n"
          ]
        },
        {
          "output_type": "display_data",
          "data": {
            "text/plain": [
              "<Figure size 640x480 with 1 Axes>"
            ],
            "image/png": "[encoded data removed]"
          },
          "metadata": {}
        }
      ],
      "source": [
        "# Code and description go here\n",
        "\n",
        "\n",
        "def best_successor(board):\n",
        "  length = len(board)\n",
        "  best_result = board\n",
        "  for i in range(length):\n",
        "    for j in range(length):\n",
        "      if j != board[i]:\n",
        "        new_board = list(board)\n",
        "        new_board[i] = j\n",
        "        if conflicts_jit(new_board) < conflicts_jit(best_result):\n",
        "          best_result = new_board\n",
        "  return best_result\n",
        "\n",
        "def detect_cycles(board):\n",
        "  if tuple(board) in visited_states:\n",
        "    return True\n",
        "  else:\n",
        "    visited_states.append(tuple(board))\n",
        "    return False\n",
        "\n",
        "def hill_climbing(board):\n",
        "  visited_states = []\n",
        "  counter = 0\n",
        "  conflicts_count = conflicts_jit(board)\n",
        "  while conflicts_jit(board)>0:\n",
        "    upd_board = best_successor(board)\n",
        "    if conflicts_jit(upd_board) >= conflicts_count:\n",
        "      return board\n",
        "    board = upd_board\n",
        "    if detect_cycles(board): counter+=1\n",
        "    if counter > 1000:\n",
        "      print(\"Local Optimum Met After 1000 tries for a better solution\")\n",
        "      break\n",
        "  return board\n",
        "board = random_board(4)\n",
        "show_board(board)\n",
        "print(f\"Queens (left to right) are at rows: {board}\")\n",
        "print(f\"Number of conflicts: {conflicts_jit(board)}\")\n",
        "show_board(hill_climbing(board))"
      ]
    },
    {
      "cell_type": "markdown",
      "metadata": {
        "id": "cC_W8Yn39QDU"
      },
      "source": [
        "## Task 2: Stochastic Hill Climbing 1 [10 Points]\n",
        "\n",
        "Chooses randomly from among all uphill moves till you have reached a local optimum."
      ]
    },
    {
      "cell_type": "code",
      "execution_count": null,
      "metadata": {
        "id": "zSy9pgCP9QDU"
      },
      "outputs": [],
      "source": [
        "# Code and description go here"
      ]
    },
    {
      "cell_type": "markdown",
      "metadata": {
        "id": "d-cYyy_X9QDV"
      },
      "source": [
        "## Task 3: Stochastic Hill Climbing 2 [20 Points]\n",
        "\n",
        "A popular version of stochastic hill climbing generates only a single random local neighbor at a time and accept it if it has a better objective function value than the current state. This is very efficient if each state has many possible successor states. This method is called \"First-choice hill climbing\" in the textbook.\n",
        "\n",
        "__Notes:__\n",
        "\n",
        "* Detecting local optima is tricky! You can, for example, stop if you were not able to improve the objective function during the last $x$ tries."
      ]
    },
    {
      "cell_type": "code",
      "execution_count": null,
      "metadata": {
        "id": "0GywJB5O9QDV"
      },
      "outputs": [],
      "source": [
        "# Code and description go here"
      ]
    },
    {
      "cell_type": "markdown",
      "metadata": {
        "id": "919P_nIx9QDW"
      },
      "source": [
        "## Task 4: Hill Climbing Search with Random Restarts [10 Points]\n",
        "\n",
        "Hill climbing will often end up in local optima. Restart the each of the three hill climbing algorithm up to 100 times with a random board to find a better (hopefully optimal) solution. Note that restart just means to run the algorithm several times starting with a new random board."
      ]
    },
    {
      "cell_type": "code",
      "execution_count": null,
      "metadata": {
        "id": "Zb4UB0wA9QDW"
      },
      "outputs": [],
      "source": [
        "# Code and description go here"
      ]
    },
    {
      "cell_type": "markdown",
      "metadata": {
        "id": "aLBSa3Ld9QDW"
      },
      "source": [
        "## Task 5: Simulated Annealing [10 Points]\n",
        "\n",
        "Simulated annealing is a form of stochastic hill climbing that avoid local optima by also allowing downhill moves with a probability proportional to a temperature. The temperature is decreased in every iteration following an annealing schedule. You have to experiment with the annealing schedule (Google to find guidance on this).\n",
        "\n",
        "\n",
        "1. Implement simulated annealing for the n-Queens problem.\n",
        "2. Compare the performance with the previous algorithms.\n",
        "2. Discuss your choice of annealing schedule."
      ]
    },
    {
      "cell_type": "code",
      "execution_count": null,
      "metadata": {
        "id": "qd8Sd61A9QDX"
      },
      "outputs": [],
      "source": [
        "# Code and description go here"
      ]
    },
    {
      "cell_type": "markdown",
      "metadata": {
        "id": "ZAQu7uEL9QDX"
      },
      "source": [
        "## Task 6: Compare Performance [10 Points]\n",
        "\n",
        "Compare the algorithm using runtime and objective function values. Use boards of size 4 and 8 to explore how the different algorithms perform. Make sure that you run the algorithms for each board size several times (at least 100 times) with different starting boards and report averages.\n",
        "\n",
        "Complete the following table\n",
        "\n",
        "| Algorithm           | Board size | Avg. Run time | Avg. number of conflicts | % of runs ending in optimal solution  |\n",
        "| ------------------- | ---------- | ------------- | --------------------------------- | - |\n",
        "| Steepest asc. HC    |     4      |               |                                   |   |\n",
        "| Stochastic HC 1     |     4      |               |                                   |   |\n",
        "| Stochastic HC 2     |     4      |               |                                   |   |\n",
        "| Simulated Annealing |     4      |               |                                   |   |\n",
        "| Steepest asc. HC    |     8      |               |                                   |   |\n",
        "| Stochastic HC 1     |     8      |               |                                   |   |\n",
        "| Stochastic HC 2     |     8      |               |                                   |   |\n",
        "| Simulated Annealing |     8      |               |                                   |   |\n",
        "\n",
        "\n",
        "Add the used code and the answer to the following questions below.\n",
        "\n",
        "* How do the algorithms scale with problem size? You will need to run more board sizes. You can add the results to the table above and show the result as a chart.\n",
        "\n",
        "* What is the largest board each algorithm can solve in a reasonable amount time?\n",
        "\n",
        "Hint: See [Profiling Python Code](../HOWTOs/profiling_code.ipynb) for help about how to measure runtime in Python."
      ]
    },
    {
      "cell_type": "code",
      "execution_count": null,
      "metadata": {
        "id": "ECm33SVv9QDo"
      },
      "outputs": [],
      "source": [
        "# Code, results, charts and discussion go here"
      ]
    },
    {
      "cell_type": "markdown",
      "metadata": {
        "id": "9eDbFrlp9QDq"
      },
      "source": [
        "## Advanced task: Exploring other Local Moves\n",
        "\n",
        "* __Graduate students__ need to complete this task [10 points]\n",
        "* __Undergraduate students__ can attempt this as a bonus task [max +5 bonus points].\n",
        "\n",
        "Implement a few different local moves. Implement:\n",
        "\n",
        "* moving one queen only one square at a time\n",
        "* switching two columns\n",
        "* move two queens at a time\n",
        "\n",
        "Compare the performance of these moves for the 8-Queens problem using your stochastic hill climbing 2 implementation from above. Also consider mixing the use of several types of local moves (e.g., move one queen and moving two queens).\n",
        "\n",
        "Describe what you find out about how well these moves and combinations of these moves work."
      ]
    },
    {
      "cell_type": "code",
      "execution_count": null,
      "metadata": {
        "tags": [],
        "id": "eLTWPihD9QDr"
      },
      "outputs": [],
      "source": [
        "# Code and description go here"
      ]
    },
    {
      "cell_type": "markdown",
      "metadata": {
        "id": "3c_mKvwF9QDr"
      },
      "source": [
        "## More Things to Do (not for credit)\n",
        "\n",
        "If the assignment was to easy for yuo then you can think about the following problems. These problems are challenging and not part of this assignment.\n",
        "\n",
        "### Implement a Genetic Algorithm for the n-Queens problem"
      ]
    },
    {
      "cell_type": "code",
      "execution_count": null,
      "metadata": {
        "tags": [],
        "id": "aWY_75j79QDr"
      },
      "outputs": [],
      "source": [
        "# Code and description go here"
      ]
    }
  ],
  "metadata": {
    "kernelspec": {
      "display_name": "Python 3 (ipykernel)",
      "language": "python",
      "name": "python3"
    },
    "language_info": {
      "codemirror_mode": {
        "name": "ipython",
        "version": 3
      },
      "file_extension": ".py",
      "mimetype": "text/x-python",
      "name": "python",
      "nbconvert_exporter": "python",
      "pygments_lexer": "ipython3",
      "version": "3.10.12"
    },
    "toc-autonumbering": false,
    "toc-showcode": false,
    "toc-showmarkdowntxt": false,
    "toc-showtags": false,
    "colab": {
      "provenance": []
    }
  },
  "nbformat": 4,
  "nbformat_minor": 0
}