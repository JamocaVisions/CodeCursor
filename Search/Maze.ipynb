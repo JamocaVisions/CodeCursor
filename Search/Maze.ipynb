{
  "cells": [
    {
      "cell_type": "markdown",
      "metadata": {
        "id": "LSZdc9fuBKsJ"
      },
      "source": [
        "# Search: Solving a Maze Using a Goal-based Agent\n",
        "\n",
        "Student Name: [Add your name]\n",
        "\n",
        "I have used the following AI tools: [list tools]\n",
        "\n",
        "I understand that my submission needs to be my own work: [your initials]\n",
        "\n",
        "## Instructions\n",
        "\n",
        "Total Points: Undergrads 100 + 5 bonus / Graduate students 110\n",
        "\n",
        "Complete this notebook. Use the provided notebook cells and insert additional code and markdown cells as needed. Submit the notebook file and the completely rendered notebook with all outputs as a HTML file.\n",
        "\n",
        "\n",
        "## Introduction\n",
        "\n",
        "The agent must use a map it is given to plan a path through the maze from the starting location $S$ to the goal location $G$. This is a planing exercise for a goal-based agent, so you do not need to implement an environment, just use the map to search for a path. Once the plan is made, the agent in a deterministic environment (i.e., the transition function is deterministic with the outcome of each state/action pair fixed and no randomness) can just follow the path and does not need to care about the percepts.\n",
        "This is also called an **[open-loop system](https://en.wikipedia.org/wiki/Open-loop_controller).**\n",
        "The execution phase is trivial and can be executed using a model-based reflex agent\n",
        "that ignores all percepts and just follows the plan. We do not implement it in this exercise.\n",
        "\n",
        "Given that the agent has a complete and correct map, the environment is **fully observable, discrete, deterministic, and known.**\n",
        "Remember:\n",
        "\n",
        "* **Fully observable** means that the agent can see its state and what the available actions are. That means the **percepts contain the complete current state.**\n",
        "Here, during planning, the agent always sees its x and y coordinates on the map and\n",
        "also seeks when it has reached the goal state.\n",
        "* **Discrete** means that we have a **finite set of states.** The maze has a finite set\n",
        "of squares the agent can be in.\n",
        "* **Deterministic** means that the **transition function contains no randomness.** An action in a state will always produce the same result. Going south from the start state always will lead to the same square.\n",
        "* **Know** means that the agent **knows the complete transition function.** The\n",
        "agent has the map and therefore knows how its position changes when it walks in a direction.\n",
        "\n",
        "Tree search algorithm implementations that you find online typically come from data structures courses and have a different aim than AI tree search. These algorithms assume that you already have a tree in memory. We are interested in dynamically creating a search tree with the aim of finding a good/the best path from the root note to the goal state. Follow the pseudo code presented in the text book (and replicated in the slides) closely. Ideally, we would like to search only a small part of the maze, i.e., create a search tree with as few nodes as possible.\n",
        "\n",
        "Several mazes for this exercise are stored as text files. Here is the small example maze:"
      ]
    },
    {
      "cell_type": "code",
      "execution_count": 7,
      "metadata": {
        "colab": {
          "base_uri": "https://localhost:8080/"
        },
        "id": "Qe54Js3wBKsJ",
        "outputId": "acc4ed32-67e2-405f-e5d8-83c9b5a87bf9"
      },
      "outputs": [
        {
          "output_type": "stream",
          "name": "stdout",
          "text": [
            "XXXXXXXXXXXXXXXXXXXXXX\n",
            "X XX        X X      X\n",
            "X    XXXXXX X XXXXXX X\n",
            "XXXXXX     S  X      X\n",
            "X    X XXXXXX XX XXXXX\n",
            "X XXXX X         X   X\n",
            "X        XXX XXX   X X\n",
            "XXXXXXXXXX    XXXXXX X\n",
            "XG         XX        X\n",
            "XXXXXXXXXXXXXXXXXXXXXX\n",
            "\n"
          ]
        }
      ],
      "source": [
        "with open(\"/content/drive/My Drive/Colab Notebooks/small_maze.txt\", \"r\") as f:\n",
        "    maze_str = f.read()\n",
        "print(maze_str)"
      ]
    },
    {
      "cell_type": "code",
      "source": [
        "from google.colab import drive\n",
        "drive.mount('/content/drive')\n"
      ],
      "metadata": {
        "colab": {
          "base_uri": "https://localhost:8080/"
        },
        "id": "sHu0HNHjC_f9",
        "outputId": "8db8d30a-e7dd-4ffd-8691-8a913a3aedf4"
      },
      "execution_count": 6,
      "outputs": [
        {
          "output_type": "stream",
          "name": "stdout",
          "text": [
            "Mounted at /content/drive\n"
          ]
        }
      ]
    },
    {
      "cell_type": "markdown",
      "metadata": {
        "id": "1FgNVBfWBKsK"
      },
      "source": [
        "**Note:** If you get an error here that the file cannot be found, then you need to download it. See [HOWTO Work on Assignments.](../HOWTOs/working_on_assignments.md)."
      ]
    },
    {
      "cell_type": "markdown",
      "metadata": {
        "id": "x0R6PpeGBKsK"
      },
      "source": [
        "## Parsing and pretty printing the maze\n",
        "\n",
        "The maze can also be displayed in color using code in the module [maze_helper.py](maze_helper.py). The code parses the string representing the maze and converts it into a `numpy` 2d array which you can use in your implementation. Position are represented as a 2-tuple of the form `(row, col)`."
      ]
    },
    {
      "cell_type": "code",
      "execution_count": 9,
      "metadata": {
        "tags": [],
        "colab": {
          "base_uri": "https://localhost:8080/"
        },
        "id": "rg7_auknBKsK",
        "outputId": "4dccde40-e4ff-4f9c-d72c-fcc15c401f62"
      },
      "outputs": [
        {
          "output_type": "stream",
          "name": "stdout",
          "text": [
            "Position(0,0): X\n",
            "Position(8,1): G\n"
          ]
        }
      ],
      "source": [
        "import maze_helper as mh\n",
        "\n",
        "maze = mh.parse_maze(maze_str)\n",
        "\n",
        "# look at a position in the maze by subsetting the 2d array\n",
        "print(\"Position(0,0):\", maze[0, 0])\n",
        "\n",
        "# there is also a helper function called `look(maze, pos)` available\n",
        "# which uses a 2-tuple for the position.\n",
        "print(\"Position(8,1):\", mh.look(maze, (8, 1)))"
      ]
    },
    {
      "cell_type": "markdown",
      "metadata": {
        "id": "-kZRgsqJBKsK"
      },
      "source": [
        "A helper function to visualize the maze is also available."
      ]
    },
    {
      "cell_type": "code",
      "execution_count": 10,
      "metadata": {
        "colab": {
          "base_uri": "https://localhost:8080/",
          "height": 286
        },
        "id": "go_lyhKZBKsK",
        "outputId": "eb20b737-392e-4a17-af03-36e9546ba3a1"
      },
      "outputs": [
        {
          "output_type": "display_data",
          "data": {
            "text/plain": [
              "<Figure size 640x480 with 1 Axes>"
            ],
            "image/png": "[encoded data removed]"
          },
          "metadata": {
            "image/png": {
              "width": 534,
              "height": 269
            }
          }
        }
      ],
      "source": [
        "%matplotlib inline\n",
        "%config InlineBackend.figure_format = 'retina'\n",
        "# use higher resolution images in notebooks\n",
        "\n",
        "mh.show_maze(maze)"
      ]
    },
    {
      "cell_type": "markdown",
      "metadata": {
        "id": "RiJ7hczbBKsK"
      },
      "source": [
        "Find the `(x,y)` position of the start and the goal using the helper function `find_pos()`"
      ]
    },
    {
      "cell_type": "code",
      "execution_count": 11,
      "metadata": {
        "colab": {
          "base_uri": "https://localhost:8080/"
        },
        "id": "On57kpAyBKsK",
        "outputId": "57e96fa9-f0c2-4b1c-e916-d418e621c82b"
      },
      "outputs": [
        {
          "output_type": "stream",
          "name": "stdout",
          "text": [
            "Start location: (3, 11)\n",
            "Goal location: (8, 1)\n"
          ]
        }
      ],
      "source": [
        "print(\"Start location:\", mh.find_pos(maze, what = \"S\"))\n",
        "print(\"Goal location:\", mh.find_pos(maze, what = \"G\"))"
      ]
    },
    {
      "cell_type": "markdown",
      "metadata": {
        "id": "e9aTkT1-BKsK"
      },
      "source": [
        "Helper function documentation."
      ]
    },
    {
      "cell_type": "code",
      "execution_count": 12,
      "metadata": {
        "colab": {
          "base_uri": "https://localhost:8080/"
        },
        "id": "c6-yiag1BKsK",
        "outputId": "99066846-a620-4390-b8a0-6c91719278f2"
      },
      "outputs": [
        {
          "output_type": "stream",
          "name": "stdout",
          "text": [
            "Help on module maze_helper:\n",
            "\n",
            "NAME\n",
            "    maze_helper\n",
            "\n",
            "DESCRIPTION\n",
            "    Code for the Maze Assignment by Michael Hahsler\n",
            "    Usage: \n",
            "        import maze_helper as mh\n",
            "        mh.show_some_mazes()\n",
            "\n",
            "FUNCTIONS\n",
            "    animate_maze(result, repeat=False)\n",
            "        Build an animation from a list of mazes. Assumes that results has the elements:\n",
            "        path, reached, actions and maze_anim with a list of maze arrays.\n",
            "    \n",
            "    find_pos(maze, what='S')\n",
            "        Find start/goal in a maze and returns the first one. \n",
            "        Caution: there is no error checking!\n",
            "        \n",
            "        Parameters:\n",
            "        maze: a array with characters prodced by parse_maze()\n",
            "        what: the letter to be found ('S' for start and 'G' for goal)\n",
            "        \n",
            "        Returns:\n",
            "        a tupple (x, y) for the found position.\n",
            "    \n",
            "    look(maze, pos)\n",
            "        Look at the label of a square with the position as an array of the form (x, y).\n",
            "    \n",
            "    maze_to_matrix(maze)\n",
            "        convert a maze a numeric numpy array for visualization via imshow.\n",
            "    \n",
            "    parse_maze(maze_str)\n",
            "        Convert a maze as a string into a 2d numpy array\n",
            "    \n",
            "    show_maze(maze, fontsize=10)\n",
            "        Display a (parsed) maze as an image.\n",
            "    \n",
            "    welcome()\n",
            "        Welcome message.\n",
            "\n",
            "FILE\n",
            "    /content/maze_helper.py\n",
            "\n",
            "\n"
          ]
        }
      ],
      "source": [
        "help(mh)"
      ]
    },
    {
      "cell_type": "markdown",
      "metadata": {
        "id": "ocPMcpjTBKsK"
      },
      "source": [
        "You will need to make a local copy of the module file [maze_helper.py](maze_helper.py) in the same folder where your notebook is."
      ]
    },
    {
      "cell_type": "markdown",
      "metadata": {
        "id": "ROEshtAuBKsK"
      },
      "source": [
        "## Tree structure\n",
        "\n",
        "Here is an implementation of the basic node structure for the search algorithms (see Fig 3.7 on page 73). I have added a method that extracts the path from the root node to the current node. It can be used to get the path when the search is completed."
      ]
    },
    {
      "cell_type": "code",
      "execution_count": 17,
      "metadata": {
        "id": "516JssIDBKsK"
      },
      "outputs": [],
      "source": [
        "class Node:\n",
        "    def __init__(self, pos, parent, action, cost):\n",
        "        self.pos = tuple(pos)    # the state; positions are (row,col)\n",
        "        self.parent = parent     # reference to parent node. None means root node.\n",
        "        self.action = action     # action used in the transition function (root node has None)\n",
        "        self.cost = cost         # for uniform cost this is the depth. It is also g(n) for A* search\n",
        "    def __str__(self):\n",
        "        return f\"Node - pos = {self.pos}; action = {self.action}; cost = {self.cost}\"\n",
        "\n",
        "    def get_path_from_root(self):\n",
        "        \"\"\"returns nodes on the path from the root to the current node.\"\"\"\n",
        "        node = self\n",
        "        path = [node]\n",
        "\n",
        "        while not node.parent is None:\n",
        "            node = node.parent\n",
        "            path.append(node)\n",
        "\n",
        "        path.reverse()\n",
        "\n",
        "        return(path)"
      ]
    },
    {
      "cell_type": "markdown",
      "metadata": {
        "id": "L_Epqom8BKsK"
      },
      "source": [
        "If needed, then you can add more fields to the class like the heuristic value $h(n)$ or $f(n)$.\n",
        "\n",
        "Examples for how to create and use a tree and information on memory management can be found [here](../HOWTOs/trees.ipynb)."
      ]
    },
    {
      "cell_type": "markdown",
      "metadata": {
        "id": "2mVwDETQBKsK"
      },
      "source": [
        "# Tasks\n",
        "\n",
        "The goal is to:\n",
        "\n",
        "1. Implement the following search algorithms for solving different mazes:\n",
        "\n",
        "    - Breadth-first search (BFS)\n",
        "    - Depth-first search (DFS)\n",
        "    - Greedy best-first search (GBFS)\n",
        "    - A* search\n",
        "\n",
        "2. Run each of the above algorithms on the\n",
        "    - [small maze](small_maze.txt),\n",
        "    - [medium maze](medium_maze.txt),\n",
        "    - [large maze](large_maze.txt),\n",
        "    - [open maze](open_maze.txt),\n",
        "    - [wall maze](wall_maze.txt),\n",
        "    - [loops maze](loops_maze.txt),\n",
        "    - [empty maze](empty_maze.txt), and\n",
        "    - [empty 2_maze](empty_2_maze.txt).\n",
        "    \n",
        "3. For each problem instance and each search algorithm, report the following in a table:\n",
        "\n",
        "    - The solution and its path cost\n",
        "    - Total number of nodes expanded\n",
        "    - Maximum tree depth\n",
        "    - Maximum size of the frontier\n",
        "\n",
        "4. Display each solution by marking every maze square (or state) visited and the squares on the final path.\n",
        "\n",
        "## General [10 Points]\n",
        "\n",
        "1. Make sure that you use the latest version of this notebook.\n",
        "2. Your implementation can use libraries like math, numpy, scipy, but not libraries that implement intelligent agents or complete search algorithms. Try to keep the code simple! In this course, we want to learn about the algorithms and we often do not need to use object-oriented design.\n",
        "3. You notebook needs to be formatted professionally.\n",
        "    - Add additional markdown blocks for your description, comments in the code, add tables and use mathplotlib to produce charts where appropriate\n",
        "    - Do not show debugging output or include an excessive amount of output.\n",
        "    - Check that your submitted file is readable and contains all figures.\n",
        "4. Document your code. Use comments in the code and add a discussion of how your implementation works and your design choices."
      ]
    },
    {
      "cell_type": "markdown",
      "metadata": {
        "id": "s6XpGmaYBKsL"
      },
      "source": [
        "## Task 1: Defining the search problem and determining the problem size [10 Points]\n",
        "\n",
        "Define the components of the search problem:\n",
        "\n",
        "* Initial state\n",
        "* Actions\n",
        "* Transition model\n",
        "* Goal state\n",
        "* Path cost\n",
        "\n",
        "Use verbal descriptions, variables and equations as appropriate.\n",
        "\n",
        "*Note:* You can swich the next block from code to Markdown and use formating."
      ]
    },
    {
      "cell_type": "markdown",
      "source": [
        "* Initial State: Will begin at the starting position S\n",
        "* Actions: {N, E, S, W}\n",
        "* Transition Model: Move a direction\n",
        "* Goal State: Reaching Position G\n",
        "* Path Cost: Sum of number of actions"
      ],
      "metadata": {
        "id": "Ju0q0t4xPVjd"
      }
    },
    {
      "cell_type": "markdown",
      "metadata": {
        "id": "S1OSd709BKsL"
      },
      "source": [
        "Give some estimates for the problem size:\n",
        "\n",
        "* $n$: state space size\n",
        "* $d$: depth of the optimal solution\n",
        "* $m$: maximum depth of tree\n",
        "* $b$: maximum branching factor\n",
        "\n",
        "Describe how you would determin these values for a given maze."
      ]
    },
    {
      "cell_type": "markdown",
      "source": [
        "* $n$: state space size - would be dependent on the size of the maze and its available spaces\n",
        "* $d$: depth of the optimal solution - Would be dependent on the type of search being done and the shortest path achieved\n",
        "* $m$: maximum depth of tree - is determined based on the search method being used for the worst performance and largest space utilized\n",
        "* $b$: maximum branching factor - is determined based on the number of actions taken and actions of those actions."
      ],
      "metadata": {
        "id": "onI8ZYUjk6dg"
      }
    },
    {
      "cell_type": "markdown",
      "metadata": {
        "id": "WSV9d0euBKsL"
      },
      "source": [
        "## Task 2: Uninformed search: Breadth-first and depth-first [40 Points]\n",
        "\n",
        "Implement these search strategies. Follow the pseudocode in the textbook/slides. You can use the tree structure shown above to extract the final path from your solution.\n",
        "\n",
        "Read the following **important notes** carefully:\n",
        "* You can find maze solving implementations online that use the map to store information. While this is an effective idea for this two-dimensional navigation problem, it typically cannot be used for other search problems. Therefore, follow the textbook and **do not store information in the map.** Only store information in the tree created during search, and use the `reached` and `frontier` data structures where appropriate.\n",
        "* DSF behavior can be implemented using the BFS tree search algorithm and simply changing the order in which the frontier is expanded (this is equivalent to best-first search with path length as the criterion to expand the next node). However, this would be a big mistake since it combines the bad space complexity of BFS with the bad time complexity of DFS! **To take advantage of the significantly smaller memory footprint of DFS, you need to implement DFS in a different way without a `reached` data structure (often also called `visited` or `explored`) and by releasing the memory for nodes that are not needed anymore.**\n",
        "* Since the proper implementation of DFS does not use a `reached` data structure, redundant path checking abilities are limited to cycle checking.\n",
        "You need to implement **cycle checking since DSF is incomplete (produces an infinite loop) if cycles cannot be prevented.** You will see in your experiments that cycle checking in open spaces is challenging."
      ]
    },
    {
      "cell_type": "code",
      "execution_count": 18,
      "metadata": {
        "id": "kwZ6WgdCBKsL"
      },
      "outputs": [],
      "source": [
        "# Your code goes here\n",
        "def bfs(maze_name):\n",
        "  print(\"Start location:\", mh.find_pos(maze_name, what = \"S\"))\n",
        "  root = Node(mh.find_pos(maze_name, what = \"S\"),parent=None, action =None, cost = 0)\n",
        "  if root.pos == mh.find_pos(maze_name, what = \"G\"):\n",
        "    return root\n",
        "  frontier = [root]\n",
        "  reached = {root.pos}\n",
        "  while not frontier == []:\n",
        "    node = frontier.pop(0)\n",
        "    for child in expand(maze_name, node):\n",
        "      #print(child)\n",
        "      maze = maze_name[child.parent.pos] = '.'\n",
        "      #print(mh.maze_to_matrix(maze_name))\n",
        "      s = child.pos\n",
        "      #print()\n",
        "      if mh.find_pos(maze_name, what = \"G\") == s:\n",
        "        return child\n",
        "      if s not in reached:\n",
        "        reached.add(s)\n",
        "        frontier.append(child)\n",
        "  return None\n",
        "\n",
        "def action_cost(position,action,s_):\n",
        "  if s_ == position:\n",
        "    return 0.0\n",
        "  else:\n",
        "    return 1.0\n",
        "\n",
        "def result(node,action):\n",
        "  position = node.pos\n",
        "  if action == \"North\": position = position[0] - 1, position[1]\n",
        "  if action == \"South\": position = position[0] + 1, position[1]\n",
        "  if action == \"East\": position = position[0], position[1] + 1\n",
        "  if action == \"West\": position = position[0], position[1] - 1\n",
        "  return position\n",
        "\n",
        "def actions(maze_name, pos):\n",
        "  position = pos\n",
        "  actions = {\"West\":[0,-1],\"East\":[0,1],\"North\":[-1,0],\"South\":[1,0]}\n",
        "  valid_actions = {}\n",
        "  for dir, (x,y) in actions.items():\n",
        "    position = pos[0] + x, pos[1] + y\n",
        "    if maze_name[position] == \"X\":\n",
        "      valid_actions[dir] = False\n",
        "    else:\n",
        "      valid_actions[dir] = True\n",
        "  return valid_actions\n",
        "\n",
        "def expand(maze_name,node):\n",
        "  position = node.pos\n",
        "\n",
        "  try:\n",
        "    for action, is_valid in actions(maze_name, position).items():\n",
        "      if is_valid:\n",
        "        s_ = result(node,action)\n",
        "        if s_ != position:\n",
        "          cost = node.cost + action_cost(position,action,s_)\n",
        "        else: cost = node.cost\n",
        "        yield Node(s_,node,action,cost)\n",
        "      continue\n",
        "  except TypeError:\n",
        "    print(\"Not working\")"
      ]
    },
    {
      "cell_type": "code",
      "source": [
        "def DFS(maze_name):\n",
        "  print(\"Start location:\", mh.find_pos(maze_name, what = \"S\"))\n",
        "  root = Node(mh.find_pos(maze_name, what = \"S\"),parent=None, action =None, cost = 0)\n",
        "  frontier = [(root,[root.pos])]\n",
        "  while not frontier == []:\n",
        "    node, visited = frontier.pop()\n",
        "    #print(node,\" \",path)\n",
        "    if mh.find_pos(maze_name, what = \"G\") == node.pos:\n",
        "      return node\n",
        "    for child in expand(maze_name, node):\n",
        "      #print(path)\n",
        "      #print(child.pos)\n",
        "      if child.pos not in visited:\n",
        "        frontier.append((child,visited + [child.pos]))\n",
        "  return None"
      ],
      "metadata": {
        "id": "lAskrLKnBHhk"
      },
      "execution_count": 19,
      "outputs": []
    },
    {
      "cell_type": "code",
      "source": [
        "maze = mh.parse_maze(maze_str)\n",
        "print(maze_str)\n",
        "print(bfs(maze))\n",
        "maze = mh.parse_maze(maze_str)\n",
        "print(maze_str)\n",
        "print(DFS(maze))"
      ],
      "metadata": {
        "colab": {
          "base_uri": "https://localhost:8080/"
        },
        "id": "0BHgsqsZI9rw",
        "outputId": "3e5a0f70-2c13-4068-da1c-7f41bcde1316"
      },
      "execution_count": 20,
      "outputs": [
        {
          "output_type": "stream",
          "name": "stdout",
          "text": [
            "XXXXXXXXXXXXXXXXXXXXXX\n",
            "X XX        X X      X\n",
            "X    XXXXXX X XXXXXX X\n",
            "XXXXXX     S  X      X\n",
            "X    X XXXXXX XX XXXXX\n",
            "X XXXX X         X   X\n",
            "X        XXX XXX   X X\n",
            "XXXXXXXXXX    XXXXXX X\n",
            "XG         XX        X\n",
            "XXXXXXXXXXXXXXXXXXXXXX\n",
            "\n",
            "Start location: (3, 11)\n",
            "Node - pos = (8, 1); action = West; cost = 19.0\n",
            "XXXXXXXXXXXXXXXXXXXXXX\n",
            "X XX        X X      X\n",
            "X    XXXXXX X XXXXXX X\n",
            "XXXXXX     S  X      X\n",
            "X    X XXXXXX XX XXXXX\n",
            "X XXXX X         X   X\n",
            "X        XXX XXX   X X\n",
            "XXXXXXXXXX    XXXXXX X\n",
            "XG         XX        X\n",
            "XXXXXXXXXXXXXXXXXXXXXX\n",
            "\n",
            "Start location: (3, 11)\n",
            "Node - pos = (8, 1); action = West; cost = 37.0\n"
          ]
        }
      ]
    },
    {
      "cell_type": "markdown",
      "metadata": {
        "id": "6PaF0PWUBKsL"
      },
      "source": [
        "How does BFS and DFS (without a reached data structure) deal with loops (cycles)?"
      ]
    },
    {
      "cell_type": "markdown",
      "source": [
        "* BFS deals with loops by having an array of names reached that gathers all the node positions that have been reached.\n",
        "* DFS deals with loops by keeping track of visited positions to move to the next action from the path of intersection."
      ],
      "metadata": {
        "id": "e8fVrltdOh-4"
      }
    },
    {
      "cell_type": "markdown",
      "metadata": {
        "id": "ypIZsv8dBKsL"
      },
      "source": [
        "Are your implementations complete and optimal? Explain why. What is the time and space complexity of each of **your** implementations? Especially discuss the difference in space complexity between BFS and DFS."
      ]
    },
    {
      "cell_type": "code",
      "execution_count": null,
      "metadata": {
        "id": "3mjVdp1gBKsL"
      },
      "outputs": [],
      "source": [
        "# Discussion"
      ]
    },
    {
      "cell_type": "markdown",
      "metadata": {
        "id": "0aR2ymlbBKsL"
      },
      "source": [
        "## Task 3: Informed search: Implement greedy best-first search and A* search  [20 Points]\n",
        "\n",
        "You can use the map to estimate the distance from your current position to the goal using the Manhattan distance (see https://en.wikipedia.org/wiki/Taxicab_geometry) as a heuristic function. Both algorithms are based on Best-First search which requires only a small change from the BFS algorithm you have already implemented (see textbook/slides)."
      ]
    },
    {
      "cell_type": "code",
      "execution_count": 21,
      "metadata": {
        "id": "hrRwU1l1BKsL"
      },
      "outputs": [],
      "source": [
        "# Your code goes here\n",
        "\n",
        "import heapq as prior\n",
        "\n",
        "def uniform_cost_gbfs_search(pos,goal):\n",
        "  return abs(pos[0] - goal[0]) + abs(pos[1] - goal[1])\n",
        "\n",
        "def gbfs(maze_name):\n",
        "  print(\"Start location:\", mh.find_pos(maze_name, what = \"S\"))\n",
        "  root = Node(mh.find_pos(maze_name, what = \"S\"),parent=None, action =None, cost = 0)\n",
        "  goal = mh.find_pos(maze_name, what = \"G\")\n",
        "  if root.pos == goal:\n",
        "    return root\n",
        "  frontier = []\n",
        "  prior.heappush(frontier,(uniform_cost_gbfs_search(root.pos,goal),hash(0),root))\n",
        "  reached = {root.pos:root}\n",
        "  while not frontier == []:\n",
        "    p,id, node = prior.heappop(frontier)\n",
        "    for child in expand(maze_name, node):\n",
        "      #maze = maze_name[child.parent.pos] = '.'\n",
        "      #print(mh.maze_to_matrix(maze_name))\n",
        "      s = child.pos\n",
        "      if goal == s:\n",
        "        return child\n",
        "      if s not in reached or child.cost < reached[s].cost:\n",
        "        reached[s]=child\n",
        "        prior.heappush(frontier,(uniform_cost_gbfs_search(s,goal),hash(child),child))\n",
        "  return None\n",
        "\n",
        "def uniform_cost_aas_search(pos,goal,cost):\n",
        "  return abs(pos[0] - goal[0]) + abs(pos[1] - goal[1]) + cost\n",
        "\n",
        "def aas(maze_name):\n",
        "  print(\"Start location:\", mh.find_pos(maze_name, what = \"S\"))\n",
        "  root = Node(mh.find_pos(maze_name, what = \"S\"),parent=None, action =None, cost = 0)\n",
        "  goal = mh.find_pos(maze_name, what = \"G\")\n",
        "  if root.pos == goal:\n",
        "    return root\n",
        "  frontier = []\n",
        "  prior.heappush(frontier,(uniform_cost_aas_search(root.pos,goal, root.cost),hash(0),root))\n",
        "  reached = {root.pos:root}\n",
        "  while not frontier == []:\n",
        "    p,id, node = prior.heappop(frontier)\n",
        "    for child in expand(maze_name, node):\n",
        "      #maze = maze_name[child.parent.pos] = '.'\n",
        "      #print(mh.maze_to_matrix(maze_name))\n",
        "      s = child.pos\n",
        "      if goal == s:\n",
        "        return child\n",
        "      if s not in reached or child.cost < reached[s].cost:\n",
        "        reached[s]=child\n",
        "        prior.heappush(frontier,(uniform_cost_aas_search(s,goal,child.cost),hash(child),child))\n",
        "  return None\n",
        "\n"
      ]
    },
    {
      "cell_type": "markdown",
      "metadata": {
        "id": "IuzmuvwQBKsL"
      },
      "source": [
        "Are your implementations complete and optimal? What is the time and space complexity?"
      ]
    },
    {
      "cell_type": "code",
      "execution_count": 22,
      "metadata": {
        "colab": {
          "base_uri": "https://localhost:8080/"
        },
        "id": "p6ksqE-KBKsL",
        "outputId": "b998619f-e66a-4a5a-a74e-592aee22c9dc"
      },
      "outputs": [
        {
          "output_type": "stream",
          "name": "stdout",
          "text": [
            "XXXXXXXXXXXXXXXXXXXXXX\n",
            "X XX        X X      X\n",
            "X    XXXXXX X XXXXXX X\n",
            "XXXXXX     S  X      X\n",
            "X    X XXXXXX XX XXXXX\n",
            "X XXXX X         X   X\n",
            "X        XXX XXX   X X\n",
            "XXXXXXXXXX    XXXXXX X\n",
            "XG         XX        X\n",
            "XXXXXXXXXXXXXXXXXXXXXX\n",
            "\n",
            "Start location: (3, 11)\n",
            "Node - pos = (8, 1); action = West; cost = 29.0\n",
            "XXXXXXXXXXXXXXXXXXXXXX\n",
            "X XX        X X      X\n",
            "X    XXXXXX X XXXXXX X\n",
            "XXXXXX     S  X      X\n",
            "X    X XXXXXX XX XXXXX\n",
            "X XXXX X         X   X\n",
            "X        XXX XXX   X X\n",
            "XXXXXXXXXX    XXXXXX X\n",
            "XG         XX        X\n",
            "XXXXXXXXXXXXXXXXXXXXXX\n",
            "\n",
            "Start location: (3, 11)\n",
            "Node - pos = (8, 1); action = West; cost = 19.0\n"
          ]
        }
      ],
      "source": [
        "# Discussion\n",
        "maze = mh.parse_maze(maze_str)\n",
        "print(maze_str)\n",
        "print(gbfs(maze))\n",
        "maze = mh.parse_maze(maze_str)\n",
        "print(maze_str)\n",
        "print(aas(maze))"
      ]
    },
    {
      "cell_type": "markdown",
      "metadata": {
        "id": "sO0wUx9CBKsL"
      },
      "source": [
        "## Task 4: Comparison and discussion [20 Points]\n",
        "\n",
        "Run experiments to compare the implemented algorithms.\n",
        "\n",
        "How to deal with issues:\n",
        "\n",
        "* Your implementation returns unexpected results: Try to debug and fix the code. Visualizing the maze, the current path and the frontier after every step is very helpful. If the code still does not work, then mark the result with an asterisk (*) and describe the issue below the table.\n",
        "\n",
        "* Your implementation cannot consistently solve a specific maze and ends up in an infinite loop:\n",
        "    Debug (likely your frontier and cycle checking for DFS are the issue). If it is a shortcoming of the algorithm/implementation, then put \"N/A*\" in the results table and describe why this is happening."
      ]
    },
    {
      "cell_type": "code",
      "execution_count": 56,
      "metadata": {
        "colab": {
          "base_uri": "https://localhost:8080/",
          "height": 424
        },
        "id": "kiGqDPFYBKsL",
        "outputId": "4c049698-534a-47ad-ce8e-b186d84dd7e4"
      },
      "outputs": [
        {
          "output_type": "execute_result",
          "data": {
            "text/plain": [
              "      agent 1     agent 2    agent 3\n",
              "0   15.677304    6.293930   8.878440\n",
              "1    1.016336    0.519365   8.183410\n",
              "2   16.089958    3.751528   4.499465\n",
              "3   12.267174    1.328835  14.737973\n",
              "4   11.240730   15.466247   2.456295\n",
              "..        ...         ...        ...\n",
              "95  91.622254  356.095838  58.688994\n",
              "96  84.667657  369.294993  71.097758\n",
              "97  85.443616  366.879826  78.464400\n",
              "98  85.720227  386.641391  81.853170\n",
              "99  96.221973  385.694510  64.318241\n",
              "\n",
              "[100 rows x 3 columns]"
            ],
            "text/html": [
              "\n",
              "  <div id=\"df-8e2143f7-79b5-41a0-832d-bf0be7aeb251\" class=\"colab-df-container\">\n",
              "    <div>\n",
              "<style scoped>\n",
              "    .dataframe tbody tr th:only-of-type {\n",
              "        vertical-align: middle;\n",
              "    }\n",
              "\n",
              "    .dataframe tbody tr th {\n",
              "        vertical-align: top;\n",
              "    }\n",
              "\n",
              "    .dataframe thead th {\n",
              "        text-align: right;\n",
              "    }\n",
              "</style>\n",
              "<table border=\"1\" class=\"dataframe\">\n",
              "  <thead>\n",
              "    <tr style=\"text-align: right;\">\n",
              "      <th></th>\n",
              "      <th>agent 1</th>\n",
              "      <th>agent 2</th>\n",
              "      <th>agent 3</th>\n",
              "    </tr>\n",
              "  </thead>\n",
              "  <tbody>\n",
              "    <tr>\n",
              "      <th>0</th>\n",
              "      <td>15.677304</td>\n",
              "      <td>6.293930</td>\n",
              "      <td>8.878440</td>\n",
              "    </tr>\n",
              "    <tr>\n",
              "      <th>1</th>\n",
              "      <td>1.016336</td>\n",
              "      <td>0.519365</td>\n",
              "      <td>8.183410</td>\n",
              "    </tr>\n",
              "    <tr>\n",
              "      <th>2</th>\n",
              "      <td>16.089958</td>\n",
              "      <td>3.751528</td>\n",
              "      <td>4.499465</td>\n",
              "    </tr>\n",
              "    <tr>\n",
              "      <th>3</th>\n",
              "      <td>12.267174</td>\n",
              "      <td>1.328835</td>\n",
              "      <td>14.737973</td>\n",
              "    </tr>\n",
              "    <tr>\n",
              "      <th>4</th>\n",
              "      <td>11.240730</td>\n",
              "      <td>15.466247</td>\n",
              "      <td>2.456295</td>\n",
              "    </tr>\n",
              "    <tr>\n",
              "      <th>...</th>\n",
              "      <td>...</td>\n",
              "      <td>...</td>\n",
              "      <td>...</td>\n",
              "    </tr>\n",
              "    <tr>\n",
              "      <th>95</th>\n",
              "      <td>91.622254</td>\n",
              "      <td>356.095838</td>\n",
              "      <td>58.688994</td>\n",
              "    </tr>\n",
              "    <tr>\n",
              "      <th>96</th>\n",
              "      <td>84.667657</td>\n",
              "      <td>369.294993</td>\n",
              "      <td>71.097758</td>\n",
              "    </tr>\n",
              "    <tr>\n",
              "      <th>97</th>\n",
              "      <td>85.443616</td>\n",
              "      <td>366.879826</td>\n",
              "      <td>78.464400</td>\n",
              "    </tr>\n",
              "    <tr>\n",
              "      <th>98</th>\n",
              "      <td>85.720227</td>\n",
              "      <td>386.641391</td>\n",
              "      <td>81.853170</td>\n",
              "    </tr>\n",
              "    <tr>\n",
              "      <th>99</th>\n",
              "      <td>96.221973</td>\n",
              "      <td>385.694510</td>\n",
              "      <td>64.318241</td>\n",
              "    </tr>\n",
              "  </tbody>\n",
              "</table>\n",
              "<p>100 rows × 3 columns</p>\n",
              "</div>\n",
              "    <div class=\"colab-df-buttons\">\n",
              "\n",
              "  <div class=\"colab-df-container\">\n",
              "    <button class=\"colab-df-convert\" onclick=\"convertToInteractive('df-8e2143f7-79b5-41a0-832d-bf0be7aeb251')\"\n",
              "            title=\"Convert this dataframe to an interactive table.\"\n",
              "            style=\"display:none;\">\n",
              "\n",
              "  <svg xmlns=\"http://www.w3.org/2000/svg\" height=\"24px\" viewBox=\"0 -960 960 960\">\n",
              "    <path d=\"M120-120v-720h720v720H120Zm60-500h600v-160H180v160Zm220 220h160v-160H400v160Zm0 220h160v-160H400v160ZM180-400h160v-160H180v160Zm440 0h160v-160H620v160ZM180-180h160v-160H180v160Zm440 0h160v-160H620v160Z\"/>\n",
              "  </svg>\n",
              "    </button>\n",
              "\n",
              "  <style>\n",
              "    .colab-df-container {\n",
              "      display:flex;\n",
              "      gap: 12px;\n",
              "    }\n",
              "\n",
              "    .colab-df-convert {\n",
              "      background-color: #E8F0FE;\n",
              "      border: none;\n",
              "      border-radius: 50%;\n",
              "      cursor: pointer;\n",
              "      display: none;\n",
              "      fill: #1967D2;\n",
              "      height: 32px;\n",
              "      padding: 0 0 0 0;\n",
              "      width: 32px;\n",
              "    }\n",
              "\n",
              "    .colab-df-convert:hover {\n",
              "      background-color: #E2EBFA;\n",
              "      box-shadow: 0px 1px 2px rgba(60, 64, 67, 0.3), 0px 1px 3px 1px rgba(60, 64, 67, 0.15);\n",
              "      fill: #174EA6;\n",
              "    }\n",
              "\n",
              "    .colab-df-buttons div {\n",
              "      margin-bottom: 4px;\n",
              "    }\n",
              "\n",
              "    [theme=dark] .colab-df-convert {\n",
              "      background-color: #3B4455;\n",
              "      fill: #D2E3FC;\n",
              "    }\n",
              "\n",
              "    [theme=dark] .colab-df-convert:hover {\n",
              "      background-color: #434B5C;\n",
              "      box-shadow: 0px 1px 3px 1px rgba(0, 0, 0, 0.15);\n",
              "      filter: drop-shadow(0px 1px 2px rgba(0, 0, 0, 0.3));\n",
              "      fill: #FFFFFF;\n",
              "    }\n",
              "  </style>\n",
              "\n",
              "    <script>\n",
              "      const buttonEl =\n",
              "        document.querySelector('#df-8e2143f7-79b5-41a0-832d-bf0be7aeb251 button.colab-df-convert');\n",
              "      buttonEl.style.display =\n",
              "        google.colab.kernel.accessAllowed ? 'block' : 'none';\n",
              "\n",
              "      async function convertToInteractive(key) {\n",
              "        const element = document.querySelector('#df-8e2143f7-79b5-41a0-832d-bf0be7aeb251');\n",
              "        const dataTable =\n",
              "          await google.colab.kernel.invokeFunction('convertToInteractive',\n",
              "                                                    [key], {});\n",
              "        if (!dataTable) return;\n",
              "\n",
              "        const docLinkHtml = 'Like what you see? Visit the ' +\n",
              "          '<a target=\"_blank\" href=https://colab.research.google.com/notebooks/data_table.ipynb>data table notebook</a>'\n",
              "          + ' to learn more about interactive tables.';\n",
              "        element.innerHTML = '';\n",
              "        dataTable['output_type'] = 'display_data';\n",
              "        await google.colab.output.renderOutput(dataTable, element);\n",
              "        const docLink = document.createElement('div');\n",
              "        docLink.innerHTML = docLinkHtml;\n",
              "        element.appendChild(docLink);\n",
              "      }\n",
              "    </script>\n",
              "  </div>\n",
              "\n",
              "\n",
              "<div id=\"df-455efb1c-d956-4165-a818-04224de33ce1\">\n",
              "  <button class=\"colab-df-quickchart\" onclick=\"quickchart('df-455efb1c-d956-4165-a818-04224de33ce1')\"\n",
              "            title=\"Suggest charts\"\n",
              "            style=\"display:none;\">\n",
              "\n",
              "<svg xmlns=\"http://www.w3.org/2000/svg\" height=\"24px\"viewBox=\"0 0 24 24\"\n",
              "     width=\"24px\">\n",
              "    <g>\n",
              "        <path d=\"M19 3H5c-1.1 0-2 .9-2 2v14c0 1.1.9 2 2 2h14c1.1 0 2-.9 2-2V5c0-1.1-.9-2-2-2zM9 17H7v-7h2v7zm4 0h-2V7h2v10zm4 0h-2v-4h2v4z\"/>\n",
              "    </g>\n",
              "</svg>\n",
              "  </button>\n",
              "\n",
              "<style>\n",
              "  .colab-df-quickchart {\n",
              "      --bg-color: #E8F0FE;\n",
              "      --fill-color: #1967D2;\n",
              "      --hover-bg-color: #E2EBFA;\n",
              "      --hover-fill-color: #174EA6;\n",
              "      --disabled-fill-color: #AAA;\n",
              "      --disabled-bg-color: #DDD;\n",
              "  }\n",
              "\n",
              "  [theme=dark] .colab-df-quickchart {\n",
              "      --bg-color: #3B4455;\n",
              "      --fill-color: #D2E3FC;\n",
              "      --hover-bg-color: #434B5C;\n",
              "      --hover-fill-color: #FFFFFF;\n",
              "      --disabled-bg-color: #3B4455;\n",
              "      --disabled-fill-color: #666;\n",
              "  }\n",
              "\n",
              "  .colab-df-quickchart {\n",
              "    background-color: var(--bg-color);\n",
              "    border: none;\n",
              "    border-radius: 50%;\n",
              "    cursor: pointer;\n",
              "    display: none;\n",
              "    fill: var(--fill-color);\n",
              "    height: 32px;\n",
              "    padding: 0;\n",
              "    width: 32px;\n",
              "  }\n",
              "\n",
              "  .colab-df-quickchart:hover {\n",
              "    background-color: var(--hover-bg-color);\n",
              "    box-shadow: 0 1px 2px rgba(60, 64, 67, 0.3), 0 1px 3px 1px rgba(60, 64, 67, 0.15);\n",
              "    fill: var(--button-hover-fill-color);\n",
              "  }\n",
              "\n",
              "  .colab-df-quickchart-complete:disabled,\n",
              "  .colab-df-quickchart-complete:disabled:hover {\n",
              "    background-color: var(--disabled-bg-color);\n",
              "    fill: var(--disabled-fill-color);\n",
              "    box-shadow: none;\n",
              "  }\n",
              "\n",
              "  .colab-df-spinner {\n",
              "    border: 2px solid var(--fill-color);\n",
              "    border-color: transparent;\n",
              "    border-bottom-color: var(--fill-color);\n",
              "    animation:\n",
              "      spin 1s steps(1) infinite;\n",
              "  }\n",
              "\n",
              "  @keyframes spin {\n",
              "    0% {\n",
              "      border-color: transparent;\n",
              "      border-bottom-color: var(--fill-color);\n",
              "      border-left-color: var(--fill-color);\n",
              "    }\n",
              "    20% {\n",
              "      border-color: transparent;\n",
              "      border-left-color: var(--fill-color);\n",
              "      border-top-color: var(--fill-color);\n",
              "    }\n",
              "    30% {\n",
              "      border-color: transparent;\n",
              "      border-left-color: var(--fill-color);\n",
              "      border-top-color: var(--fill-color);\n",
              "      border-right-color: var(--fill-color);\n",
              "    }\n",
              "    40% {\n",
              "      border-color: transparent;\n",
              "      border-right-color: var(--fill-color);\n",
              "      border-top-color: var(--fill-color);\n",
              "    }\n",
              "    60% {\n",
              "      border-color: transparent;\n",
              "      border-right-color: var(--fill-color);\n",
              "    }\n",
              "    80% {\n",
              "      border-color: transparent;\n",
              "      border-right-color: var(--fill-color);\n",
              "      border-bottom-color: var(--fill-color);\n",
              "    }\n",
              "    90% {\n",
              "      border-color: transparent;\n",
              "      border-bottom-color: var(--fill-color);\n",
              "    }\n",
              "  }\n",
              "</style>\n",
              "\n",
              "  <script>\n",
              "    async function quickchart(key) {\n",
              "      const quickchartButtonEl =\n",
              "        document.querySelector('#' + key + ' button');\n",
              "      quickchartButtonEl.disabled = true;  // To prevent multiple clicks.\n",
              "      quickchartButtonEl.classList.add('colab-df-spinner');\n",
              "      try {\n",
              "        const charts = await google.colab.kernel.invokeFunction(\n",
              "            'suggestCharts', [key], {});\n",
              "      } catch (error) {\n",
              "        console.error('Error during call to suggestCharts:', error);\n",
              "      }\n",
              "      quickchartButtonEl.classList.remove('colab-df-spinner');\n",
              "      quickchartButtonEl.classList.add('colab-df-quickchart-complete');\n",
              "    }\n",
              "    (() => {\n",
              "      let quickchartButtonEl =\n",
              "        document.querySelector('#df-455efb1c-d956-4165-a818-04224de33ce1 button');\n",
              "      quickchartButtonEl.style.display =\n",
              "        google.colab.kernel.accessAllowed ? 'block' : 'none';\n",
              "    })();\n",
              "  </script>\n",
              "</div>\n",
              "\n",
              "  <div id=\"id_81d684bc-46ee-41ce-aaf5-50d662efef2b\">\n",
              "    <style>\n",
              "      .colab-df-generate {\n",
              "        background-color: #E8F0FE;\n",
              "        border: none;\n",
              "        border-radius: 50%;\n",
              "        cursor: pointer;\n",
              "        display: none;\n",
              "        fill: #1967D2;\n",
              "        height: 32px;\n",
              "        padding: 0 0 0 0;\n",
              "        width: 32px;\n",
              "      }\n",
              "\n",
              "      .colab-df-generate:hover {\n",
              "        background-color: #E2EBFA;\n",
              "        box-shadow: 0px 1px 2px rgba(60, 64, 67, 0.3), 0px 1px 3px 1px rgba(60, 64, 67, 0.15);\n",
              "        fill: #174EA6;\n",
              "      }\n",
              "\n",
              "      [theme=dark] .colab-df-generate {\n",
              "        background-color: #3B4455;\n",
              "        fill: #D2E3FC;\n",
              "      }\n",
              "\n",
              "      [theme=dark] .colab-df-generate:hover {\n",
              "        background-color: #434B5C;\n",
              "        box-shadow: 0px 1px 3px 1px rgba(0, 0, 0, 0.15);\n",
              "        filter: drop-shadow(0px 1px 2px rgba(0, 0, 0, 0.3));\n",
              "        fill: #FFFFFF;\n",
              "      }\n",
              "    </style>\n",
              "    <button class=\"colab-df-generate\" onclick=\"generateWithVariable('df')\"\n",
              "            title=\"Generate code using this dataframe.\"\n",
              "            style=\"display:none;\">\n",
              "\n",
              "  <svg xmlns=\"http://www.w3.org/2000/svg\" height=\"24px\"viewBox=\"0 0 24 24\"\n",
              "       width=\"24px\">\n",
              "    <path d=\"M7,19H8.4L18.45,9,17,7.55,7,17.6ZM5,21V16.75L18.45,3.32a2,2,0,0,1,2.83,0l1.4,1.43a1.91,1.91,0,0,1,.58,1.4,1.91,1.91,0,0,1-.58,1.4L9.25,21ZM18.45,9,17,7.55Zm-12,3A5.31,5.31,0,0,0,4.9,8.1,5.31,5.31,0,0,0,1,6.5,5.31,5.31,0,0,0,4.9,4.9,5.31,5.31,0,0,0,6.5,1,5.31,5.31,0,0,0,8.1,4.9,5.31,5.31,0,0,0,12,6.5,5.46,5.46,0,0,0,6.5,12Z\"/>\n",
              "  </svg>\n",
              "    </button>\n",
              "    <script>\n",
              "      (() => {\n",
              "      const buttonEl =\n",
              "        document.querySelector('#id_81d684bc-46ee-41ce-aaf5-50d662efef2b button.colab-df-generate');\n",
              "      buttonEl.style.display =\n",
              "        google.colab.kernel.accessAllowed ? 'block' : 'none';\n",
              "\n",
              "      buttonEl.onclick = () => {\n",
              "        google.colab.notebook.generateWithVariable('df');\n",
              "      }\n",
              "      })();\n",
              "    </script>\n",
              "  </div>\n",
              "\n",
              "    </div>\n",
              "  </div>\n"
            ],
            "application/vnd.google.colaboratory.intrinsic+json": {
              "type": "dataframe",
              "variable_name": "df",
              "summary": "{\n  \"name\": \"df\",\n  \"rows\": 100,\n  \"fields\": [\n    {\n      \"column\": \"agent 1\",\n      \"properties\": {\n        \"dtype\": \"number\",\n        \"std\": 28.367913790526345,\n        \"min\": 0.8539146902666577,\n        \"max\": 96.22197322280722,\n        \"num_unique_values\": 100,\n        \"samples\": [\n          76.83477764641512,\n          28.95645471524673,\n          58.307141802167536\n        ],\n        \"semantic_type\": \"\",\n        \"description\": \"\"\n      }\n    },\n    {\n      \"column\": \"agent 2\",\n      \"properties\": {\n        \"dtype\": \"number\",\n        \"std\": 116.72219487433117,\n        \"min\": 0.49398240642376123,\n        \"max\": 386.64139096563395,\n        \"num_unique_values\": 100,\n        \"samples\": [\n          267.13137946806165,\n          119.21649945578748,\n          200.21250656091357\n        ],\n        \"semantic_type\": \"\",\n        \"description\": \"\"\n      }\n    },\n    {\n      \"column\": \"agent 3\",\n      \"properties\": {\n        \"dtype\": \"number\",\n        \"std\": 21.319652250131742,\n        \"min\": 0.28215744874451154,\n        \"max\": 81.85316962405938,\n        \"num_unique_values\": 100,\n        \"samples\": [\n          44.17550639222827,\n          12.71932243005849,\n          40.906252160474025\n        ],\n        \"semantic_type\": \"\",\n        \"description\": \"\"\n      }\n    }\n  ]\n}"
            }
          },
          "metadata": {},
          "execution_count": 56
        }
      ],
      "source": [
        "# Add code\n",
        "%pip install -q numpy pandas matplotlib tabulate\n",
        "\n",
        "import numpy as np\n",
        "import pandas as pd\n",
        "\n",
        "# create some artificial performance data for 3 agents and 100 runs of a O(n^2) algorithm\n",
        "# create data for problem size n = 1 .. 100.\n",
        "n_max = 100\n",
        "runtime = {\n",
        "    \"Path Cost\" :\n",
        "    \"# of Nodes Expanded\" :\n",
        "    \"Max Tree Depth\" :\n",
        "    \"Max number of Nodes in Memory\" :\n",
        "    \"Max Frontier Size\" :\n",
        "\n",
        "}\n",
        "\n",
        "# show data as a data frame using pandas\n",
        "df = pd.DataFrame(runtime)\n",
        "df"
      ]
    },
    {
      "cell_type": "markdown",
      "metadata": {
        "id": "95I6C7BsBKsL"
      },
      "source": [
        "Complete the following table for each maze.\n",
        "\n",
        "__Small maze__\n",
        "\n",
        "| algorithm | path cost | # of nodes expanded | max tree depth | max # of nodes in memory | max frontier size |\n",
        "|-----------|-----------|----------------|----------------|---------------|-------------------|\n",
        "| BFS       |           |                |                |               |                   |\n",
        "| DFS       |           |                |                |               |                   |\n",
        "| GBS       |           |                |                |               |                   |\n",
        "| A*        |           |                |                |               |                   |\n",
        "\n",
        "__Medium Maze__\n",
        "\n",
        "..."
      ]
    },
    {
      "cell_type": "markdown",
      "metadata": {
        "id": "MMLvP9NfBKsL"
      },
      "source": [
        "Present the results as using charts (see [Python Code Examples/charts and tables](../HOWTOs/charts_and_tables.ipynb))."
      ]
    },
    {
      "cell_type": "code",
      "execution_count": null,
      "metadata": {
        "id": "6qS19RN2BKsL"
      },
      "outputs": [],
      "source": [
        "# Add charts"
      ]
    },
    {
      "cell_type": "markdown",
      "metadata": {
        "id": "SJ-NKuHUBKsL"
      },
      "source": [
        "Discuss the most important lessons you have learned from implementing the different search strategies."
      ]
    },
    {
      "cell_type": "code",
      "execution_count": null,
      "metadata": {
        "id": "BRFRSQy-BKsL"
      },
      "outputs": [],
      "source": [
        "# Add discussion"
      ]
    },
    {
      "cell_type": "markdown",
      "metadata": {
        "id": "w2-8ylCbBKsL"
      },
      "source": [
        "## Advanced task: IDS and Multiple goals\n",
        "\n",
        "* __Graduate students__ need to complete this task [10 points]\n",
        "* __Undergraduate students__ can attempt this as a bonus task [max +5 bonus points].\n",
        "\n",
        "### IDS\n",
        "Implement IDS (iterative deepening search) using your DFS implementation. Test IDS on the mazes above. You may run into some issues with mazes with open spaces. If you cannot resolve the issus, then report and discuss what causes the problems."
      ]
    },
    {
      "cell_type": "code",
      "execution_count": 51,
      "metadata": {
        "id": "LMqEuaWpBKsL"
      },
      "outputs": [],
      "source": [
        "# Your code/answer goes here\n",
        "\n",
        "\n",
        "\n",
        "def dls(maze_name,length):\n",
        "  print(\"Start location:\", mh.find_pos(maze_name, what = \"S\"))\n",
        "  frontier = [(Node(mh.find_pos(maze_name, what = \"S\"),parent=None, action =None, cost = 0))]\n",
        "  result = None\n",
        "  while not frontier == []:\n",
        "    node = frontier.pop()\n",
        "    if mh.find_pos(maze_name, what = \"G\") == node.pos:\n",
        "      return node\n",
        "    if depth(node) > length:\n",
        "      result = node\n",
        "    elif not is_cycle(node):\n",
        "      for child in expand(maze_name, node):\n",
        "        frontier.append(child)\n",
        "    else:\n",
        "      continue\n",
        "  return result\n",
        "\n",
        "def ids(maze):\n",
        "  depth = 18\n",
        "  while depth:\n",
        "    result = dls(maze,depth)\n",
        "    if result != None:\n",
        "      return result\n",
        "  return None\n",
        "\n",
        "def depth(node):\n",
        "  depth = 0\n",
        "  while node.parent:\n",
        "    depth += 1\n",
        "    node = node.parent\n",
        "  return depth\n",
        "\n",
        "\n",
        "def is_cycle(node):\n",
        "  parent = node.parent\n",
        "  while parent:\n",
        "    if parent.pos == node.pos:\n",
        "      return True\n",
        "    parent = parent.parent\n",
        "  return False"
      ]
    },
    {
      "cell_type": "code",
      "source": [
        "# Your code/answer goes here\n",
        "maze = mh.parse_maze(maze_str)\n",
        "print(maze_str)\n",
        "print(ids(maze))"
      ],
      "metadata": {
        "id": "xqD0NvCYVQpj",
        "outputId": "b4f317fe-727f-4439-9f58-a6a5f8f18fd3",
        "colab": {
          "base_uri": "https://localhost:8080/"
        }
      },
      "execution_count": 55,
      "outputs": [
        {
          "output_type": "stream",
          "name": "stdout",
          "text": [
            "XXXXXXXXXXXXXXXXXXXXXX\n",
            "X XX        X X      X\n",
            "X    XXXXXX X XXXXXX X\n",
            "XXXXXX     S  X      X\n",
            "X    X XXXXXX XX XXXXX\n",
            "X XXXX X         X   X\n",
            "X        XXX XXX   X X\n",
            "XXXXXXXXXX    XXXXXX X\n",
            "XG         XX        X\n",
            "XXXXXXXXXXXXXXXXXXXXXX\n",
            "\n",
            "Start location: (3, 11)\n",
            "Node - pos = (8, 1); action = West; cost = 19.0\n"
          ]
        }
      ]
    },
    {
      "cell_type": "markdown",
      "metadata": {
        "id": "vS4GX9X5BKsM"
      },
      "source": [
        "### Multiple Goals\n",
        "Create a few mazes with multiple goals by adding one or two more goals to the medium size maze. The agent is done when it finds one of the goals.\n",
        "Solve the maze with your implementations for DFS, BFS, and IDS. Run experiments to show which implementations find the optimal solution and which do not. Discuss why that is the case."
      ]
    },
    {
      "cell_type": "code",
      "execution_count": 55,
      "metadata": {
        "id": "skr-uAwEBKsM"
      },
      "outputs": [],
      "source": []
    }
  ],
  "metadata": {
    "kernelspec": {
      "display_name": "Python 3 (ipykernel)",
      "language": "python",
      "name": "python3"
    },
    "language_info": {
      "codemirror_mode": {
        "name": "ipython",
        "version": 3
      },
      "file_extension": ".py",
      "mimetype": "text/x-python",
      "name": "python",
      "nbconvert_exporter": "python",
      "pygments_lexer": "ipython3",
      "version": "3.10.12"
    },
    "colab": {
      "provenance": []
    }
  },
  "nbformat": 4,
  "nbformat_minor": 0
}