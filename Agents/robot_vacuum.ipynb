{
  "cells": [
    {
      "cell_type": "markdown",
      "metadata": {
        "id": "h6oAUIbRSal7"
      },
      "source": [
        "# Intelligent Agents: Reflex-Based Agents for the Vacuum-cleaner World\n",
        "\n",
        "Student Name: Jonathan Mejia\n",
        "\n",
        "I have used the following AI tools: [list tools]\n",
        "\n",
        "I understand that my submission needs to be my own work: JM\n",
        "\n",
        "## Instructions\n",
        "\n",
        "Total Points: Undergrads 100 + 5 bonus / Graduate students 110\n",
        "\n",
        "Complete this notebook. Use the provided notebook cells and insert additional code and markdown cells as needed. Submit the completely rendered notebook as a HTML file.\n",
        "\n",
        "### Using Visual Studio Code\n",
        "\n",
        "If you use VS code then you can use `Export` (click on `...` in the menu bar) to save your notebook as a HTML file. Note that you have to run all blocks before so the HTML file contains your output.\n",
        "\n",
        "### Using Google Colab\n",
        "\n",
        "In Colab you need to save the notebook on GoogleDrive to work with it. For this you need to mount your google dive and change to the correct directory by uncommenting the following lines and running the code block."
      ]
    },
    {
      "cell_type": "code",
      "execution_count": 23,
      "metadata": {
        "id": "85iO0MgtSal-"
      },
      "outputs": [],
      "source": [
        "# from google.colab import drive\n",
        "# import os\n",
        "#\n",
        "# drive.mount('/content/drive')\n",
        "# os.chdir('/content/drive/My Drive/Colab Notebooks/')"
      ]
    },
    {
      "cell_type": "markdown",
      "metadata": {
        "id": "d4gVmG0aSal-"
      },
      "source": [
        "Once you are done with the assignment and have run all code blocks using `Runtime/Run all`, you can convert the file on your GoogleDrive into HTML be uncommenting the following line and running the block."
      ]
    },
    {
      "cell_type": "code",
      "execution_count": 24,
      "metadata": {
        "id": "-dIhAljiSal_"
      },
      "outputs": [],
      "source": [
        "# !jupyter nbconvert --to html Copy\\ of\\ robot_vacuum.ipynb"
      ]
    },
    {
      "cell_type": "markdown",
      "metadata": {
        "id": "5lfHmFHKSal_"
      },
      "source": [
        "You may have to fix the file location or the file name to match how it looks on your GoogleDrive. You can navigate in Colab to your GoogleDrive using the little folder symbol in the navigation bar to the left."
      ]
    },
    {
      "cell_type": "markdown",
      "metadata": {
        "id": "8Oz7JunFSal_"
      },
      "source": [
        "## Introduction\n",
        "\n",
        "In this assignment you will implement a simulator environment for an automatic vacuum cleaner robot, a set of different reflex-based agent programs, and perform a comparison study for cleaning a single room. Focus on the __cleaning phase__ which starts when the robot is activated and ends when the last dirty square in the room has been cleaned. Someone else will take care of the agent program needed to navigate back to the charging station after the room is clean.\n",
        "\n",
        "## PEAS description of the cleaning phase\n",
        "\n",
        "__Performance Measure:__ Each action costs 1 energy unit. The performance is measured as the sum of the energy units used to clean the whole room.\n",
        "\n",
        "__Environment:__ A room with $n \\times n$ squares where $n = 5$. Dirt is randomly placed on each square with probability $p = 0.2$. For simplicity, you can assume that the agent knows the size and the layout of the room (i.e., it knows $n$). To start, the agent is placed on a random square.\n",
        "\n",
        "__Actuators:__ The agent can clean the current square (action `suck`) or move to an adjacent square by going `north`, `east`, `south`, or `west`.\n",
        "\n",
        "__Sensors:__ Four bumper sensors, one for north, east, south, and west; a dirt sensor reporting dirt in the current square.  \n",
        "\n",
        "\n",
        "## The agent program for a simple randomized agent\n",
        "\n",
        "The agent program is a function that gets sensor information (the current percepts) as the arguments. The arguments are:\n",
        "\n",
        "* A dictionary with boolean entries for the for bumper sensors `north`, `east`, `west`, `south`. E.g., if the agent is on the north-west corner, `bumpers` will be `{\"north\" : True, \"east\" : False, \"south\" : False, \"west\" : True}`.\n",
        "* The dirt sensor produces a boolean.\n",
        "\n",
        "The agent returns the chosen action as a string.\n",
        "\n",
        "Here is an example implementation for the agent program of a simple randomized agent:  "
      ]
    },
    {
      "cell_type": "code",
      "execution_count": 25,
      "metadata": {
        "id": "bvugTpIfSal_"
      },
      "outputs": [],
      "source": [
        "# make sure numpy is installed\n",
        "!pip install -q numpy"
      ]
    },
    {
      "cell_type": "code",
      "execution_count": 153,
      "metadata": {
        "id": "ElGKjil7Sal_"
      },
      "outputs": [],
      "source": [
        "import numpy as np\n",
        "\n",
        "actions = [\"north\", \"east\", \"west\", \"south\", \"suck\"]\n",
        "\n",
        "def simple_randomized_agent(bumpers, dirty):\n",
        "    return np.random.choice(actions)"
      ]
    },
    {
      "cell_type": "code",
      "execution_count": 154,
      "metadata": {
        "colab": {
          "base_uri": "https://localhost:8080/",
          "height": 35
        },
        "id": "IHIp3qfESamA",
        "outputId": "dd12949f-213e-450e-e849-a845562573f5"
      },
      "outputs": [
        {
          "output_type": "execute_result",
          "data": {
            "text/plain": [
              "'east'"
            ],
            "application/vnd.google.colaboratory.intrinsic+json": {
              "type": "string"
            }
          },
          "metadata": {},
          "execution_count": 154
        }
      ],
      "source": [
        "# define percepts (current location is NW corner and it is dirty)\n",
        "bumpers = {\"north\" : True, \"east\" : False, \"south\" : False, \"west\" : True}\n",
        "dirty = True\n",
        "\n",
        "# call agent program function with percepts and it returns an action\n",
        "simple_randomized_agent(bumpers, dirty)"
      ]
    },
    {
      "cell_type": "markdown",
      "metadata": {
        "id": "VC1b-R37SamA"
      },
      "source": [
        "__Note:__ This is not a rational intelligent agent. It ignores its sensors and may bump into a wall repeatedly or not clean a dirty square. You will be asked to implement rational agents below."
      ]
    },
    {
      "cell_type": "markdown",
      "metadata": {
        "id": "BwSLOWGWSamA"
      },
      "source": [
        "## Simple environment example\n",
        "\n",
        "We implement a simple simulation environment that supplies the agent with its percepts.\n",
        "The simple environment is infinite in size (bumpers are always `False`) and every square is always dirty, even if the agent cleans it. The environment function returns a different performance measure than the one specified in the PEAS description! Since the room is infinite and all squares are constantly dirty, the agent can never clean the whole room. Your implementation needs to implement the **correct performance measure.** The energy budget of the agent is specified as `max_steps`."
      ]
    },
    {
      "cell_type": "code",
      "execution_count": 155,
      "metadata": {
        "id": "7nxmBfO8SamA"
      },
      "outputs": [],
      "source": [
        "def simple_environment(agent_function, max_steps, verbose = True):\n",
        "    num_cleaned = 0\n",
        "\n",
        "    for i in range(max_steps):\n",
        "        dirty = True\n",
        "        bumpers = {\"north\" : False, \"south\" : False, \"west\" : False, \"east\" : False}\n",
        "\n",
        "        action = agent_function(bumpers, dirty)\n",
        "        if (verbose): print(\"step\", i , \"- action:\", action)\n",
        "\n",
        "        if (action == \"suck\"):\n",
        "            num_cleaned = num_cleaned + 1\n",
        "\n",
        "    return num_cleaned\n",
        "\n"
      ]
    },
    {
      "cell_type": "markdown",
      "metadata": {
        "id": "oQWPrbfESamB"
      },
      "source": [
        "Do one simulation run with a simple randomized agent that has enough energy for 20 steps."
      ]
    },
    {
      "cell_type": "code",
      "execution_count": 156,
      "metadata": {
        "colab": {
          "base_uri": "https://localhost:8080/"
        },
        "id": "GzU94_4aSamB",
        "outputId": "c1918f33-74db-4c7e-c00b-6f5bbf8e88eb"
      },
      "outputs": [
        {
          "output_type": "stream",
          "name": "stdout",
          "text": [
            "step 0 - action: east\n",
            "step 1 - action: east\n",
            "step 2 - action: north\n",
            "step 3 - action: north\n",
            "step 4 - action: south\n",
            "step 5 - action: north\n",
            "step 6 - action: south\n",
            "step 7 - action: north\n",
            "step 8 - action: west\n",
            "step 9 - action: north\n",
            "step 10 - action: suck\n",
            "step 11 - action: suck\n",
            "step 12 - action: suck\n",
            "step 13 - action: west\n",
            "step 14 - action: west\n",
            "step 15 - action: south\n",
            "step 16 - action: west\n",
            "step 17 - action: south\n",
            "step 18 - action: south\n",
            "step 19 - action: south\n"
          ]
        },
        {
          "output_type": "execute_result",
          "data": {
            "text/plain": [
              "3"
            ]
          },
          "metadata": {},
          "execution_count": 156
        }
      ],
      "source": [
        "simple_environment(simple_randomized_agent, max_steps = 20)"
      ]
    },
    {
      "cell_type": "markdown",
      "metadata": {
        "id": "usJY2QdcSamB"
      },
      "source": [
        "# Tasks\n",
        "\n",
        "## General [10 Points]\n",
        "\n",
        "1. Make sure that you use the latest version of this notebook.\n",
        "2. Your implementation can use libraries like math, numpy, scipy, but not libraries that implement intelligent agents or complete search algorithms. Try to keep the code simple! In this course, we want to learn about the algorithms and we often do not need to use object-oriented design.\n",
        "3. You notebook needs to be formatted professionally.\n",
        "    - Add additional markdown blocks for your description, comments in the code, add tables and use mathplotlib to produce charts where appropriate\n",
        "    - Do not show debugging output or include an excessive amount of output.\n",
        "    - Check that your submitted file is readable and contains all figures.\n",
        "4. Document your code. Use comments in the code and add a discussion of how your implementation works and your design choices.\n",
        "\n",
        "\n",
        "## Task 1: Implement a simulation environment [20 Points]\n",
        "\n",
        "The simple environment above is not very realistic. Your environment simulator needs to follow the PEAS description from above. It needs to:\n",
        "\n",
        "* Initialize the environment by storing the state of each square (clean/dirty) and making some dirty. ([Help with random numbers and arrays in Python](https://github.com/mhahsler/CS7320-AI/blob/master/HOWTOs/random_numbers_and_arrays.ipynb))\n",
        "* Keep track of the agent's position.\n",
        "* Call the agent function repeatedly and provide the agent function with the sensor inputs.  \n",
        "* React to the agent's actions. E.g, by removing dirt from a square or moving the agent around unless there is a wall in the way.\n",
        "* Keep track of the performance measure. That is, track the agent's actions until all dirty squares are clean and count the number of actions it takes the agent to complete the task.\n",
        "\n",
        "The easiest implementation for the environment is to hold an 2-dimensional array to represent if squares are clean or dirty and to call the agent function in a loop until all squares are clean or a predefined number of steps have been reached (i.e., the robot runs out of energy).\n",
        "\n",
        "The simulation environment should be a function like the `simple_environment()` and needs to work with the simple randomized agent program from above. **Use the same environment for all your agent implementations in the tasks below.**\n",
        "\n",
        "*Note on debugging:* Debugging is difficult. Make sure your environment prints enough information when you use `verbose = True`. Also, implementing a function that the environment can use to displays the room with dirt and the current position of the robot at every step is very useful.  "
      ]
    },
    {
      "cell_type": "code",
      "execution_count": 165,
      "metadata": {
        "id": "p3HK6K0ASamB"
      },
      "outputs": [],
      "source": [
        "# Your code and description goes here\n",
        "\n",
        "import numpy as np\n",
        "import collections\n",
        "\n",
        "\n",
        "def environment(agent_function, room_size, verbose = True):\n",
        "## Initialising the invironment by storing state of each square at random to be clean or dirty\n",
        "  rng = np.random.default_rng()\n",
        "  environment = rng.choice([\"Dirty\",\"Clean\"],size = (room_size,room_size))\n",
        "  #print(environment)\n",
        "\n",
        "## Initialize a random position of the agent to then keep track of\n",
        "  agent_position = (np.random.randint(0,room_size), np.random.randint(0,room_size))\n",
        "#  print(agent_position)\n",
        "\n",
        "  directions = {\n",
        "        \"north\": (-1,0),\n",
        "        \"south\": (1,0),\n",
        "        \"east\": (0,1),\n",
        "        \"west\": (0,-1)\n",
        "   }\n",
        "  bumpers = {}\n",
        "  num_cleaned = 0\n",
        "  counter= np.count_nonzero(environment == \"Dirty\")\n",
        "  #print(counter)\n",
        "  step = 1\n",
        "  while 0 < counter:\n",
        "\n",
        "   for dir, (x,y) in directions.items():\n",
        "     try:\n",
        "       pos = agent_position[0] + x, agent_position[1] + y\n",
        "       if pos[0] < 0 or pos[1]<0 or pos[0]>=environment.shape[0] or pos[1]>=environment.shape[1]:\n",
        "         raise IndexError\n",
        "       else:\n",
        "         bumpers[dir] = False\n",
        "     except IndexError:\n",
        "        bumpers[dir] = True\n",
        "   dirty = environment[agent_position]\n",
        "\n",
        "## Sees how many tiles are dirty\n",
        "   counter= np.count_nonzero(environment == \"Dirty\")\n",
        "\n",
        "## iterate until the max steps are met\n",
        "\n",
        "\n",
        "   action = agent_function(bumpers, dirty)\n",
        "   ### Just for testing\n",
        "   if action == \"NA\": break\n",
        "\n",
        "   if action == \"north\" and bumpers[action] != True: agent_position = agent_position[0] - 1 , agent_position[1]\n",
        "   if action == \"south\" and bumpers[action] != True: agent_position = agent_position[0] + 1 , agent_position[1]\n",
        "   if action == \"east\" and bumpers[action] != True: agent_position = agent_position[0], agent_position[1] + 1\n",
        "   if action == \"west\" and bumpers[action] != True: agent_position = agent_position[0], agent_position[1] - 1\n",
        "   #if (verbose): print(\"step\", step , \"- action:\", action,\" Position: \", agent_position)\n",
        "\n",
        "   if (action == \"suck\"):\n",
        "      environment[agent_position] = 'Clean'\n",
        "   step = step + 1\n",
        "   counter= np.count_nonzero(environment == \"Dirty\")\n",
        "\n",
        "  #print(environment)\n",
        "  #print(f\"The robot took {step} steps to clean the entire room.\")\n",
        "  return step\n",
        "\n",
        "\n",
        "\n",
        "\n",
        "#  counter= np.count_nonzero(environment == \"Dirty\")\n",
        "#  print(\"\\nThere are \" , counter , \" occurences of a block being dirty\")\n",
        "\n",
        "\n",
        "\n"
      ]
    },
    {
      "cell_type": "markdown",
      "metadata": {
        "id": "uzeZFc4qSamB"
      },
      "source": [
        "Show that your environment works with the simple randomized agent from above."
      ]
    },
    {
      "cell_type": "code",
      "execution_count": 158,
      "metadata": {
        "colab": {
          "base_uri": "https://localhost:8080/"
        },
        "id": "sYJRqQBwSamB",
        "outputId": "1a366e07-86b1-49eb-896d-93bfcf37e3c0"
      },
      "outputs": [
        {
          "output_type": "stream",
          "name": "stdout",
          "text": [
            "[['Clean' 'Clean' 'Clean' 'Clean' 'Clean']\n",
            " ['Clean' 'Clean' 'Clean' 'Clean' 'Clean']\n",
            " ['Clean' 'Clean' 'Clean' 'Clean' 'Clean']\n",
            " ['Clean' 'Clean' 'Clean' 'Clean' 'Clean']\n",
            " ['Clean' 'Clean' 'Clean' 'Clean' 'Clean']]\n",
            "Took the agent 425 steps to clean the room\n"
          ]
        }
      ],
      "source": [
        "# Your code and description goes here\n",
        "\n",
        "print(f\"Took the agent {environment(simple_randomized_agent,5)} steps to clean the room\")\n"
      ]
    },
    {
      "cell_type": "markdown",
      "metadata": {
        "id": "KgWVpbAwSamB"
      },
      "source": [
        "## Task 2:  Implement a simple reflex agent [10 Points]\n",
        "\n",
        "The simple reflex agent randomly walks around but reacts to the bumper sensor by not bumping into the wall and to dirt with sucking. Implement the agent program as a function.\n",
        "\n",
        "_Note:_ Agents cannot directly use variable in the environment. They only gets the percepts as the arguments to the agent function. Use the function signature for the `simple_randomized_agent` function above."
      ]
    },
    {
      "cell_type": "code",
      "execution_count": 159,
      "metadata": {
        "id": "y_OtcS5ESamC"
      },
      "outputs": [],
      "source": [
        "# Your code and description goes here\n",
        "\n",
        "def simple_reflex_agent(bumpers, dirty):\n",
        "    rng = np.random.default_rng()\n",
        "    random_dir_available = []\n",
        "    if dirty == \"Dirty\":\n",
        "      return 'suck'\n",
        "    for i in bumpers:\n",
        "      if bumpers[i] == False: random_dir_available.append(i)\n",
        "    return rng.choice(random_dir_available)"
      ]
    },
    {
      "cell_type": "markdown",
      "metadata": {
        "id": "fGvvKcl8SamC"
      },
      "source": [
        "Show how the agent works with your environment."
      ]
    },
    {
      "cell_type": "code",
      "execution_count": 160,
      "metadata": {
        "colab": {
          "base_uri": "https://localhost:8080/"
        },
        "id": "rPOuNmWySamC",
        "outputId": "d5855370-bc1f-4ea1-b93c-a00293a7bcdb"
      },
      "outputs": [
        {
          "output_type": "stream",
          "name": "stdout",
          "text": [
            "[['Clean' 'Clean' 'Clean' 'Clean' 'Clean']\n",
            " ['Clean' 'Clean' 'Clean' 'Clean' 'Clean']\n",
            " ['Clean' 'Clean' 'Clean' 'Clean' 'Clean']\n",
            " ['Clean' 'Clean' 'Clean' 'Clean' 'Clean']\n",
            " ['Clean' 'Clean' 'Clean' 'Clean' 'Clean']]\n",
            "Took the simple reflex agent 277 steps to clean the room\n"
          ]
        }
      ],
      "source": [
        "# Your code and description goes here\n",
        "\n",
        "print(f\"Took the simple reflex agent {environment(simple_reflex_agent,5)} steps to clean the room\")\n",
        "\n"
      ]
    },
    {
      "cell_type": "markdown",
      "metadata": {
        "id": "yRYpl6zkSamC"
      },
      "source": [
        "## Task 3: Implement a model-based reflex agent [20 Points]\n",
        "\n",
        "Model-based agents use a state to keep track of what they have done and perceived so far. Your agent needs to find out where it is located and then keep track of its current location. You also need a set of rules based on the state and the percepts to make sure that the agent will clean the whole room. For example, the agent can move to a corner to determine its location and then it can navigate through the whole room and clean dirty squares.\n",
        "\n",
        "Describe how you define the __agent state__ and how your agent works before implementing it. ([Help with implementing state information on Python](https://github.com/mhahsler/CS7320-AI/blob/master/HOWTOs/store_agent_state_information.ipynb))"
      ]
    },
    {
      "cell_type": "code",
      "execution_count": 325,
      "metadata": {
        "id": "uFV_xWsISamC"
      },
      "outputs": [],
      "source": [
        "# Your short description of the state and your implementation goes here\n",
        "class Agent:\n",
        "  def __init__(self):\n",
        "    self.position = (0,0)\n",
        "    self.visited = []\n",
        "    self.start_cleaning = False\n",
        "\n",
        "  def act(self, bumpers, dirty):\n",
        "    while self.start_cleaning == False:\n",
        "      if bumpers['north'] != True: return 'north'\n",
        "      if bumpers['west'] != True: return 'west'\n",
        "      self.start_cleaning = True\n",
        " #     print(self.start_cleaning)\n",
        "    if dirty == 'Dirty': return 'suck'\n",
        "    self.visited.append(self.position)\n",
        "    while bumpers['south']!= True and (self.position[0] + 1, self.position[1]) not in self.visited:\n",
        "      self.position = self.position[0] + 1, self.position[1]\n",
        "      return 'south'\n",
        "    while bumpers['east']!= True and (self.position[0], self.position[1]+1) not in self.visited:\n",
        "      self.position = self.position[0] , self.position[1] + 1\n",
        "      return 'east'\n",
        "    while bumpers['north']!= True and (self.position[0]-1, self.position[1]) not in self.visited:\n",
        "      self.position = self.position[0]-1 , self.position[1]\n",
        "      return 'north'\n",
        "    while bumpers['west']!= True and (self.position[0], self.position[1]-1) not in self.visited:\n",
        "      self.position = self.position[0] , self.position[1] - 1\n",
        "      return 'west'\n",
        " #   print(self.visited)\n",
        "    print(\"Memory reseting\")\n",
        "    return \"NA\"\n",
        "\n"
      ]
    },
    {
      "cell_type": "code",
      "execution_count": 186,
      "metadata": {
        "id": "9-YOZECgSamC"
      },
      "outputs": [],
      "source": [
        "# Your code goes here\n",
        "agent = Agent()\n",
        "\n",
        "def model_based_agent(bumpers, dirty):\n",
        "  return agent.act(bumpers,dirty)\n"
      ]
    },
    {
      "cell_type": "markdown",
      "metadata": {
        "id": "Y7443pv0SamC"
      },
      "source": [
        "Show how the agent works with your environment."
      ]
    },
    {
      "cell_type": "code",
      "execution_count": 187,
      "metadata": {
        "colab": {
          "base_uri": "https://localhost:8080/"
        },
        "id": "lJg9Gc5GSamC",
        "outputId": "e4fa5ce6-0381-4bf1-c998-18a8d22e6a6e"
      },
      "outputs": [
        {
          "output_type": "stream",
          "name": "stdout",
          "text": [
            "Took the simple reflex agent 46 steps to clean the room\n"
          ]
        }
      ],
      "source": [
        "# Your code goes here\n",
        "\n",
        "print(f\"Took the simple reflex agent {environment(model_based_agent,5)} steps to clean the room\")\n",
        "\n"
      ]
    },
    {
      "cell_type": "markdown",
      "source": [
        "STOPPPPP HERE"
      ],
      "metadata": {
        "id": "9oJsQuQ-Q07H"
      }
    },
    {
      "cell_type": "markdown",
      "metadata": {
        "id": "-DfNWy3-SamC"
      },
      "source": [
        "## Task 4: Simulation study [30 Points]\n",
        "\n",
        "Compare the performance (the performance measure is defined in the PEAS description above) of the agents using  environments of different size. Do at least $5 \\times 5$, $10 \\times 10$ and\n",
        "$100 \\times 100$. Use 100 random runs for each. Present the results using tables and graphs. Discuss the differences between the agents.\n",
        "([Help with charts and tables in Python](https://github.com/mhahsler/CS7320-AI/blob/master/HOWTOs/charts_and_tables.ipynb))"
      ]
    },
    {
      "cell_type": "code",
      "execution_count": 169,
      "metadata": {
        "colab": {
          "base_uri": "https://localhost:8080/"
        },
        "id": "OTs5T98VSamC",
        "outputId": "f41bdb53-584e-49ca-f126-89d6ddd39ea7"
      },
      "outputs": [
        {
          "output_type": "stream",
          "name": "stdout",
          "text": [
            "Model based reflex agent took an average over 100 iterations 40.6 steps to clean a 5 X 5 room \n",
            "Model based reflex agent took an average over 100 iterations 157.0 steps to clean a 10 X 10 room \n",
            "Model based reflex agent took an average over 100 iterations 15106.3 steps to clean a 100 X 100 room \n"
          ]
        }
      ],
      "source": [
        "# Your code goes here\n",
        "\n",
        "runs = [5,10,100]\n",
        "\n",
        "model_avg = 0\n",
        "\n",
        "for i in range(len(runs)):\n",
        "\n",
        "  for j in range(100):\n",
        "\n",
        "    agent = Agent()\n",
        "    model_avg = model_avg + environment(model_based_agent,runs[i])\n",
        "\n",
        "  print(f\"Model based reflex agent took an average over 100 iterations {round(model_avg/100,1)} steps to clean a {runs[i]} X {runs[i]} room \")\n",
        "\n",
        "  model_avg = 0\n",
        "\n"
      ]
    },
    {
      "cell_type": "code",
      "source": [
        "runs = [5,10,100]\n",
        "\n",
        "reflex_avg = 0\n",
        "\n",
        "for i in range(len(runs)):\n",
        "\n",
        "  for j in range(100):\n",
        "\n",
        "    reflex_avg = reflex_avg + environment(simple_reflex_agent,runs[i])\n",
        "\n",
        "  print(f\"Model based reflex agent took an average over 100 iterations {round(reflex_avg/100,1)} steps to clean a {runs[i]} X {runs[i]} room \")\n",
        "  reflex_avg = 0\n",
        "\n"
      ],
      "metadata": {
        "colab": {
          "base_uri": "https://localhost:8080/"
        },
        "id": "vwuBHBjiyO-X",
        "outputId": "be0f7caa-df3e-4785-f875-281a9a103533"
      },
      "execution_count": 171,
      "outputs": [
        {
          "output_type": "stream",
          "name": "stdout",
          "text": [
            "Model based reflex agent took an average over 100 iterations 144.4 steps to clean a 5 X 5 room \n",
            "Model based reflex agent took an average over 100 iterations 1116.0 steps to clean a 10 X 10 room \n",
            "Model based reflex agent took an average over 100 iterations 508015.2 steps to clean a 100 X 100 room \n"
          ]
        }
      ]
    },
    {
      "cell_type": "code",
      "source": [
        "runs = [5,10,100]\n",
        "\n",
        "random_avg = 0\n",
        "\n",
        "for i in range(len(runs)):\n",
        "\n",
        "  for j in range(3):\n",
        "\n",
        "    random_avg = random_avg + environment(simple_randomized_agent,runs[i])\n",
        "\n",
        "  print(f\"Simple random agent took an average over 100 iterations {round(random_avg/3,1)} steps to clean a {runs[i]} X {runs[i]} room \")\n",
        "\n",
        "  random_avg = 0\n"
      ],
      "metadata": {
        "colab": {
          "base_uri": "https://localhost:8080/"
        },
        "id": "cj1BX6jeyPn3",
        "outputId": "861e6dd6-7666-4dba-9418-2dbf5428f323"
      },
      "execution_count": 173,
      "outputs": [
        {
          "output_type": "stream",
          "name": "stdout",
          "text": [
            "Simple random agent took an average over 100 iterations 518.7 steps to clean a 5 X 5 room \n",
            "Simple random agent took an average over 100 iterations 3409.0 steps to clean a 10 X 10 room \n",
            "Simple random agent took an average over 100 iterations 858099.0 steps to clean a 100 X 100 room \n"
          ]
        }
      ]
    },
    {
      "cell_type": "markdown",
      "metadata": {
        "id": "7MP77q4YSamD"
      },
      "source": [
        "Fill out the following table with the average performance measure for 100 random runs (you may also create this table with code):\n",
        "\n",
        "| Size     | Model-based Reflex Agent | Simple Reflex Agent | Randomized Agent |\n",
        "|----------|------------------|---------------------|--------------------------|\n",
        "| 5x5     |40.6|144.4|518.7|\n",
        "| 10x10   | 157.0|1116.0|3409.0|\n",
        "| 100x100 | 15106.3|508015.2|858099.0|\n",
        "\n",
        "Add charts to compare the performance of the different agents."
      ]
    },
    {
      "cell_type": "code",
      "source": [
        "\n",
        "import pandas as pd\n",
        "import matplotlib\n",
        "import matplotlib.pyplot as plt\n",
        "\n",
        "categories = ['MBRA','SREFA', 'SRANDA']\n",
        "values5x5 = [40.6,144.4,518.7]\n",
        "values10x10 = [157.0, 1116.0, 3409.0]\n",
        "values100x100 = [15106.3,508015.2,858099.0]\n",
        "\n",
        "plt.figure(figsize=(20,5))\n",
        "# First chart (Bar chart)\n",
        "plt.subplot(1, 3, 1)  # (rows, columns, index)\n",
        "plt.bar(categories, values5x5, color='blue')\n",
        "plt.title(\"Room Size 5x5\")\n",
        "plt.xlabel('Agent Type')\n",
        "plt.ylabel('Number of Steps Taken')\n",
        "# First chart (Bar chart)\n",
        "plt.subplot(1, 3, 2)  # (rows, columns, index)\n",
        "plt.bar(categories, values10x10, color='orange')\n",
        "plt.title(\"Room Size 10x10\")\n",
        "plt.xlabel('Agent Type')\n",
        "plt.ylabel('Number of Steps Taken')\n",
        "# First chart (Bar chart)\n",
        "plt.subplot(1, 3, 3)  # (rows, columns, index)\n",
        "plt.bar(categories, values100x100, color='black')\n",
        "plt.title(\"Room Size 100x100\")\n",
        "plt.xlabel('Agent Type')\n",
        "plt.ylabel('Number of Steps Taken')\n",
        "\n",
        "\n",
        "plt.show()"
      ],
      "metadata": {
        "colab": {
          "base_uri": "https://localhost:8080/",
          "height": 319
        },
        "id": "5hcycyK5y43T",
        "outputId": "a7632301-3a94-4ca3-f0f0-09424c177b00"
      },
      "execution_count": 188,
      "outputs": [
        {
          "output_type": "display_data",
          "data": {
            "text/plain": [
              "<Figure size 2000x500 with 3 Axes>"
            ],
            "image/png": "[encoded data removed]"
          },
          "metadata": {}
        }
      ]
    },
    {
      "cell_type": "markdown",
      "metadata": {
        "id": "7Z841URRSamD"
      },
      "source": [
        "## Task 5: Robustness of the agent implementations [10 Points]\n",
        "\n",
        "Describe how **your agent implementations** will perform\n",
        "\n",
        "* if it is put into a rectangular room with unknown size,\n",
        "* if the cleaning area can have an irregular shape (e.g., a hallway connecting two rooms), or\n",
        "* if the room contains obstacles (i.e., squares that it cannot pass through and trigger the bumper sensors).\n",
        "* if the dirt sensor is not perfect and gives 10% of the time a wrong reading (clean when it is dirty or dirty when it is clean).\n",
        "* if the bumper sensor is not perfect and 10% of the time does not report a wall when there is one."
      ]
    },
    {
      "cell_type": "markdown",
      "source": [
        "**ANSWER: Task 5 Robustness of the agent implementations**\n",
        "* if it is put into a rectangular room with unknown size,\n",
        " * The model based agent looks to find the upper left corner of the room and then takes a whirpool approach that would be able to handle the following given approach.\n",
        "* if the cleaning area can have an irregular shape (e.g., a hallway connecting two rooms), or\n",
        " * If the cleaning area had an irregular shape, the algorithm implemented would not be able to handle this case for a narrow hallway for example since the robot would have captured the area and look for the outter most walls each time. Eventually have one room completed upon cleaned and the other left not fully clean.\n",
        "* if the room contains obstacles (i.e., squares that it cannot pass through and trigger the bumper sensors).\n",
        " * The model based algorithm would work for the environment in most cases however given a scenario where an obstacle is near a corner and creates a small hallway this will cause the agent to believe the room is completely clean which is false.\n",
        "* if the dirt sensor is not perfect and gives 10% of the time a wrong reading (clean when it is dirty or dirty when it is clean).\n",
        "* if the bumper sensor is not perfect and 10% of the time does not report a wall when there is one."
      ],
      "metadata": {
        "id": "5aIp34Cnt303"
      }
    },
    {
      "cell_type": "markdown",
      "metadata": {
        "id": "CNsF4_VgSamD"
      },
      "source": [
        "## Advanced task: Imperfect Dirt Sensor\n",
        "\n",
        "* __Graduate students__ need to complete this task [10 points]\n",
        "* __Undergraduate students__ can attempt this as a bonus task [max +5 bonus points].\n",
        "\n",
        "1. Change your simulation environment to run experiments for the following problem: The dirt sensor has a 10% chance of giving the wrong reading. Perform experiments to observe how this changes the performance of the three implementations. Your model-based reflex agent is likely not able to clean the whole room, so you need to measure performance differently as a tradeoff between energy cost and number of uncleaned squares.\n",
        "\n",
        "2. Design an implement a solution for your model-based agent that will clean better. Show the improvement with experiments."
      ]
    },
    {
      "cell_type": "code",
      "execution_count": 327,
      "metadata": {
        "id": "nEeBErHJSamD"
      },
      "outputs": [],
      "source": [
        "# Your code and discussion goes here\n",
        "# Your code and description goes here\n",
        "\n",
        "import numpy as np\n",
        "import collections\n",
        "\n",
        "\n",
        "def environment(agent_function, room_size, verbose = True):\n",
        "## Initialising the invironment by storing state of each square at random to be clean or dirty\n",
        "  rng = np.random.default_rng()\n",
        "  environment = rng.choice([\"Dirty\",\"Clean\"],size = (room_size,room_size))\n",
        "  #print(environment)\n",
        "  squares_cleaned = 0\n",
        "## Initialize a random position of the agent to then keep track of\n",
        "  agent_position = (np.random.randint(0,room_size), np.random.randint(0,room_size))\n",
        "#  print(agent_position)\n",
        "\n",
        "  directions = {\n",
        "        \"north\": (-1,0),\n",
        "        \"south\": (1,0),\n",
        "        \"east\": (0,1),\n",
        "        \"west\": (0,-1)\n",
        "   }\n",
        "  bumpers = {}\n",
        "  num_cleaned = 0\n",
        "  counter= np.count_nonzero(environment == \"Dirty\")\n",
        "  orig_dirty = np.count_nonzero(environment == \"Dirty\")\n",
        "  #print(counter)\n",
        "  step = 1\n",
        "  while 0 < counter:\n",
        "\n",
        "   for dir, (x,y) in directions.items():\n",
        "     try:\n",
        "       pos = agent_position[0] + x, agent_position[1] + y\n",
        "       if pos[0] < 0 or pos[1]<0 or pos[0]>=environment.shape[0] or pos[1]>=environment.shape[1]:\n",
        "         raise IndexError\n",
        "       else:\n",
        "         bumpers[dir] = False\n",
        "     except IndexError:\n",
        "        bumpers[dir] = True\n",
        "   dirty = environment[agent_position]\n",
        "   if dirty == \"Dirty\":\n",
        "    dirty = rng.choice([\"Dirty\",\"Clean\"], p = [.1, .9])\n",
        "## Sees how many tiles are dirty\n",
        "   counter= np.count_nonzero(environment == \"Dirty\")\n",
        "\n",
        "## iterate until the max steps are met\n",
        "\n",
        "\n",
        "   action = agent_function(bumpers, dirty)\n",
        "   ### Just for testing\n",
        "   if action == \"NA\": break\n",
        "\n",
        "   if action == \"north\" and bumpers[action] != True: agent_position = agent_position[0] - 1 , agent_position[1]\n",
        "   if action == \"south\" and bumpers[action] != True: agent_position = agent_position[0] + 1 , agent_position[1]\n",
        "   if action == \"east\" and bumpers[action] != True: agent_position = agent_position[0], agent_position[1] + 1\n",
        "   if action == \"west\" and bumpers[action] != True: agent_position = agent_position[0], agent_position[1] - 1\n",
        "   #if (verbose): print(\"step\", step , \"- action:\", action,\" Position: \", agent_position)\n",
        "\n",
        "   if (action == \"suck\"):\n",
        "      if environment[agent_position] != 'Clean':\n",
        "        squares_cleaned = squares_cleaned + 1\n",
        "      environment[agent_position] = 'Clean'\n",
        "\n",
        "   step = step + 1\n",
        "   counter= np.count_nonzero(environment == \"Dirty\")\n",
        "\n",
        "  #print(environment)\n",
        "  #print(f\"The robot took {step} steps to clean the entire room.\")\n",
        "  return [step,squares_cleaned,orig_dirty]\n",
        "\n",
        "\n",
        "\n",
        "\n",
        "#  counter= np.count_nonzero(environment == \"Dirty\")\n",
        "#  print(\"\\nThere are \" , counter , \" occurences of a block being dirty\")\n",
        "\n",
        "\n"
      ]
    },
    {
      "cell_type": "code",
      "source": [
        "\n",
        "agent = Agent()\n",
        "mba = environment(model_based_agent,5)\n",
        "sra = environment(simple_reflex_agent,5)\n",
        "sranda = environment(simple_randomized_agent,5)\n",
        "\n",
        "print(f\"Model base reflex agent took {mba[0]} steps to clean a 5x5.\\n The agent was able to clean {round(mba[1]/mba[2]*100,2)}% of the dirty squares,\\n while the energy efficiency of the agents cleanliness is {round(mba[1]/mba[0]*100,2)}%\")\n",
        "print(f\"\\nSimple reflex agent took {sra[0]} steps to clean a 5x5.\\n The agent was able to clean {round(sra[1]/sra[2] * 100,2)}% of the dirty squares,\\n while the energy efficiency of the agents cleanliness is {round(sra[1]/sra[0]*100,2)}%\")\n",
        "print(f\"\\nSimple randomized agent took {sranda[0]} steps to clean a 5x5.\\n The agent was able to clean {round(sranda[1]/sranda[2] * 100,2)}% of the dirty squares,\\n while the energy efficiency of the agents cleanliness is {round(sranda[1]/sranda[0]*100,2)}%\")"
      ],
      "metadata": {
        "colab": {
          "base_uri": "https://localhost:8080/"
        },
        "id": "HA8XRmnh9CBC",
        "outputId": "f504927a-89e5-4dea-92ff-38d382d85b76"
      },
      "execution_count": 248,
      "outputs": [
        {
          "output_type": "stream",
          "name": "stdout",
          "text": [
            "{(0, 0): 'Clean', (1, 0): 'Clean', (2, 0): 'Clean', (3, 0): 'Clean', (4, 0): 'Clean', (4, 1): 'Clean', (4, 2): 'Clean', (4, 3): 'Clean', (4, 4): 'Clean', (3, 4): 'Clean', (2, 4): 'Clean', (1, 4): 'Clean', (0, 4): 'Clean', (0, 3): 'Clean', (1, 3): 'Clean', (2, 3): 'Clean', (3, 3): 'Clean', (3, 2): 'Clean', (2, 2): 'Clean', (1, 2): 'Clean', (0, 2): 'Clean', (0, 1): 'Clean', (1, 1): 'Clean', (2, 1): 'Clean', (3, 1): 'Clean'}\n",
            "Model base reflex agent took 30 steps to clean a 5x5.\n",
            " The agent was able to clean 0.0% of the dirty squares,\n",
            " while the energy efficiency of the agents cleanliness is 0.0%\n",
            "\n",
            "Simple reflex agent took 794 steps to clean a 5x5.\n",
            " The agent was able to clean 100.0% of the dirty squares,\n",
            " while the energy efficiency of the agents cleanliness is 1.51%\n",
            "\n",
            "Simple randomized agent took 592 steps to clean a 5x5.\n",
            " The agent was able to clean 100.0% of the dirty squares,\n",
            " while the energy efficiency of the agents cleanliness is 1.35%\n"
          ]
        }
      ]
    },
    {
      "cell_type": "code",
      "source": [
        "# Your code goes here\n",
        "agent = Agent()\n",
        "agent_reset = Agent()\n",
        "agent_reset_2 = Agent()\n",
        "\n",
        "def model_based_agent_no_reset(bumpers, dirty):\n",
        "  action = agent.act(bumpers,dirty)\n",
        "  return action\n",
        "\n",
        "def model_based_agent_1_reset(bumpers, dirty):\n",
        "  action = agent.act(bumpers,dirty)\n",
        "  if action == \"NA\":\n",
        "    action = agent_reset.act(bumpers,dirty)\n",
        "  return action\n",
        "\n",
        "def model_based_agent_2_reset(bumpers, dirty):\n",
        "  action = agent.act(bumpers,dirty)\n",
        "  if action == \"NA\":\n",
        "    action = agent_reset.act(bumpers,dirty)\n",
        "    if action == \"NA\":\n",
        "      action = agent_reset_2.act(bumpers,dirty)\n",
        "  return action\n"
      ],
      "metadata": {
        "id": "HOAkC5Juvuc-"
      },
      "execution_count": 331,
      "outputs": []
    },
    {
      "cell_type": "code",
      "source": [
        "\n",
        "mba = environment(model_based_agent_no_reset,5)\n",
        "print(f\"Model base reflex agent with no resets took {mba[0]} steps to clean a 5x5.\\n The agent was able to clean {round(mba[1]/mba[2]*100,2)}% of the dirty squares,\\n while the energy efficiency of the agents cleanliness is {round(mba[1]/mba[0]*100,2)}%\")\n",
        "\n",
        "mba_1 = environment(model_based_agent_1_reset,5)\n",
        "print(f\"Model base reflex agent with no resets took {mba_1[0]} steps to clean a 5x5.\\n The agent was able to clean {round(mba_1[1]/mba_1[2]*100,2)}% of the dirty squares,\\n while the energy efficiency of the agents cleanliness is {round(mba_1[1]/mba_1[0]*100,2)}%\")\n",
        "\n",
        "mba_2 = environment(model_based_agent_2_reset,5)\n",
        "print(f\"Model base reflex agent with no resets took {mba_2[0]} steps to clean a 5x5.\\n The agent was able to clean {round(mba_2[1]/mba_2[2]*100,2)}% of the dirty squares,\\n while the energy efficiency of the agents cleanliness is {round(mba_2[1]/mba_2[0]*100,2)}%\")\n",
        "\n",
        "\n",
        "\n",
        "\n"
      ],
      "metadata": {
        "colab": {
          "base_uri": "https://localhost:8080/"
        },
        "id": "TaDBQ0TrIHkF",
        "outputId": "b14e9d18-27fe-4163-cb71-ea801b037bc8"
      },
      "execution_count": 332,
      "outputs": [
        {
          "output_type": "stream",
          "name": "stdout",
          "text": [
            "Memory reseting\n",
            "Model base reflex agent with no resets took 31 steps to clean a 5x5.\n",
            " The agent was able to clean 0.0% of the dirty squares,\n",
            " while the energy efficiency of the agents cleanliness is 0.0%\n",
            "Memory reseting\n",
            "Memory reseting\n",
            "Memory reseting\n",
            "Memory reseting\n",
            "Memory reseting\n",
            "Memory reseting\n",
            "Memory reseting\n",
            "Memory reseting\n",
            "Memory reseting\n",
            "Memory reseting\n",
            "Memory reseting\n",
            "Memory reseting\n",
            "Memory reseting\n",
            "Memory reseting\n",
            "Memory reseting\n",
            "Memory reseting\n",
            "Memory reseting\n",
            "Memory reseting\n",
            "Memory reseting\n",
            "Memory reseting\n",
            "Memory reseting\n",
            "Memory reseting\n",
            "Memory reseting\n",
            "Memory reseting\n",
            "Memory reseting\n",
            "Memory reseting\n",
            "Memory reseting\n",
            "Memory reseting\n",
            "Memory reseting\n",
            "Memory reseting\n",
            "Memory reseting\n",
            "Memory reseting\n",
            "Memory reseting\n",
            "Model base reflex agent with no resets took 34 steps to clean a 5x5.\n",
            " The agent was able to clean 20.0% of the dirty squares,\n",
            " while the energy efficiency of the agents cleanliness is 5.88%\n",
            "Memory reseting\n",
            "Memory reseting\n",
            "Memory reseting\n",
            "Memory reseting\n",
            "Memory reseting\n",
            "Memory reseting\n",
            "Memory reseting\n",
            "Memory reseting\n",
            "Memory reseting\n",
            "Memory reseting\n",
            "Memory reseting\n",
            "Memory reseting\n",
            "Memory reseting\n",
            "Memory reseting\n",
            "Memory reseting\n",
            "Memory reseting\n",
            "Memory reseting\n",
            "Memory reseting\n",
            "Memory reseting\n",
            "Memory reseting\n",
            "Memory reseting\n",
            "Memory reseting\n",
            "Memory reseting\n",
            "Memory reseting\n",
            "Memory reseting\n",
            "Memory reseting\n",
            "Memory reseting\n",
            "Memory reseting\n",
            "Memory reseting\n",
            "Memory reseting\n",
            "Memory reseting\n",
            "Memory reseting\n",
            "Memory reseting\n",
            "Memory reseting\n",
            "Memory reseting\n",
            "Memory reseting\n",
            "Memory reseting\n",
            "Memory reseting\n",
            "Memory reseting\n",
            "Memory reseting\n",
            "Memory reseting\n",
            "Memory reseting\n",
            "Memory reseting\n",
            "Memory reseting\n",
            "Memory reseting\n",
            "Memory reseting\n",
            "Memory reseting\n",
            "Memory reseting\n",
            "Memory reseting\n",
            "Memory reseting\n",
            "Memory reseting\n",
            "Memory reseting\n",
            "Memory reseting\n",
            "Memory reseting\n",
            "Memory reseting\n",
            "Memory reseting\n",
            "Memory reseting\n",
            "Memory reseting\n",
            "Memory reseting\n",
            "Memory reseting\n",
            "Memory reseting\n",
            "Model base reflex agent with no resets took 32 steps to clean a 5x5.\n",
            " The agent was able to clean 14.29% of the dirty squares,\n",
            " while the energy efficiency of the agents cleanliness is 6.25%\n"
          ]
        }
      ]
    },
    {
      "cell_type": "markdown",
      "metadata": {
        "id": "Pl2SMtx-SamE"
      },
      "source": [
        "## More advanced implementation tasks\n",
        "\n",
        "* __Obstacles:__ Change your simulation environment to run experiments for the following problem: Add random obstacle squares that also trigger the bumper sensor. The agent does not know where the obstacles are. Perform experiments to observe how this changes the performance of the three implementations. Describe what would need to be done to perform better with obstacles. Add code if you can.\n",
        "\n",
        "* __Agent for and environment with obstacles:__ Implement an agent for an environment where the agent does not know how large the environment is (we assume it is rectangular), where it starts or where the obstacles are. An option would be to always move to the closest unchecked/uncleaned square (note that this is actually depth-first search).\n",
        "\n",
        "* __Utility-based agent:__ Change the environment for a $5 \\times 5$ room, so each square has a fixed probability of getting dirty again. For the implementation, we give the environment a 2-dimensional array of probabilities. The utility of a state is defined as the number of currently clean squares in the room. Implement a utility-based agent that maximizes the expected utility over one full charge which lasts for 100000 time steps. To do this, the agent needs to learn the probabilities with which different squares get dirty again. This is very tricky!"
      ]
    },
    {
      "cell_type": "code",
      "execution_count": 289,
      "metadata": {
        "id": "gej1AKxESamE"
      },
      "outputs": [],
      "source": [
        "# Your ideas/code"
      ]
    }
  ],
  "metadata": {
    "kernelspec": {
      "display_name": "AI",
      "language": "python",
      "name": "python3"
    },
    "language_info": {
      "codemirror_mode": {
        "name": "ipython",
        "version": 3
      },
      "file_extension": ".py",
      "mimetype": "text/x-python",
      "name": "python",
      "nbconvert_exporter": "python",
      "pygments_lexer": "ipython3",
      "version": "3.10.12"
    },
    "toc-autonumbering": false,
    "colab": {
      "provenance": []
    }
  },
  "nbformat": 4,
  "nbformat_minor": 0
}