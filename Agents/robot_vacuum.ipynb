{
  "cells": [
    {
      "cell_type": "markdown",
      "metadata": {
        "id": "h6oAUIbRSal7"
      },
      "source": [
        "# Intelligent Agents: Reflex-Based Agents for the Vacuum-cleaner World\n",
        "\n",
        "Student Name: Jonathan Mejia\n",
        "\n",
        "I have used the following AI tools: ChatGPT, Google Gemini\n",
        "\n",
        "I understand that my submission needs to be my own work: JM\n",
        "\n",
        "## Instructions\n",
        "\n",
        "Total Points: Undergrads 100 + 5 bonus / Graduate students 110\n",
        "\n",
        "Complete this notebook. Use the provided notebook cells and insert additional code and markdown cells as needed. Submit the completely rendered notebook as a HTML file.\n",
        "\n",
        "### Using Visual Studio Code\n",
        "\n",
        "If you use VS code then you can use `Export` (click on `...` in the menu bar) to save your notebook as a HTML file. Note that you have to run all blocks before so the HTML file contains your output.\n",
        "\n",
        "### Using Google Colab\n",
        "\n",
        "In Colab you need to save the notebook on GoogleDrive to work with it. For this you need to mount your google dive and change to the correct directory by uncommenting the following lines and running the code block."
      ]
    },
    {
      "cell_type": "code",
      "execution_count": 1,
      "metadata": {
        "colab": {
          "base_uri": "https://localhost:8080/"
        },
        "id": "85iO0MgtSal-",
        "outputId": "6b11f6a5-7337-48e2-a9aa-3e007be41a23"
      },
      "outputs": [
        {
          "output_type": "stream",
          "name": "stdout",
          "text": [
            "Drive already mounted at /content/drive; to attempt to forcibly remount, call drive.mount(\"/content/drive\", force_remount=True).\n"
          ]
        }
      ],
      "source": [
        " from google.colab import drive\n",
        " import os\n",
        "\n",
        " drive.mount('/content/drive')\n",
        " os.chdir('/content/drive/My Drive/Colab Notebooks/')"
      ]
    },
    {
      "cell_type": "markdown",
      "metadata": {
        "id": "d4gVmG0aSal-"
      },
      "source": [
        "Once you are done with the assignment and have run all code blocks using `Runtime/Run all`, you can convert the file on your GoogleDrive into HTML be uncommenting the following line and running the block."
      ]
    },
    {
      "cell_type": "code",
      "execution_count": 24,
      "metadata": {
        "colab": {
          "base_uri": "https://localhost:8080/"
        },
        "id": "-dIhAljiSal_",
        "outputId": "d1764aee-b5be-4b74-f771-742067c4d9a4"
      },
      "outputs": [
        {
          "output_type": "stream",
          "name": "stdout",
          "text": [
            "[NbConvertApp] Converting notebook robot_vacuum.ipynb to html\n",
            "[NbConvertApp] WARNING | Alternative text is missing on 1 image(s).\n",
            "[NbConvertApp] Writing 436189 bytes to robot_vacuum.html\n"
          ]
        }
      ],
      "source": [
        " !jupyter nbconvert --to html robot_vacuum.ipynb"
      ]
    },
    {
      "cell_type": "markdown",
      "metadata": {
        "id": "5lfHmFHKSal_"
      },
      "source": [
        "You may have to fix the file location or the file name to match how it looks on your GoogleDrive. You can navigate in Colab to your GoogleDrive using the little folder symbol in the navigation bar to the left."
      ]
    },
    {
      "cell_type": "markdown",
      "metadata": {
        "id": "8Oz7JunFSal_"
      },
      "source": [
        "## Introduction\n",
        "\n",
        "In this assignment you will implement a simulator environment for an automatic vacuum cleaner robot, a set of different reflex-based agent programs, and perform a comparison study for cleaning a single room. Focus on the __cleaning phase__ which starts when the robot is activated and ends when the last dirty square in the room has been cleaned. Someone else will take care of the agent program needed to navigate back to the charging station after the room is clean.\n",
        "\n",
        "## PEAS description of the cleaning phase\n",
        "\n",
        "__Performance Measure:__ Each action costs 1 energy unit. The performance is measured as the sum of the energy units used to clean the whole room.\n",
        "\n",
        "__Environment:__ A room with $n \\times n$ squares where $n = 5$. Dirt is randomly placed on each square with probability $p = 0.2$. For simplicity, you can assume that the agent knows the size and the layout of the room (i.e., it knows $n$). To start, the agent is placed on a random square.\n",
        "\n",
        "__Actuators:__ The agent can clean the current square (action `suck`) or move to an adjacent square by going `north`, `east`, `south`, or `west`.\n",
        "\n",
        "__Sensors:__ Four bumper sensors, one for north, east, south, and west; a dirt sensor reporting dirt in the current square.  \n",
        "\n",
        "\n",
        "## The agent program for a simple randomized agent\n",
        "\n",
        "The agent program is a function that gets sensor information (the current percepts) as the arguments. The arguments are:\n",
        "\n",
        "* A dictionary with boolean entries for the for bumper sensors `north`, `east`, `west`, `south`. E.g., if the agent is on the north-west corner, `bumpers` will be `{\"north\" : True, \"east\" : False, \"south\" : False, \"west\" : True}`.\n",
        "* The dirt sensor produces a boolean.\n",
        "\n",
        "The agent returns the chosen action as a string.\n",
        "\n",
        "Here is an example implementation for the agent program of a simple randomized agent:  "
      ]
    },
    {
      "cell_type": "code",
      "execution_count": 3,
      "metadata": {
        "id": "bvugTpIfSal_"
      },
      "outputs": [],
      "source": [
        "# make sure numpy is installed\n",
        "!pip install -q numpy"
      ]
    },
    {
      "cell_type": "code",
      "execution_count": 4,
      "metadata": {
        "id": "ElGKjil7Sal_"
      },
      "outputs": [],
      "source": [
        "import numpy as np\n",
        "\n",
        "actions = [\"north\", \"east\", \"west\", \"south\", \"suck\"]\n",
        "\n",
        "def simple_randomized_agent(bumpers, dirty):\n",
        "    return np.random.choice(actions)"
      ]
    },
    {
      "cell_type": "code",
      "execution_count": 5,
      "metadata": {
        "colab": {
          "base_uri": "https://localhost:8080/",
          "height": 35
        },
        "id": "IHIp3qfESamA",
        "outputId": "d8cff8c3-2d91-43a4-cec5-13574fc6484d"
      },
      "outputs": [
        {
          "output_type": "execute_result",
          "data": {
            "text/plain": [
              "'suck'"
            ],
            "application/vnd.google.colaboratory.intrinsic+json": {
              "type": "string"
            }
          },
          "metadata": {},
          "execution_count": 5
        }
      ],
      "source": [
        "# define percepts (current location is NW corner and it is dirty)\n",
        "bumpers = {\"north\" : True, \"east\" : False, \"south\" : False, \"west\" : True}\n",
        "dirty = True\n",
        "\n",
        "# call agent program function with percepts and it returns an action\n",
        "simple_randomized_agent(bumpers, dirty)"
      ]
    },
    {
      "cell_type": "markdown",
      "metadata": {
        "id": "VC1b-R37SamA"
      },
      "source": [
        "__Note:__ This is not a rational intelligent agent. It ignores its sensors and may bump into a wall repeatedly or not clean a dirty square. You will be asked to implement rational agents below."
      ]
    },
    {
      "cell_type": "markdown",
      "metadata": {
        "id": "BwSLOWGWSamA"
      },
      "source": [
        "## Simple environment example\n",
        "\n",
        "We implement a simple simulation environment that supplies the agent with its percepts.\n",
        "The simple environment is infinite in size (bumpers are always `False`) and every square is always dirty, even if the agent cleans it. The environment function returns a different performance measure than the one specified in the PEAS description! Since the room is infinite and all squares are constantly dirty, the agent can never clean the whole room. Your implementation needs to implement the **correct performance measure.** The energy budget of the agent is specified as `max_steps`."
      ]
    },
    {
      "cell_type": "code",
      "execution_count": 6,
      "metadata": {
        "id": "7nxmBfO8SamA"
      },
      "outputs": [],
      "source": [
        "def simple_environment(agent_function, max_steps, verbose = True):\n",
        "    num_cleaned = 0\n",
        "\n",
        "    for i in range(max_steps):\n",
        "        dirty = True\n",
        "        bumpers = {\"north\" : False, \"south\" : False, \"west\" : False, \"east\" : False}\n",
        "\n",
        "        action = agent_function(bumpers, dirty)\n",
        "        if (verbose): print(\"step\", i , \"- action:\", action)\n",
        "\n",
        "        if (action == \"suck\"):\n",
        "            num_cleaned = num_cleaned + 1\n",
        "\n",
        "    return num_cleaned\n",
        "\n"
      ]
    },
    {
      "cell_type": "markdown",
      "metadata": {
        "id": "oQWPrbfESamB"
      },
      "source": [
        "Do one simulation run with a simple randomized agent that has enough energy for 20 steps."
      ]
    },
    {
      "cell_type": "code",
      "execution_count": 7,
      "metadata": {
        "colab": {
          "base_uri": "https://localhost:8080/"
        },
        "id": "GzU94_4aSamB",
        "outputId": "d5a6d243-bc21-4018-9a92-42736e9fa9ed"
      },
      "outputs": [
        {
          "output_type": "stream",
          "name": "stdout",
          "text": [
            "step 0 - action: suck\n",
            "step 1 - action: east\n",
            "step 2 - action: south\n",
            "step 3 - action: west\n",
            "step 4 - action: south\n",
            "step 5 - action: west\n",
            "step 6 - action: south\n",
            "step 7 - action: east\n",
            "step 8 - action: west\n",
            "step 9 - action: north\n",
            "step 10 - action: south\n",
            "step 11 - action: suck\n",
            "step 12 - action: north\n",
            "step 13 - action: east\n",
            "step 14 - action: south\n",
            "step 15 - action: suck\n",
            "step 16 - action: west\n",
            "step 17 - action: south\n",
            "step 18 - action: suck\n",
            "step 19 - action: suck\n"
          ]
        },
        {
          "output_type": "execute_result",
          "data": {
            "text/plain": [
              "5"
            ]
          },
          "metadata": {},
          "execution_count": 7
        }
      ],
      "source": [
        "simple_environment(simple_randomized_agent, max_steps = 20)"
      ]
    },
    {
      "cell_type": "markdown",
      "metadata": {
        "id": "usJY2QdcSamB"
      },
      "source": [
        "# Tasks\n",
        "\n",
        "## General [10 Points]\n",
        "\n",
        "1. Make sure that you use the latest version of this notebook.\n",
        "2. Your implementation can use libraries like math, numpy, scipy, but not libraries that implement intelligent agents or complete search algorithms. Try to keep the code simple! In this course, we want to learn about the algorithms and we often do not need to use object-oriented design.\n",
        "3. You notebook needs to be formatted professionally.\n",
        "    - Add additional markdown blocks for your description, comments in the code, add tables and use mathplotlib to produce charts where appropriate\n",
        "    - Do not show debugging output or include an excessive amount of output.\n",
        "    - Check that your submitted file is readable and contains all figures.\n",
        "4. Document your code. Use comments in the code and add a discussion of how your implementation works and your design choices.\n",
        "\n",
        "\n",
        "## Task 1: Implement a simulation environment [20 Points]\n",
        "\n",
        "The simple environment above is not very realistic. Your environment simulator needs to follow the PEAS description from above. It needs to:\n",
        "\n",
        "* Initialize the environment by storing the state of each square (clean/dirty) and making some dirty. ([Help with random numbers and arrays in Python](https://github.com/mhahsler/CS7320-AI/blob/master/HOWTOs/random_numbers_and_arrays.ipynb))\n",
        "* Keep track of the agent's position.\n",
        "* Call the agent function repeatedly and provide the agent function with the sensor inputs.  \n",
        "* React to the agent's actions. E.g, by removing dirt from a square or moving the agent around unless there is a wall in the way.\n",
        "* Keep track of the performance measure. That is, track the agent's actions until all dirty squares are clean and count the number of actions it takes the agent to complete the task.\n",
        "\n",
        "The easiest implementation for the environment is to hold an 2-dimensional array to represent if squares are clean or dirty and to call the agent function in a loop until all squares are clean or a predefined number of steps have been reached (i.e., the robot runs out of energy).\n",
        "\n",
        "The simulation environment should be a function like the `simple_environment()` and needs to work with the simple randomized agent program from above. **Use the same environment for all your agent implementations in the tasks below.**\n",
        "\n",
        "*Note on debugging:* Debugging is difficult. Make sure your environment prints enough information when you use `verbose = True`. Also, implementing a function that the environment can use to displays the room with dirt and the current position of the robot at every step is very useful.  "
      ]
    },
    {
      "cell_type": "code",
      "execution_count": 8,
      "metadata": {
        "id": "p3HK6K0ASamB"
      },
      "outputs": [],
      "source": [
        "import numpy as np\n",
        "import collections\n",
        "\n",
        "\n",
        "def environment(agent_function, room_size, verbose = True):\n",
        "## Initialising the invironment by storing state of each square at random to be clean or dirty\n",
        "  rng = np.random.default_rng()\n",
        "  environment = rng.choice([\"Dirty\",\"Clean\"],size = (room_size,room_size))\n",
        "# The next line can be uncommented to see the environments states for each tile before cleaning\n",
        "# print(environment)\n",
        "\n",
        "## Initialize a random position on the floor for the agent to then keep track of\n",
        "  agent_position = (np.random.randint(0,room_size), np.random.randint(0,room_size))\n",
        "\n",
        "## Initializing direction based coordinates to be implemented when moving\n",
        "\n",
        "  directions = {\n",
        "        \"north\": (-1,0),\n",
        "        \"south\": (1,0),\n",
        "        \"east\": (0,1),\n",
        "        \"west\": (0,-1)\n",
        "   }\n",
        "## Initializing bumpers to keep track of walls in this case will be out of bounds of an array\n",
        "  bumpers = {}\n",
        "## Initializing to keep track of the number of dirty spots to be cleaned\n",
        "  num_cleaned = 0\n",
        "## Keeping track of the number of Dirty spots are on the floor\n",
        "  counter= np.count_nonzero(environment == \"Dirty\")\n",
        "## Initializing the first Step\n",
        "  step = 0\n",
        "\n",
        "## Creating a loop to have the robot continue to clean until all dirty spots are cleaned\n",
        "  while 0 < counter:\n",
        "## Need to keep track of the bumpers by doing so looping through each direction to check if there are walls sensed\n",
        "## from the agents position. If a wall is sensed in this case an IndexError will populate and set the bumper direction\n",
        "## to True\n",
        "   for dir, (x,y) in directions.items():\n",
        "     try:\n",
        "       pos = agent_position[0] + x, agent_position[1] + y\n",
        "       if pos[0] < 0 or pos[1]<0 or pos[0]>=environment.shape[0] or pos[1]>=environment.shape[1]:\n",
        "         raise IndexError\n",
        "       else:\n",
        "         bumpers[dir] = False\n",
        "     except IndexError:\n",
        "        bumpers[dir] = True\n",
        "## Need to check current agents positions state whether clean or dirty\n",
        "   dirty = environment[agent_position]\n",
        "\n",
        "## Call the agents function by providing the sensors inputs and whether the current position is clean or dirty\n",
        "## to gather an action for next steps to do when navigating the floor\n",
        "\n",
        "   action = agent_function(bumpers, dirty)\n",
        "\n",
        "## Check actions gathered from the agents function to then update the agents new position\n",
        "   if action == \"NA\": break\n",
        "   if action == \"north\" and bumpers[action] != True: agent_position = agent_position[0] - 1 , agent_position[1]\n",
        "   if action == \"south\" and bumpers[action] != True: agent_position = agent_position[0] + 1 , agent_position[1]\n",
        "   if action == \"east\" and bumpers[action] != True: agent_position = agent_position[0], agent_position[1] + 1\n",
        "   if action == \"west\" and bumpers[action] != True: agent_position = agent_position[0], agent_position[1] - 1\n",
        "\n",
        "## Need to make sure if the action is set to suck that the environments state is updated to Clean\n",
        "   if (action == \"suck\"):\n",
        "      environment[agent_position] = 'Clean'\n",
        "## Iterating the steps\n",
        "   step = step + 1\n",
        "## Checking dirty tiles and updating new counter\n",
        "   counter = np.count_nonzero(environment == \"Dirty\")\n",
        "#   The next line can be uncommented to see step by step the agents position\n",
        "#   if (verbose): print(\"step\", step , \"- action:\", action,\" Agent Position: \", agent_position)\n",
        "\n",
        "# The next line can be uncommented to see the environments states for each tile after cleaning\n",
        "#  print(environment)\n",
        "\n",
        "## returning the steps taken to completely clean all dirty squares\n",
        "  return step\n"
      ]
    },
    {
      "cell_type": "markdown",
      "metadata": {
        "id": "uzeZFc4qSamB"
      },
      "source": [
        "Show that your environment works with the simple randomized agent from above."
      ]
    },
    {
      "cell_type": "code",
      "execution_count": 9,
      "metadata": {
        "colab": {
          "base_uri": "https://localhost:8080/"
        },
        "id": "sYJRqQBwSamB",
        "outputId": "41a2b7fd-ec7b-4b5f-d490-4713f0ddd60c"
      },
      "outputs": [
        {
          "output_type": "stream",
          "name": "stdout",
          "text": [
            "Took the agent 9 steps to clean the room\n"
          ]
        }
      ],
      "source": [
        "# The following will print out the steps taken including the action along with the agents current position\n",
        "# Finally printing how many steps were taken to clean the entire room\n",
        "\n",
        "print(f\"Took the agent {environment(simple_randomized_agent,2)} steps to clean the room\")\n"
      ]
    },
    {
      "cell_type": "markdown",
      "metadata": {
        "id": "KgWVpbAwSamB"
      },
      "source": [
        "## Task 2:  Implement a simple reflex agent [10 Points]\n",
        "\n",
        "The simple reflex agent randomly walks around but reacts to the bumper sensor by not bumping into the wall and to dirt with sucking. Implement the agent program as a function.\n",
        "\n",
        "_Note:_ Agents cannot directly use variable in the environment. They only gets the percepts as the arguments to the agent function. Use the function signature for the `simple_randomized_agent` function above."
      ]
    },
    {
      "cell_type": "code",
      "execution_count": 10,
      "metadata": {
        "id": "y_OtcS5ESamC"
      },
      "outputs": [],
      "source": [
        "# The following simple reflex agent function will take in sensor paramenters for the bumpers and current\n",
        "# position state, only storing directions that are not bumping into a wall to then be randomly selected\n",
        "# for an action to be returned\n",
        "\n",
        "def simple_reflex_agent(bumpers, dirty):\n",
        "\n",
        "# Initialize a randomizer\n",
        "    rng = np.random.default_rng()\n",
        "\n",
        "# Used to store available random directions that are not bumping into the wall\n",
        "    random_dir_available = []\n",
        "\n",
        "# Also directly checks if the current state is dirty and if so returns actions suck\n",
        "    if dirty == \"Dirty\":\n",
        "      return 'suck'\n",
        "\n",
        "# store available random directions that are not bumping into the wall\n",
        "    for i in bumpers:\n",
        "      if bumpers[i] == False: random_dir_available.append(i)\n",
        "\n",
        "# randomly selects an available direction thats not hitting the walls\n",
        "    return rng.choice(random_dir_available)"
      ]
    },
    {
      "cell_type": "markdown",
      "metadata": {
        "id": "fGvvKcl8SamC"
      },
      "source": [
        "Show how the agent works with your environment."
      ]
    },
    {
      "cell_type": "code",
      "execution_count": 11,
      "metadata": {
        "colab": {
          "base_uri": "https://localhost:8080/"
        },
        "id": "rPOuNmWySamC",
        "outputId": "39e12768-5b8b-499d-9dd3-be3fd02fbdff"
      },
      "outputs": [
        {
          "output_type": "stream",
          "name": "stdout",
          "text": [
            "Took the simple reflex agent 10 steps to clean the room\n"
          ]
        }
      ],
      "source": [
        "# This will print the actions taken in a 2x2 floor plan with randomized clean and dirty tiles\n",
        "# and finish by printing the result by calling the function\n",
        "\n",
        "print(f\"Took the simple reflex agent {environment(simple_reflex_agent,2)} steps to clean the room\")\n",
        "\n"
      ]
    },
    {
      "cell_type": "markdown",
      "metadata": {
        "id": "yRYpl6zkSamC"
      },
      "source": [
        "## Task 3: Implement a model-based reflex agent [20 Points]\n",
        "\n",
        "Model-based agents use a state to keep track of what they have done and perceived so far. Your agent needs to find out where it is located and then keep track of its current location. You also need a set of rules based on the state and the percepts to make sure that the agent will clean the whole room. For example, the agent can move to a corner to determine its location and then it can navigate through the whole room and clean dirty squares.\n",
        "\n",
        "Describe how you define the __agent state__ and how your agent works before implementing it. ([Help with implementing state information on Python](https://github.com/mhahsler/CS7320-AI/blob/master/HOWTOs/store_agent_state_information.ipynb))"
      ]
    },
    {
      "cell_type": "code",
      "execution_count": 12,
      "metadata": {
        "id": "uFV_xWsISamC"
      },
      "outputs": [],
      "source": [
        "# For the following Agent I will create a class for an agent being initialized to find out\n",
        "# its current position and keep track by having the position updated per move. To do so\n",
        "# the agent will first need to find the north west most position to start in a corner. This\n",
        "# will help the agent keep track of its position. Going forward the agent will move around\n",
        "# the East Wall, South Wall and then West wall getting to the North West most point and then\n",
        "# snaking its position to check each square state and updating accordingly to return an action.\n",
        "# If not return a default value if all directions have been visited.\n",
        "\n",
        "class Agent:\n",
        "  def __init__(self):\n",
        "    self.position = (0,0)\n",
        "    self.visited = []\n",
        "    self.start_cleaning = False\n",
        "\n",
        "  def act(self, bumpers, dirty):\n",
        "# The following is done to check if the agents position has hit the North east most wall\n",
        "    while self.start_cleaning == False:\n",
        "      if bumpers['north'] != True: return 'north'\n",
        "      if bumpers['west'] != True: return 'west'\n",
        "      self.start_cleaning = True\n",
        "# If current agents state is dirty return action suck\n",
        "    if dirty == 'Dirty': return 'suck'\n",
        "\n",
        "# and add the position to visited states to keep track of where the agent has been\n",
        "    self.visited.append(self.position)\n",
        "\n",
        "# now iterate for each occurance through each direction ensuring a wall is not hit and the\n",
        "# position has not been visited.\n",
        "    while bumpers['south']!= True and (self.position[0] + 1, self.position[1]) not in self.visited:\n",
        "      self.position = self.position[0] + 1, self.position[1]\n",
        "      return 'south'\n",
        "    while bumpers['east']!= True and (self.position[0], self.position[1]+1) not in self.visited:\n",
        "      self.position = self.position[0] , self.position[1] + 1\n",
        "      return 'east'\n",
        "    while bumpers['north']!= True and (self.position[0]-1, self.position[1]) not in self.visited:\n",
        "      self.position = self.position[0]-1 , self.position[1]\n",
        "      return 'north'\n",
        "    while bumpers['west']!= True and (self.position[0], self.position[1]-1) not in self.visited:\n",
        "      self.position = self.position[0] , self.position[1] - 1\n",
        "      return 'west'\n",
        "# return a default value if all directions from the current position has been visited\n",
        "    return \"NA\"\n",
        "\n"
      ]
    },
    {
      "cell_type": "code",
      "execution_count": 13,
      "metadata": {
        "id": "9-YOZECgSamC"
      },
      "outputs": [],
      "source": [
        "# Initialize an agent to act on the agents state given code above\n",
        "agent = Agent()\n",
        "\n",
        "def model_based_agent(bumpers, dirty):\n",
        "  return agent.act(bumpers,dirty)\n"
      ]
    },
    {
      "cell_type": "markdown",
      "metadata": {
        "id": "Y7443pv0SamC"
      },
      "source": [
        "Show how the agent works with your environment."
      ]
    },
    {
      "cell_type": "code",
      "execution_count": 14,
      "metadata": {
        "colab": {
          "base_uri": "https://localhost:8080/"
        },
        "id": "lJg9Gc5GSamC",
        "outputId": "d16e9ab8-ecbf-4456-9606-85c3da23ccde"
      },
      "outputs": [
        {
          "output_type": "stream",
          "name": "stdout",
          "text": [
            "Took the model based reflex agent 4 steps to clean the room\n"
          ]
        }
      ],
      "source": [
        "# print the result\n",
        "\n",
        "print(f\"Took the model based reflex agent {environment(model_based_agent,2)} steps to clean the room\")\n",
        "\n"
      ]
    },
    {
      "cell_type": "markdown",
      "metadata": {
        "id": "-DfNWy3-SamC"
      },
      "source": [
        "## Task 4: Simulation study [30 Points]\n",
        "\n",
        "Compare the performance (the performance measure is defined in the PEAS description above) of the agents using  environments of different size. Do at least $5 \\times 5$, $10 \\times 10$ and\n",
        "$100 \\times 100$. Use 100 random runs for each. Present the results using tables and graphs. Discuss the differences between the agents.\n",
        "([Help with charts and tables in Python](https://github.com/mhahsler/CS7320-AI/blob/master/HOWTOs/charts_and_tables.ipynb))"
      ]
    },
    {
      "cell_type": "code",
      "execution_count": 15,
      "metadata": {
        "colab": {
          "base_uri": "https://localhost:8080/"
        },
        "id": "OTs5T98VSamC",
        "outputId": "9a0056a7-60b5-4ce9-d47e-d85cc27bfca7"
      },
      "outputs": [
        {
          "output_type": "stream",
          "name": "stdout",
          "text": [
            "Model based reflex agent took an average over 100 iterations 39.0 steps to clean a 5 X 5 room \n",
            "Model based reflex agent took an average over 100 iterations 158.0 steps to clean a 10 X 10 room \n",
            "Model based reflex agent took an average over 100 iterations 15085.0 steps to clean a 100 X 100 room \n"
          ]
        }
      ],
      "source": [
        "# The following code will test the model based reflex agent through 3 trails\n",
        "# including a 5x5, 10x10, and 100x100 running 100 times for each and providing an average step output\n",
        "# Note: These took very long to run\n",
        "\n",
        "runs = [5,10,100]\n",
        "\n",
        "model_avg = 0\n",
        "\n",
        "for i in range(len(runs)):\n",
        "\n",
        "  for j in range(100):\n",
        "\n",
        "    agent = Agent()\n",
        "    model_avg = model_avg + environment(model_based_agent,runs[i])\n",
        "\n",
        "  print(f\"Model based reflex agent took an average over 100 iterations {round(model_avg/100,1)} steps to clean a {runs[i]} X {runs[i]} room \")\n",
        "\n",
        "  model_avg = 0\n",
        "\n"
      ]
    },
    {
      "cell_type": "code",
      "source": [
        "# The following code will test the simple reflex agent through 3 trails\n",
        "# including a 5x5, 10x10, and 100x100 running 100 times for each and providing an average step output\n",
        "# Note: These took very long to run\n",
        "\n",
        "runs = [5,10,100]\n",
        "\n",
        "reflex_avg = 0\n",
        "\n",
        "for i in range(len(runs)):\n",
        "\n",
        "  for j in range(1):\n",
        "\n",
        "    reflex_avg = reflex_avg + environment(simple_reflex_agent,runs[i])\n",
        "\n",
        "  print(f\"Model based reflex agent took an average over 100 iterations {round(reflex_avg/1,1)} steps to clean a {runs[i]} X {runs[i]} room \")\n",
        "  reflex_avg = 0\n",
        "\n"
      ],
      "metadata": {
        "colab": {
          "base_uri": "https://localhost:8080/"
        },
        "id": "vwuBHBjiyO-X",
        "outputId": "8a538f36-c537-4a32-a76c-bedcce9a7a53"
      },
      "execution_count": 16,
      "outputs": [
        {
          "output_type": "stream",
          "name": "stdout",
          "text": [
            "Model based reflex agent took an average over 100 iterations 95.0 steps to clean a 5 X 5 room \n",
            "Model based reflex agent took an average over 100 iterations 1524.0 steps to clean a 10 X 10 room \n",
            "Model based reflex agent took an average over 100 iterations 447197.0 steps to clean a 100 X 100 room \n"
          ]
        }
      ]
    },
    {
      "cell_type": "code",
      "source": [
        "# The following code will test the simple randomized agent through 3 trails\n",
        "# including a 5x5, 10x10, and 100x100 running 100 times for each and providing an average step output\n",
        "# Note: These took very long to run\n",
        "\n",
        "runs = [5,10,100]\n",
        "\n",
        "random_avg = 0\n",
        "\n",
        "for i in range(len(runs)):\n",
        "\n",
        "  for j in range(1):\n",
        "\n",
        "    random_avg = random_avg + environment(simple_randomized_agent,runs[i])\n",
        "\n",
        "  print(f\"Simple random agent took an average over 100 iterations {round(random_avg/1,1)} steps to clean a {runs[i]} X {runs[i]} room \")\n",
        "\n",
        "  random_avg = 0\n"
      ],
      "metadata": {
        "colab": {
          "base_uri": "https://localhost:8080/"
        },
        "id": "cj1BX6jeyPn3",
        "outputId": "5644a192-2466-4500-f95f-c728cbfc8e1e"
      },
      "execution_count": 18,
      "outputs": [
        {
          "output_type": "stream",
          "name": "stdout",
          "text": [
            "Simple random agent took an average over 100 iterations 199.0 steps to clean a 5 X 5 room \n",
            "Simple random agent took an average over 100 iterations 4252.0 steps to clean a 10 X 10 room \n",
            "Simple random agent took an average over 100 iterations 803563.0 steps to clean a 100 X 100 room \n"
          ]
        }
      ]
    },
    {
      "cell_type": "markdown",
      "metadata": {
        "id": "7MP77q4YSamD"
      },
      "source": [
        "Fill out the following table with the average performance measure for 100 random runs (you may also create this table with code):\n",
        "\n",
        "| Size     | Model-based Reflex Agent | Simple Reflex Agent | Randomized Agent |\n",
        "|----------|------------------|---------------------|--------------------------|\n",
        "| 5x5     |39.0|95.0|199.0|\n",
        "| 10x10   | 158.0|1524.0|4252.0|\n",
        "| 100x100 | 15085.0|447197.0|803563.0|\n",
        "\n",
        "Add charts to compare the performance of the different agents."
      ]
    },
    {
      "cell_type": "code",
      "source": [
        "\n",
        "import pandas as pd\n",
        "import matplotlib\n",
        "import matplotlib.pyplot as plt\n",
        "\n",
        "categories = ['MBRA','SREFA', 'SRANDA']\n",
        "values5x5 = [39.0,144.4,199.0]\n",
        "values10x10 = [158.0, 1116.0, 4252.0]\n",
        "values100x100 = [15085.0,508015.2,803563.0]\n",
        "\n",
        "plt.figure(figsize=(20,5))\n",
        "# First chart (Bar chart)\n",
        "plt.subplot(1, 3, 1)  # (rows, columns, index)\n",
        "plt.bar(categories, values5x5, color='blue')\n",
        "plt.title(\"Room Size 5x5\")\n",
        "plt.xlabel('Agent Type')\n",
        "plt.ylabel('Number of Steps Taken')\n",
        "# First chart (Bar chart)\n",
        "plt.subplot(1, 3, 2)  # (rows, columns, index)\n",
        "plt.bar(categories, values10x10, color='orange')\n",
        "plt.title(\"Room Size 10x10\")\n",
        "plt.xlabel('Agent Type')\n",
        "plt.ylabel('Number of Steps Taken')\n",
        "# First chart (Bar chart)\n",
        "plt.subplot(1, 3, 3)  # (rows, columns, index)\n",
        "plt.bar(categories, values100x100, color='black')\n",
        "plt.title(\"Room Size 100x100\")\n",
        "plt.xlabel('Agent Type')\n",
        "plt.ylabel('Number of Steps Taken')\n",
        "\n",
        "\n",
        "plt.show()"
      ],
      "metadata": {
        "colab": {
          "base_uri": "https://localhost:8080/",
          "height": 232
        },
        "id": "5hcycyK5y43T",
        "outputId": "906d55a5-8c30-46e2-c85d-2d61935446e5"
      },
      "execution_count": 19,
      "outputs": [
        {
          "output_type": "display_data",
          "data": {
            "text/plain": [
              "<Figure size 2000x500 with 3 Axes>"
            ],
            "image/png": "[encoded data removed]"
          },
          "metadata": {}
        }
      ]
    },
    {
      "cell_type": "markdown",
      "source": [
        "Key Note for the above Figure:\n",
        "- MBRA = Model Based Reflex Agent\n",
        "- SREFA = Simple Reflex Agent\n",
        "- SRANDA = Simple Randomized Agent\n",
        "\n",
        "Additionally you can see based on the runs average times that given any room size the Simple Randomized agent would take the longest to completely clean a room. However the Model Based Reflex Agent had the opposite effect performing better when comparing ratios for larger rooms."
      ],
      "metadata": {
        "id": "42G2J5wIWMVj"
      }
    },
    {
      "cell_type": "markdown",
      "metadata": {
        "id": "7Z841URRSamD"
      },
      "source": [
        "## Task 5: Robustness of the agent implementations [10 Points]\n",
        "\n",
        "Describe how **your agent implementations** will perform\n",
        "\n",
        "* if it is put into a rectangular room with unknown size,\n",
        "* if the cleaning area can have an irregular shape (e.g., a hallway connecting two rooms), or\n",
        "* if the room contains obstacles (i.e., squares that it cannot pass through and trigger the bumper sensors).\n",
        "* if the dirt sensor is not perfect and gives 10% of the time a wrong reading (clean when it is dirty or dirty when it is clean).\n",
        "* if the bumper sensor is not perfect and 10% of the time does not report a wall when there is one."
      ]
    },
    {
      "cell_type": "markdown",
      "source": [
        "**ANSWER: Task 5 Robustness of the agent implementations**\n",
        "* if it is put into a rectangular room with unknown size,\n",
        " * The randomized Agent would be able to clean the room completely without issues giving similar performances as previously tested\n",
        " * The Reflex Agent would be able to clean the room completely without issues giving similar performances as previously tested\n",
        " * The model based agent looks to find the upper left corner of the room and then takes a whirpool/snake approach that would be able to handle the following given approach.\n",
        "* if the cleaning area can have an irregular shape (e.g., a hallway connecting two rooms), or\n",
        " * The randomized Agent would be able to clean the room completely without issues however may perform worse for irrigular shapes as the randomness will come down to luck on a scenario like a hallway since the idea of being stuck in a room is an option.\n",
        " * The Reflex Agent would be able to clean the room completely without issues however may perform worse for irrigular shapes as the randomness will come down to luck on a scenario like a hallway since the idea of being stuck in a room is an option but may provide some better results without bumping into a wall.\n",
        " * If the cleaning area had an irregular shape, the algorithm implemented would not be able to handle this case for a narrow hallway for example since the robot would have captured the area and look for the outter most walls each time. Eventually have one room completed upon cleaned and the other left not fully clean.\n",
        "* if the room contains obstacles (i.e., squares that it cannot pass through and trigger the bumper sensors).\n",
        " * The randomized Agent would be able to clean the room completely without issues giving similar performances as previously tested if not completing faster with obstacles taking up space.\n",
        " * The Reflex Agent would be able to clean the room completely without issues giving similar performances as previously tested if not completing faster with obstacles taking up space.\n",
        " * The model based algorithm would work for the environment in most cases however given a scenario where an obstacle is near a corner and creates a small hallway this will cause the agent to believe the room is completely clean which is false.\n",
        "* if the dirt sensor is not perfect and gives 10% of the time a wrong reading (clean when it is dirty or dirty when it is clean).\n",
        " * The randomized Agent would be able to clean the room completely without issues but with more steps to complete cleaning the room.\n",
        " * The Reflex Agent would be able to clean the room completely without issues but with more steps to complete cleaning the room.\n",
        " * The model based algorithm would crumble in this setting as the model base keeps track of the sensors current state and if wrong would pass a dirty spot without going back to check or know if it truly was dirty.\n",
        "* if the bumper sensor is not perfect and 10% of the time does not report a wall when there is one.\n",
        " * The randomized Agent has the potential to bump into a wall with a 50% chance in a corner and be stuck for an excessive amount of steps making the cleaner underperform dramatically with the idea of the agent dying without even moving.\n",
        " * The Reflex Agent similar to the randomized agent has the potential to bump into a wall with a 50% chance in a corner and be stuck for an excessive amount of steps making the cleaner underperform dramatically with the idea of the agent dying without even moving.\n",
        " * The model based algorithm could possible end up in an endless loop without even finding a starting position considering a wall is never detected with only a 10% chance. Nonetheless a starting position is found there would be more complications when going on the outter walls similarly ending up to overtime spent running into walls and the agent dying on the job."
      ],
      "metadata": {
        "id": "5aIp34Cnt303"
      }
    },
    {
      "cell_type": "markdown",
      "metadata": {
        "id": "CNsF4_VgSamD"
      },
      "source": [
        "## Advanced task: Imperfect Dirt Sensor\n",
        "\n",
        "* __Graduate students__ need to complete this task [10 points]\n",
        "* __Undergraduate students__ can attempt this as a bonus task [max +5 bonus points].\n",
        "\n",
        "1. Change your simulation environment to run experiments for the following problem: The dirt sensor has a 10% chance of giving the wrong reading. Perform experiments to observe how this changes the performance of the three implementations. Your model-based reflex agent is likely not able to clean the whole room, so you need to measure performance differently as a tradeoff between energy cost and number of uncleaned squares.\n",
        "\n",
        "2. Design an implement a solution for your model-based agent that will clean better. Show the improvement with experiments."
      ]
    },
    {
      "cell_type": "code",
      "execution_count": 20,
      "metadata": {
        "id": "nEeBErHJSamD"
      },
      "outputs": [],
      "source": [
        "# The code that will be updated in the simulation environment  is as follows\n",
        "\n",
        "# Keeping track of the squares cleaned for performance outcome\n",
        "#   squares_cleaned = 0\n",
        "\n",
        "# Keeping track of the original dirty tiles for performance outcome\n",
        "#   orig_dirty = np.count_nonzero(environment == \"Dirty\")\n",
        "\n",
        "# Implements the dirt sensor for a 10% chance of reading the current position\n",
        "# incorrectly in this sense Clean\n",
        "# if environment[agent_position]==state[0]:check = state[1]\n",
        "#   else: check = state[0]\n",
        "#   dirty = rng.choice([environment[agent_position],check], p = [.9, .1])\n",
        "\n",
        "# Keep track of the squares that are correctly cleaned and update the environment\n",
        "# accordingly\n",
        "#   if (action == \"suck\"):\n",
        "#      if environment[agent_position] != 'Clean':\n",
        "#        squares_cleaned = squares_cleaned + 1\n",
        "#      environment[agent_position] = 'Clean'\n",
        "\n",
        "# Additionally the return statement will be updated to provide more performance metrics\n",
        "#   return [step,squares_cleaned,orig_dirty]\n",
        "\n",
        "\n",
        "import numpy as np\n",
        "import collections\n",
        "\n",
        "\n",
        "def environment(agent_function, room_size, verbose = True):\n",
        "## Initialising the invironment by storing state of each square at random to be clean or dirty\n",
        "  rng = np.random.default_rng()\n",
        "  environment = rng.choice([\"Dirty\",\"Clean\"],size = (room_size,room_size))\n",
        "# The next line can be uncommented to see the environments states for each tile before cleaning\n",
        "# print(environment)\n",
        "\n",
        "  squares_cleaned = 0\n",
        "\n",
        "## Initialize a random position on the floor for the agent to then keep track of\n",
        "  agent_position = (np.random.randint(0,room_size), np.random.randint(0,room_size))\n",
        "\n",
        "  state = [\"Dirty\",\"Clean\"]\n",
        "## Initializing direction based coordinates to be implemented when moving\n",
        "\n",
        "  directions = {\n",
        "        \"north\": (-1,0),\n",
        "        \"south\": (1,0),\n",
        "        \"east\": (0,1),\n",
        "        \"west\": (0,-1)\n",
        "   }\n",
        "## Initializing bumpers to keep track of walls in this case will be out of bounds of an array\n",
        "  bumpers = {}\n",
        "## Initializing to keep track of the number of dirty spots to be cleaned\n",
        "  num_cleaned = 0\n",
        "## Keeping track of the number of Dirty spots are on the floor\n",
        "  counter= np.count_nonzero(environment == \"Dirty\")\n",
        "\n",
        "  orig_dirty = np.count_nonzero(environment == \"Dirty\")\n",
        "## Initializing the first Step\n",
        "  step = 0\n",
        "\n",
        "## Creating a loop to have the robot continue to clean until all dirty spots are cleaned\n",
        "  while 0 < counter:\n",
        "## Need to keep track of the bumpers by doing so looping through each direction to check if there are walls sensed\n",
        "## from the agents position. If a wall is sensed in this case an IndexError will populate and set the bumper direction\n",
        "## to True\n",
        "   for dir, (x,y) in directions.items():\n",
        "     try:\n",
        "       pos = agent_position[0] + x, agent_position[1] + y\n",
        "       if pos[0] < 0 or pos[1]<0 or pos[0]>=environment.shape[0] or pos[1]>=environment.shape[1]:\n",
        "         raise IndexError\n",
        "       else:\n",
        "         bumpers[dir] = False\n",
        "     except IndexError:\n",
        "        bumpers[dir] = True\n",
        "## Need to check current agents positions state whether clean or dirty\n",
        "   check = \"\"\n",
        "   if environment[agent_position]==state[0]:check = state[1]\n",
        "   else: check = state[0]\n",
        "   dirty = rng.choice([environment[agent_position],check], p = [.9, .1])\n",
        "\n",
        "## Call the agents function by providing the sensors inputs and whether the current position is clean or dirty\n",
        "## to gather an action for next steps to do when navigating the floor\n",
        "\n",
        "   action = agent_function(bumpers, dirty)\n",
        "\n",
        "## Check actions gathered from the agents function to then update the agents new position\n",
        "   if action == \"NA\": break\n",
        "   if action == \"north\" and bumpers[action] != True: agent_position = agent_position[0] - 1 , agent_position[1]\n",
        "   if action == \"south\" and bumpers[action] != True: agent_position = agent_position[0] + 1 , agent_position[1]\n",
        "   if action == \"east\" and bumpers[action] != True: agent_position = agent_position[0], agent_position[1] + 1\n",
        "   if action == \"west\" and bumpers[action] != True: agent_position = agent_position[0], agent_position[1] - 1\n",
        "\n",
        "## Need to make sure if the action is set to suck that the environments state is updated to Clean\n",
        "   if (action == \"suck\"):\n",
        "      if environment[agent_position] != 'Clean':\n",
        "        squares_cleaned = squares_cleaned + 1\n",
        "      environment[agent_position] = 'Clean'\n",
        "\n",
        "## Iterating the steps\n",
        "   step = step + 1\n",
        "## Checking dirty tiles and updating new counter\n",
        "   counter = np.count_nonzero(environment == \"Dirty\")\n",
        "#   The next line can be uncommented to see step by step the agents position\n",
        "#   if (verbose): print(\"step\", step , \"- action:\", action,\" Agent Position: \", agent_position)\n",
        "\n",
        "# The next line can be uncommented to see the environments states for each tile after cleaning\n",
        "#  print(environment)\n",
        "\n",
        "## returning the steps taken to completely clean all dirty squares\n",
        "  return [step,squares_cleaned,orig_dirty]\n"
      ]
    },
    {
      "cell_type": "code",
      "source": [
        "# Each agent will now be ran to show the performance for a dirty sensor\n",
        "# implemented showing the amount of steps and actual tiles cleaned along side\n",
        "# the efficiency for steps cleaned versus the squares cleaned.\n",
        "\n",
        "agent = Agent()\n",
        "mba = environment(model_based_agent,5)\n",
        "sra = environment(simple_reflex_agent,5)\n",
        "sranda = environment(simple_randomized_agent,5)\n",
        "\n",
        "print(f\"Model base reflex agent took {mba[0]} steps to clean a 5x5.\\n The agent was able to clean {round(mba[1]/mba[2]*100,2)}% of the dirty squares,\\n while the energy efficiency of the agents cleanliness is {round(mba[1]/mba[0]*100,2)}%\")\n",
        "print(f\"\\nSimple reflex agent took {sra[0]} steps to clean a 5x5.\\n The agent was able to clean {round(sra[1]/sra[2] * 100,2)}% of the dirty squares,\\n while the energy efficiency of the agents cleanliness is {round(sra[1]/sra[0]*100,2)}%\")\n",
        "print(f\"\\nSimple randomized agent took {sranda[0]} steps to clean a 5x5.\\n The agent was able to clean {round(sranda[1]/sranda[2] * 100,2)}% of the dirty squares,\\n while the energy efficiency of the agents cleanliness is {round(sranda[1]/sranda[0]*100,2)}%\")"
      ],
      "metadata": {
        "colab": {
          "base_uri": "https://localhost:8080/"
        },
        "id": "HA8XRmnh9CBC",
        "outputId": "423c8a05-0a67-437b-c3cf-313f13a4ba36"
      },
      "execution_count": 21,
      "outputs": [
        {
          "output_type": "stream",
          "name": "stdout",
          "text": [
            "Model base reflex agent took 41 steps to clean a 5x5.\n",
            " The agent was able to clean 78.57% of the dirty squares,\n",
            " while the energy efficiency of the agents cleanliness is 26.83%\n",
            "\n",
            "Simple reflex agent took 266 steps to clean a 5x5.\n",
            " The agent was able to clean 100.0% of the dirty squares,\n",
            " while the energy efficiency of the agents cleanliness is 4.51%\n",
            "\n",
            "Simple randomized agent took 637 steps to clean a 5x5.\n",
            " The agent was able to clean 100.0% of the dirty squares,\n",
            " while the energy efficiency of the agents cleanliness is 2.2%\n"
          ]
        }
      ]
    },
    {
      "cell_type": "code",
      "source": [
        "# Now we'll look to try to increase the performance of the Model base reflex\n",
        "# agent given it was unable to clean the entire room and will implement more iterations\n",
        "# for the agent to rerun through the cycle to recheck all tiles\n",
        "agent_no_reset = Agent()\n",
        "\n",
        "def model_based_agent_no_reset(bumpers, dirty):\n",
        "  action = agent_no_reset.act(bumpers,dirty)\n",
        "  return action\n",
        "\n",
        "agent_reset_1 = Agent()\n",
        "agent_reset_1_V1 = Agent()\n",
        "\n",
        "def model_based_agent_1_reset(bumpers, dirty):\n",
        "  action = agent_reset_1.act(bumpers,dirty)\n",
        "  if action == \"NA\":\n",
        "    action = agent_reset_1_V1.act(bumpers,dirty)\n",
        "  return action\n"
      ],
      "metadata": {
        "id": "HOAkC5Juvuc-"
      },
      "execution_count": 22,
      "outputs": []
    },
    {
      "cell_type": "code",
      "source": [
        "# now we'll check the performance against the model that goes through the tiles a second time\n",
        "mba = environment(model_based_agent_no_reset,5)\n",
        "print(f\"Model base reflex agent with no resets took {mba[0]} steps to clean a 5x5.\\n The agent was able to clean {round(mba[1]/mba[2]*100,2)}% of the dirty squares,\\n while the energy efficiency of the agents cleanliness is {round(mba[1]/mba[0]*100,2)}%\\n\")\n",
        "\n",
        "mba_1 = environment(model_based_agent_1_reset,5)\n",
        "print(f\"Model base reflex agent with 1 resets took {mba_1[0]} steps to clean a 5x5.\\n The agent was able to clean {round(mba_1[1]/mba_1[2]*100,2)}% of the dirty squares,\\n while the energy efficiency of the agents cleanliness is {round(mba_1[1]/mba_1[0]*100,2)}%\\n\")\n",
        "\n",
        "\n",
        "\n",
        "\n"
      ],
      "metadata": {
        "colab": {
          "base_uri": "https://localhost:8080/"
        },
        "id": "TaDBQ0TrIHkF",
        "outputId": "cc8d19ce-9041-453f-fd41-d537d3395297"
      },
      "execution_count": 23,
      "outputs": [
        {
          "output_type": "stream",
          "name": "stdout",
          "text": [
            "Model base reflex agent with no resets took 36 steps to clean a 5x5.\n",
            " The agent was able to clean 75.0% of the dirty squares,\n",
            " while the energy efficiency of the agents cleanliness is 25.0%\n",
            "\n",
            "Model base reflex agent with 1 resets took 61 steps to clean a 5x5.\n",
            " The agent was able to clean 100.0% of the dirty squares,\n",
            " while the energy efficiency of the agents cleanliness is 24.59%\n",
            "\n"
          ]
        }
      ]
    },
    {
      "cell_type": "markdown",
      "source": [
        "Given the above results there is a trade off in ensuring the room is completely cleaned when comparing the efficiency of maximizing the performance by revisiting each square in the room. This will increase the amount of steps taken and but decrease the efficiency of cleaning the room versus less."
      ],
      "metadata": {
        "id": "PznDgfk6lRNO"
      }
    }
  ],
  "metadata": {
    "kernelspec": {
      "display_name": "AI",
      "language": "python",
      "name": "python3"
    },
    "language_info": {
      "codemirror_mode": {
        "name": "ipython",
        "version": 3
      },
      "file_extension": ".py",
      "mimetype": "text/x-python",
      "name": "python",
      "nbconvert_exporter": "python",
      "pygments_lexer": "ipython3",
      "version": "3.10.12"
    },
    "toc-autonumbering": false,
    "colab": {
      "provenance": []
    }
  },
  "nbformat": 4,
  "nbformat_minor": 0
}