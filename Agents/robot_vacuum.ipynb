{
  "cells": [
    {
      "cell_type": "markdown",
      "metadata": {
        "id": "h6oAUIbRSal7"
      },
      "source": [
        "# Intelligent Agents: Reflex-Based Agents for the Vacuum-cleaner World\n",
        "\n",
        "Student Name: Jonathan Mejia\n",
        "\n",
        "I have used the following AI tools: [list tools]\n",
        "\n",
        "I understand that my submission needs to be my own work: JM\n",
        "\n",
        "## Instructions\n",
        "\n",
        "Total Points: Undergrads 100 + 5 bonus / Graduate students 110\n",
        "\n",
        "Complete this notebook. Use the provided notebook cells and insert additional code and markdown cells as needed. Submit the completely rendered notebook as a HTML file.\n",
        "\n",
        "### Using Visual Studio Code\n",
        "\n",
        "If you use VS code then you can use `Export` (click on `...` in the menu bar) to save your notebook as a HTML file. Note that you have to run all blocks before so the HTML file contains your output.\n",
        "\n",
        "### Using Google Colab\n",
        "\n",
        "In Colab you need to save the notebook on GoogleDrive to work with it. For this you need to mount your google dive and change to the correct directory by uncommenting the following lines and running the code block."
      ]
    },
    {
      "cell_type": "code",
      "execution_count": 23,
      "metadata": {
        "id": "85iO0MgtSal-"
      },
      "outputs": [],
      "source": [
        "# from google.colab import drive\n",
        "# import os\n",
        "#\n",
        "# drive.mount('/content/drive')\n",
        "# os.chdir('/content/drive/My Drive/Colab Notebooks/')"
      ]
    },
    {
      "cell_type": "markdown",
      "metadata": {
        "id": "d4gVmG0aSal-"
      },
      "source": [
        "Once you are done with the assignment and have run all code blocks using `Runtime/Run all`, you can convert the file on your GoogleDrive into HTML be uncommenting the following line and running the block."
      ]
    },
    {
      "cell_type": "code",
      "execution_count": 24,
      "metadata": {
        "id": "-dIhAljiSal_"
      },
      "outputs": [],
      "source": [
        "# !jupyter nbconvert --to html Copy\\ of\\ robot_vacuum.ipynb"
      ]
    },
    {
      "cell_type": "markdown",
      "metadata": {
        "id": "5lfHmFHKSal_"
      },
      "source": [
        "You may have to fix the file location or the file name to match how it looks on your GoogleDrive. You can navigate in Colab to your GoogleDrive using the little folder symbol in the navigation bar to the left."
      ]
    },
    {
      "cell_type": "markdown",
      "metadata": {
        "id": "8Oz7JunFSal_"
      },
      "source": [
        "## Introduction\n",
        "\n",
        "In this assignment you will implement a simulator environment for an automatic vacuum cleaner robot, a set of different reflex-based agent programs, and perform a comparison study for cleaning a single room. Focus on the __cleaning phase__ which starts when the robot is activated and ends when the last dirty square in the room has been cleaned. Someone else will take care of the agent program needed to navigate back to the charging station after the room is clean.\n",
        "\n",
        "## PEAS description of the cleaning phase\n",
        "\n",
        "__Performance Measure:__ Each action costs 1 energy unit. The performance is measured as the sum of the energy units used to clean the whole room.\n",
        "\n",
        "__Environment:__ A room with $n \\times n$ squares where $n = 5$. Dirt is randomly placed on each square with probability $p = 0.2$. For simplicity, you can assume that the agent knows the size and the layout of the room (i.e., it knows $n$). To start, the agent is placed on a random square.\n",
        "\n",
        "__Actuators:__ The agent can clean the current square (action `suck`) or move to an adjacent square by going `north`, `east`, `south`, or `west`.\n",
        "\n",
        "__Sensors:__ Four bumper sensors, one for north, east, south, and west; a dirt sensor reporting dirt in the current square.  \n",
        "\n",
        "\n",
        "## The agent program for a simple randomized agent\n",
        "\n",
        "The agent program is a function that gets sensor information (the current percepts) as the arguments. The arguments are:\n",
        "\n",
        "* A dictionary with boolean entries for the for bumper sensors `north`, `east`, `west`, `south`. E.g., if the agent is on the north-west corner, `bumpers` will be `{\"north\" : True, \"east\" : False, \"south\" : False, \"west\" : True}`.\n",
        "* The dirt sensor produces a boolean.\n",
        "\n",
        "The agent returns the chosen action as a string.\n",
        "\n",
        "Here is an example implementation for the agent program of a simple randomized agent:  "
      ]
    },
    {
      "cell_type": "code",
      "execution_count": 25,
      "metadata": {
        "id": "bvugTpIfSal_"
      },
      "outputs": [],
      "source": [
        "# make sure numpy is installed\n",
        "!pip install -q numpy"
      ]
    },
    {
      "cell_type": "code",
      "execution_count": 26,
      "metadata": {
        "id": "ElGKjil7Sal_"
      },
      "outputs": [],
      "source": [
        "import numpy as np\n",
        "\n",
        "actions = [\"north\", \"east\", \"west\", \"south\", \"suck\"]\n",
        "\n",
        "def simple_randomized_agent(bumpers, dirty):\n",
        "    return np.random.choice(actions)"
      ]
    },
    {
      "cell_type": "code",
      "execution_count": 27,
      "metadata": {
        "colab": {
          "base_uri": "https://localhost:8080/",
          "height": 35
        },
        "id": "IHIp3qfESamA",
        "outputId": "a57bd9fa-cf12-4c26-a52b-8815e0bcb69d"
      },
      "outputs": [
        {
          "output_type": "execute_result",
          "data": {
            "text/plain": [
              "'north'"
            ],
            "application/vnd.google.colaboratory.intrinsic+json": {
              "type": "string"
            }
          },
          "metadata": {},
          "execution_count": 27
        }
      ],
      "source": [
        "# define percepts (current location is NW corner and it is dirty)\n",
        "bumpers = {\"north\" : True, \"east\" : False, \"south\" : False, \"west\" : True}\n",
        "dirty = True\n",
        "\n",
        "# call agent program function with percepts and it returns an action\n",
        "simple_randomized_agent(bumpers, dirty)"
      ]
    },
    {
      "cell_type": "markdown",
      "metadata": {
        "id": "VC1b-R37SamA"
      },
      "source": [
        "__Note:__ This is not a rational intelligent agent. It ignores its sensors and may bump into a wall repeatedly or not clean a dirty square. You will be asked to implement rational agents below."
      ]
    },
    {
      "cell_type": "markdown",
      "metadata": {
        "id": "BwSLOWGWSamA"
      },
      "source": [
        "## Simple environment example\n",
        "\n",
        "We implement a simple simulation environment that supplies the agent with its percepts.\n",
        "The simple environment is infinite in size (bumpers are always `False`) and every square is always dirty, even if the agent cleans it. The environment function returns a different performance measure than the one specified in the PEAS description! Since the room is infinite and all squares are constantly dirty, the agent can never clean the whole room. Your implementation needs to implement the **correct performance measure.** The energy budget of the agent is specified as `max_steps`."
      ]
    },
    {
      "cell_type": "code",
      "execution_count": 28,
      "metadata": {
        "id": "7nxmBfO8SamA"
      },
      "outputs": [],
      "source": [
        "def simple_environment(agent_function, max_steps, verbose = True):\n",
        "    num_cleaned = 0\n",
        "\n",
        "    for i in range(max_steps):\n",
        "        dirty = True\n",
        "        bumpers = {\"north\" : False, \"south\" : False, \"west\" : False, \"east\" : False}\n",
        "\n",
        "        action = agent_function(bumpers, dirty)\n",
        "        if (verbose): print(\"step\", i , \"- action:\", action)\n",
        "\n",
        "        if (action == \"suck\"):\n",
        "            num_cleaned = num_cleaned + 1\n",
        "\n",
        "    return num_cleaned\n",
        "\n"
      ]
    },
    {
      "cell_type": "markdown",
      "metadata": {
        "id": "oQWPrbfESamB"
      },
      "source": [
        "Do one simulation run with a simple randomized agent that has enough energy for 20 steps."
      ]
    },
    {
      "cell_type": "code",
      "execution_count": 29,
      "metadata": {
        "colab": {
          "base_uri": "https://localhost:8080/"
        },
        "id": "GzU94_4aSamB",
        "outputId": "f2dc46d0-ca94-44a8-dcda-7eaa9f37eb4c"
      },
      "outputs": [
        {
          "output_type": "stream",
          "name": "stdout",
          "text": [
            "step 0 - action: suck\n",
            "step 1 - action: south\n",
            "step 2 - action: east\n",
            "step 3 - action: suck\n",
            "step 4 - action: north\n",
            "step 5 - action: north\n",
            "step 6 - action: east\n",
            "step 7 - action: north\n",
            "step 8 - action: south\n",
            "step 9 - action: west\n",
            "step 10 - action: south\n",
            "step 11 - action: south\n",
            "step 12 - action: suck\n",
            "step 13 - action: east\n",
            "step 14 - action: south\n",
            "step 15 - action: suck\n",
            "step 16 - action: west\n",
            "step 17 - action: suck\n",
            "step 18 - action: north\n",
            "step 19 - action: west\n"
          ]
        },
        {
          "output_type": "execute_result",
          "data": {
            "text/plain": [
              "5"
            ]
          },
          "metadata": {},
          "execution_count": 29
        }
      ],
      "source": [
        "simple_environment(simple_randomized_agent, max_steps = 20)"
      ]
    },
    {
      "cell_type": "markdown",
      "metadata": {
        "id": "usJY2QdcSamB"
      },
      "source": [
        "# Tasks\n",
        "\n",
        "## General [10 Points]\n",
        "\n",
        "1. Make sure that you use the latest version of this notebook.\n",
        "2. Your implementation can use libraries like math, numpy, scipy, but not libraries that implement intelligent agents or complete search algorithms. Try to keep the code simple! In this course, we want to learn about the algorithms and we often do not need to use object-oriented design.\n",
        "3. You notebook needs to be formatted professionally.\n",
        "    - Add additional markdown blocks for your description, comments in the code, add tables and use mathplotlib to produce charts where appropriate\n",
        "    - Do not show debugging output or include an excessive amount of output.\n",
        "    - Check that your submitted file is readable and contains all figures.\n",
        "4. Document your code. Use comments in the code and add a discussion of how your implementation works and your design choices.\n",
        "\n",
        "\n",
        "## Task 1: Implement a simulation environment [20 Points]\n",
        "\n",
        "The simple environment above is not very realistic. Your environment simulator needs to follow the PEAS description from above. It needs to:\n",
        "\n",
        "* Initialize the environment by storing the state of each square (clean/dirty) and making some dirty. ([Help with random numbers and arrays in Python](https://github.com/mhahsler/CS7320-AI/blob/master/HOWTOs/random_numbers_and_arrays.ipynb))\n",
        "* Keep track of the agent's position.\n",
        "* Call the agent function repeatedly and provide the agent function with the sensor inputs.  \n",
        "* React to the agent's actions. E.g, by removing dirt from a square or moving the agent around unless there is a wall in the way.\n",
        "* Keep track of the performance measure. That is, track the agent's actions until all dirty squares are clean and count the number of actions it takes the agent to complete the task.\n",
        "\n",
        "The easiest implementation for the environment is to hold an 2-dimensional array to represent if squares are clean or dirty and to call the agent function in a loop until all squares are clean or a predefined number of steps have been reached (i.e., the robot runs out of energy).\n",
        "\n",
        "The simulation environment should be a function like the `simple_environment()` and needs to work with the simple randomized agent program from above. **Use the same environment for all your agent implementations in the tasks below.**\n",
        "\n",
        "*Note on debugging:* Debugging is difficult. Make sure your environment prints enough information when you use `verbose = True`. Also, implementing a function that the environment can use to displays the room with dirt and the current position of the robot at every step is very useful.  "
      ]
    },
    {
      "cell_type": "code",
      "execution_count": 32,
      "metadata": {
        "id": "p3HK6K0ASamB"
      },
      "outputs": [],
      "source": [
        "# Your code and description goes here\n",
        "\n",
        "import numpy as np\n",
        "import collections\n",
        "\n",
        "\n",
        "def environment(agent_function, room_size, verbose = True):\n",
        "## Initialising the invironment by storing state of each square at random to be clean or dirty\n",
        "  rng = np.random.default_rng()\n",
        "  environment = rng.choice([\"Dirty\",\"Clean\"],size = (room_size,room_size))\n",
        "  #print(environment)\n",
        "\n",
        "## Initialize a random position of the agent to then keep track of\n",
        "  agent_position = (np.random.randint(0,room_size), np.random.randint(0,room_size))\n",
        "#  print(agent_position)\n",
        "\n",
        "  directions = {\n",
        "        \"north\": (-1,0),\n",
        "        \"south\": (1,0),\n",
        "        \"east\": (0,1),\n",
        "        \"west\": (0,-1)\n",
        "   }\n",
        "  bumpers = {}\n",
        "  num_cleaned = 0\n",
        "  counter= np.count_nonzero(environment == \"Dirty\")\n",
        "  #print(counter)\n",
        "  step = 1\n",
        "  while 0 < counter:\n",
        "\n",
        "   for dir, (x,y) in directions.items():\n",
        "     try:\n",
        "       pos = agent_position[0] + x, agent_position[1] + y\n",
        "       if pos[0] < 0 or pos[1]<0 or pos[0]>=environment.shape[0] or pos[1]>=environment.shape[1]:\n",
        "         raise IndexError\n",
        "       else:\n",
        "         bumpers[dir] = False\n",
        "     except IndexError:\n",
        "        bumpers[dir] = True\n",
        "   dirty = environment[agent_position]\n",
        "## Sees how many tiles are dirty\n",
        "   counter= np.count_nonzero(environment == \"Dirty\")\n",
        "\n",
        "## iterate until the max steps are met\n",
        "\n",
        "\n",
        "   action = agent_function(bumpers, dirty)\n",
        "   ### Just for testing\n",
        "   if action == \"NA\": break\n",
        "\n",
        "   if action == \"north\" and bumpers[action] != True: agent_position = agent_position[0] - 1 , agent_position[1]\n",
        "   if action == \"south\" and bumpers[action] != True: agent_position = agent_position[0] + 1 , agent_position[1]\n",
        "   if action == \"east\" and bumpers[action] != True: agent_position = agent_position[0], agent_position[1] + 1\n",
        "   if action == \"west\" and bumpers[action] != True: agent_position = agent_position[0], agent_position[1] - 1\n",
        "   #if (verbose): print(\"step\", step , \"- action:\", action,\" Position: \", agent_position)\n",
        "\n",
        "   if (action == \"suck\"):\n",
        "      environment[agent_position] = 'Clean'\n",
        "   step = step + 1\n",
        "   counter= np.count_nonzero(environment == \"Dirty\")\n",
        "\n",
        "  #print(environment)\n",
        "  #print(f\"The robot took {step} steps to clean the entire room.\")\n",
        "  return step\n",
        "\n",
        "\n",
        "\n",
        "\n",
        "#  counter= np.count_nonzero(environment == \"Dirty\")\n",
        "#  print(\"\\nThere are \" , counter , \" occurences of a block being dirty\")\n",
        "\n",
        "\n",
        "\n"
      ]
    },
    {
      "cell_type": "markdown",
      "metadata": {
        "id": "uzeZFc4qSamB"
      },
      "source": [
        "Show that your environment works with the simple randomized agent from above."
      ]
    },
    {
      "cell_type": "code",
      "execution_count": 37,
      "metadata": {
        "colab": {
          "base_uri": "https://localhost:8080/"
        },
        "id": "sYJRqQBwSamB",
        "outputId": "0a26b027-31d2-4a04-8033-b0e06ab0564a"
      },
      "outputs": [
        {
          "output_type": "stream",
          "name": "stdout",
          "text": [
            "Took the agent 797 steps to clean the room\n"
          ]
        }
      ],
      "source": [
        "# Your code and description goes here\n",
        "\n",
        "print(f\"Took the agent {environment(simple_randomized_agent,5)} steps to clean the room\")\n"
      ]
    },
    {
      "cell_type": "markdown",
      "metadata": {
        "id": "KgWVpbAwSamB"
      },
      "source": [
        "## Task 2:  Implement a simple reflex agent [10 Points]\n",
        "\n",
        "The simple reflex agent randomly walks around but reacts to the bumper sensor by not bumping into the wall and to dirt with sucking. Implement the agent program as a function.\n",
        "\n",
        "_Note:_ Agents cannot directly use variable in the environment. They only gets the percepts as the arguments to the agent function. Use the function signature for the `simple_randomized_agent` function above."
      ]
    },
    {
      "cell_type": "code",
      "execution_count": 38,
      "metadata": {
        "id": "y_OtcS5ESamC"
      },
      "outputs": [],
      "source": [
        "# Your code and description goes here\n",
        "\n",
        "def simple_reflex_agent(bumpers, dirty):\n",
        "    rng = np.random.default_rng()\n",
        "    random_dir_available = []\n",
        "    if dirty == \"Dirty\":\n",
        "      return 'suck'\n",
        "    for i in bumpers:\n",
        "      if bumpers[i] == False: random_dir_available.append(i)\n",
        "    return rng.choice(random_dir_available)"
      ]
    },
    {
      "cell_type": "markdown",
      "metadata": {
        "id": "fGvvKcl8SamC"
      },
      "source": [
        "Show how the agent works with your environment."
      ]
    },
    {
      "cell_type": "code",
      "execution_count": 39,
      "metadata": {
        "colab": {
          "base_uri": "https://localhost:8080/"
        },
        "id": "rPOuNmWySamC",
        "outputId": "ba979d16-ee1c-4e07-b922-f986e9891483"
      },
      "outputs": [
        {
          "output_type": "stream",
          "name": "stdout",
          "text": [
            "Took the simple reflex agent 228 steps to clean the room\n"
          ]
        }
      ],
      "source": [
        "# Your code and description goes here\n",
        "\n",
        "print(f\"Took the simple reflex agent {environment(simple_reflex_agent,5)} steps to clean the room\")\n",
        "\n"
      ]
    },
    {
      "cell_type": "markdown",
      "metadata": {
        "id": "yRYpl6zkSamC"
      },
      "source": [
        "## Task 3: Implement a model-based reflex agent [20 Points]\n",
        "\n",
        "Model-based agents use a state to keep track of what they have done and perceived so far. Your agent needs to find out where it is located and then keep track of its current location. You also need a set of rules based on the state and the percepts to make sure that the agent will clean the whole room. For example, the agent can move to a corner to determine its location and then it can navigate through the whole room and clean dirty squares.\n",
        "\n",
        "Describe how you define the __agent state__ and how your agent works before implementing it. ([Help with implementing state information on Python](https://github.com/mhahsler/CS7320-AI/blob/master/HOWTOs/store_agent_state_information.ipynb))"
      ]
    },
    {
      "cell_type": "code",
      "execution_count": 40,
      "metadata": {
        "id": "uFV_xWsISamC"
      },
      "outputs": [],
      "source": [
        "# Your short description of the state and your implementation goes here\n",
        "class Agent:\n",
        "  def __init__(self):\n",
        "    self.position = (0,0)\n",
        "    self.visited = []\n",
        "    self.start_cleaning = False\n",
        "\n",
        "  def act(self, bumpers, dirty):\n",
        "    while self.start_cleaning == False:\n",
        "      if bumpers['north'] != True: return 'north'\n",
        "      if bumpers['west'] != True: return 'west'\n",
        "      self.start_cleaning = True\n",
        " #     print(self.start_cleaning)\n",
        "    if dirty == 'Dirty': return 'suck'\n",
        "    self.visited.append(self.position)\n",
        "    while bumpers['south']!= True and (self.position[0] + 1, self.position[1]) not in self.visited:\n",
        "      self.position = self.position[0] + 1, self.position[1]\n",
        "      return 'south'\n",
        "    while bumpers['east']!= True and (self.position[0], self.position[1]+1) not in self.visited:\n",
        "      self.position = self.position[0] , self.position[1] + 1\n",
        "      return 'east'\n",
        "    while bumpers['north']!= True and (self.position[0]-1, self.position[1]) not in self.visited:\n",
        "      self.position = self.position[0]-1 , self.position[1]\n",
        "      return 'north'\n",
        "    while bumpers['west']!= True and (self.position[0], self.position[1]-1) not in self.visited:\n",
        "      self.position = self.position[0] , self.position[1] - 1\n",
        "      return 'west'\n",
        " #   print(self.visited)\n",
        "    return \"NA\"\n",
        "\n"
      ]
    },
    {
      "cell_type": "code",
      "execution_count": 41,
      "metadata": {
        "id": "9-YOZECgSamC"
      },
      "outputs": [],
      "source": [
        "# Your code goes here\n",
        "agent = Agent()\n",
        "\n",
        "def model_based_agent(bumpers, dirty):\n",
        "  return agent.act(bumpers,dirty)\n"
      ]
    },
    {
      "cell_type": "markdown",
      "metadata": {
        "id": "Y7443pv0SamC"
      },
      "source": [
        "Show how the agent works with your environment."
      ]
    },
    {
      "cell_type": "code",
      "execution_count": 42,
      "metadata": {
        "colab": {
          "base_uri": "https://localhost:8080/"
        },
        "id": "lJg9Gc5GSamC",
        "outputId": "93e50712-5839-4b5b-d2f5-c222a7e6360a"
      },
      "outputs": [
        {
          "output_type": "stream",
          "name": "stdout",
          "text": [
            "Took the simple reflex agent 38 steps to clean the room\n"
          ]
        }
      ],
      "source": [
        "# Your code goes here\n",
        "\n",
        "print(f\"Took the simple reflex agent {environment(model_based_agent,5)} steps to clean the room\")\n",
        "\n"
      ]
    },
    {
      "cell_type": "markdown",
      "metadata": {
        "id": "-DfNWy3-SamC"
      },
      "source": [
        "## Task 4: Simulation study [30 Points]\n",
        "\n",
        "Compare the performance (the performance measure is defined in the PEAS description above) of the agents using  environments of different size. Do at least $5 \\times 5$, $10 \\times 10$ and\n",
        "$100 \\times 100$. Use 100 random runs for each. Present the results using tables and graphs. Discuss the differences between the agents.\n",
        "([Help with charts and tables in Python](https://github.com/mhahsler/CS7320-AI/blob/master/HOWTOs/charts_and_tables.ipynb))"
      ]
    },
    {
      "cell_type": "code",
      "execution_count": null,
      "metadata": {
        "colab": {
          "base_uri": "https://localhost:8080/"
        },
        "id": "OTs5T98VSamC",
        "outputId": "d2fbc8c7-2154-4523-f198-4914e99b0223"
      },
      "outputs": [
        {
          "output_type": "stream",
          "name": "stdout",
          "text": [
            "Model based reflex agent average 40.03 by a 5 X 5\n",
            "Model based reflex agent average 157.84 by a 10 X 10\n"
          ]
        }
      ],
      "source": [
        "# Your code goes here\n",
        "\n",
        "runs = [5,10,100]\n",
        "\n",
        "model_avg = 0\n",
        "\n",
        "for i in range(len(runs)):\n",
        "\n",
        "  for j in range(100):\n",
        "\n",
        "    agent = Agent()\n",
        "    model_avg = model_avg + environment(model_based_agent,runs[i])\n",
        "\n",
        "  print(f\"Model based reflex agent took an average over 100 iterations {model_avg/100} steps to clean a {runs[i]} X {runs[i]} room \")\n",
        "\n",
        "  model_avg = 0\n",
        "\n"
      ]
    },
    {
      "cell_type": "code",
      "source": [
        "runs = [5,10,100]\n",
        "\n",
        "reflex_avg = 0\n",
        "\n",
        "for i in range(len(runs)):\n",
        "\n",
        "  for j in range(100):\n",
        "\n",
        "    reflex_avg = reflex_avg + environment(simple_reflex_agent,runs[i])\n",
        "\n",
        "  print(f\"Simple reflex agent took an average over 100 iterations {model_avg/100} steps to clean a {runs[i]} X {runs[i]} room \")\n",
        "\n",
        "  reflex_avg = 0\n"
      ],
      "metadata": {
        "id": "vwuBHBjiyO-X"
      },
      "execution_count": null,
      "outputs": []
    },
    {
      "cell_type": "code",
      "source": [
        "runs = [5,10,100]\n",
        "\n",
        "random_avg = 0\n",
        "\n",
        "for i in range(len(runs)):\n",
        "\n",
        "  for j in range(100):\n",
        "\n",
        "    random_avg = random_avg + environment(c,runs[i])\n",
        "\n",
        "  print(f\"Simple random agent took an average over 100 iterations {model_avg/100} steps to clean a {runs[i]} X {runs[i]} room \")\n",
        "\n",
        "  random_avg = 0\n"
      ],
      "metadata": {
        "id": "cj1BX6jeyPn3"
      },
      "execution_count": null,
      "outputs": []
    },
    {
      "cell_type": "markdown",
      "metadata": {
        "id": "7MP77q4YSamD"
      },
      "source": [
        "Fill out the following table with the average performance measure for 100 random runs (you may also create this table with code):\n",
        "\n",
        "| Size     | Randomized Agent | Simple Reflex Agent | Model-based Reflex Agent |\n",
        "|----------|------------------|---------------------|--------------------------|\n",
        "| 5x5     | | | |\n",
        "| 10x10   | | | |\n",
        "| 100x100 | | | |\n",
        "\n",
        "Add charts to compare the performance of the different agents."
      ]
    },
    {
      "cell_type": "code",
      "source": [],
      "metadata": {
        "id": "5hcycyK5y43T"
      },
      "execution_count": null,
      "outputs": []
    },
    {
      "cell_type": "markdown",
      "metadata": {
        "id": "7Z841URRSamD"
      },
      "source": [
        "## Task 5: Robustness of the agent implementations [10 Points]\n",
        "\n",
        "Describe how **your agent implementations** will perform\n",
        "\n",
        "* if it is put into a rectangular room with unknown size,\n",
        "* if the cleaning area can have an irregular shape (e.g., a hallway connecting two rooms), or\n",
        "* if the room contains obstacles (i.e., squares that it cannot pass through and trigger the bumper sensors).\n",
        "* if the dirt sensor is not perfect and gives 10% of the time a wrong reading (clean when it is dirty or dirty when it is clean).\n",
        "* if the bumper sensor is not perfect and 10% of the time does not report a wall when there is one."
      ]
    },
    {
      "cell_type": "code",
      "execution_count": null,
      "metadata": {
        "id": "x9AQTkwBSamD"
      },
      "outputs": [],
      "source": [
        "# Answers goes here"
      ]
    },
    {
      "cell_type": "markdown",
      "metadata": {
        "id": "CNsF4_VgSamD"
      },
      "source": [
        "## Advanced task: Imperfect Dirt Sensor\n",
        "\n",
        "* __Graduate students__ need to complete this task [10 points]\n",
        "* __Undergraduate students__ can attempt this as a bonus task [max +5 bonus points].\n",
        "\n",
        "1. Change your simulation environment to run experiments for the following problem: The dirt sensor has a 10% chance of giving the wrong reading. Perform experiments to observe how this changes the performance of the three implementations. Your model-based reflex agent is likely not able to clean the whole room, so you need to measure performance differently as a tradeoff between energy cost and number of uncleaned squares.\n",
        "\n",
        "2. Design an implement a solution for your model-based agent that will clean better. Show the improvement with experiments."
      ]
    },
    {
      "cell_type": "code",
      "execution_count": null,
      "metadata": {
        "id": "nEeBErHJSamD"
      },
      "outputs": [],
      "source": [
        "# Your code and discussion goes here"
      ]
    },
    {
      "cell_type": "markdown",
      "metadata": {
        "id": "Pl2SMtx-SamE"
      },
      "source": [
        "## More advanced implementation tasks\n",
        "\n",
        "* __Obstacles:__ Change your simulation environment to run experiments for the following problem: Add random obstacle squares that also trigger the bumper sensor. The agent does not know where the obstacles are. Perform experiments to observe how this changes the performance of the three implementations. Describe what would need to be done to perform better with obstacles. Add code if you can.\n",
        "\n",
        "* __Agent for and environment with obstacles:__ Implement an agent for an environment where the agent does not know how large the environment is (we assume it is rectangular), where it starts or where the obstacles are. An option would be to always move to the closest unchecked/uncleaned square (note that this is actually depth-first search).\n",
        "\n",
        "* __Utility-based agent:__ Change the environment for a $5 \\times 5$ room, so each square has a fixed probability of getting dirty again. For the implementation, we give the environment a 2-dimensional array of probabilities. The utility of a state is defined as the number of currently clean squares in the room. Implement a utility-based agent that maximizes the expected utility over one full charge which lasts for 100000 time steps. To do this, the agent needs to learn the probabilities with which different squares get dirty again. This is very tricky!"
      ]
    },
    {
      "cell_type": "code",
      "execution_count": null,
      "metadata": {
        "id": "gej1AKxESamE"
      },
      "outputs": [],
      "source": [
        "# Your ideas/code"
      ]
    }
  ],
  "metadata": {
    "kernelspec": {
      "display_name": "AI",
      "language": "python",
      "name": "python3"
    },
    "language_info": {
      "codemirror_mode": {
        "name": "ipython",
        "version": 3
      },
      "file_extension": ".py",
      "mimetype": "text/x-python",
      "name": "python",
      "nbconvert_exporter": "python",
      "pygments_lexer": "ipython3",
      "version": "3.10.12"
    },
    "toc-autonumbering": false,
    "colab": {
      "provenance": []
    }
  },
  "nbformat": 4,
  "nbformat_minor": 0
}